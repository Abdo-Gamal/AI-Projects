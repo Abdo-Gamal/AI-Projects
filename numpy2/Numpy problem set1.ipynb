{
 "cells": [
  {
   "cell_type": "markdown",
   "id": "d466fa98-10a1-47b9-8580-4535940ad41f",
   "metadata": {},
   "source": [
    "The code problems sets in this excercise sheet are taken from many helpful resources.   \n",
    "Check them out for further practice:     \n",
    "\n",
    "https://www.kaggle.com/utsav15/100-numpy-exercises  \n",
    "https://www.w3resource.com/python-exercises/numpy/index.php   \n",
    "https://www.machinelearningplus.com/python/101-numpy-exercises-python/  \n",
    "https://www.geeksforgeeks.org/python-numpy-practice-exercises-questions-and-solutions/    (Multiple solutions per problem)   \n",
    "https://favtutor.com/blogs/numpy-exercises-python    \n",
    "\n",
    "Level your coding skills by solving challenges:   \n",
    "https://www.hackerrank.com/domains/python/numpy/difficulty/all/page/1  \n"
   ]
  },
  {
   "cell_type": "code",
   "execution_count": 1,
   "id": "1fa92f1a-0078-491d-9ef3-912fa5ce6d9e",
   "metadata": {},
   "outputs": [],
   "source": [
    "import numpy as np"
   ]
  },
  {
   "cell_type": "markdown",
   "id": "34a905c5-97d3-4fd7-bcf4-7e906f964b7d",
   "metadata": {},
   "source": [
    "\n",
    "# Question: Create a null vector of size 10\n"
   ]
  },
  {
   "cell_type": "code",
   "execution_count": 4,
   "id": "a7a398ec-d15b-45b5-938f-b13262cea8ec",
   "metadata": {},
   "outputs": [
    {
     "name": "stdout",
     "output_type": "stream",
     "text": [
      "[0. 0. 0. 0. 0. 0. 0. 0. 0. 0.]\n"
     ]
    }
   ],
   "source": [
    "\n",
    "Z= np.zeros(10)\n",
    "print(Z)\n"
   ]
  },
  {
   "cell_type": "markdown",
   "id": "e82dd65e-ccb0-4096-b63b-756ba7eb0a54",
   "metadata": {},
   "source": [
    "# Question: Create a vector with values ranging from 10 to 49"
   ]
  },
  {
   "cell_type": "code",
   "execution_count": 12,
   "id": "cfbd0462-6e6f-40b0-8611-75b9a7fa110c",
   "metadata": {},
   "outputs": [
    {
     "data": {
      "text/plain": [
       "array([10, 11, 12, 13, 14, 15, 16, 17, 18, 19, 20, 21, 22, 23, 24, 25, 26,\n",
       "       27, 28, 29, 30, 31, 32, 33, 34, 35, 36, 37, 38, 39, 40, 41, 42, 43,\n",
       "       44, 45, 46, 47, 48, 49])"
      ]
     },
     "execution_count": 12,
     "metadata": {},
     "output_type": "execute_result"
    }
   ],
   "source": [
    "Z=np.arange(10,50)\n",
    "Z"
   ]
  },
  {
   "cell_type": "markdown",
   "id": "5eda5d21-d056-4f93-a3ef-d32f9d73aa4c",
   "metadata": {},
   "source": [
    "\n",
    "# Question: Reverse a vector (first element becomes last)\n"
   ]
  },
  {
   "cell_type": "code",
   "execution_count": 15,
   "id": "2f2df79e-e01c-4e90-90ae-37df03f131d8",
   "metadata": {},
   "outputs": [
    {
     "data": {
      "text/plain": [
       "array([49, 48, 47, 46, 45, 44, 43, 42, 41, 40, 39, 38, 37, 36, 35, 34, 33,\n",
       "       32, 31, 30, 29, 28, 27, 26, 25, 24, 23, 22, 21, 20, 19, 18, 17, 16,\n",
       "       15, 14, 13, 12, 11, 10])"
      ]
     },
     "execution_count": 15,
     "metadata": {},
     "output_type": "execute_result"
    }
   ],
   "source": [
    "Z[::-1]"
   ]
  },
  {
   "cell_type": "code",
   "execution_count": 18,
   "id": "a276ce32-38d2-465a-be17-13a52a0a2a27",
   "metadata": {},
   "outputs": [
    {
     "name": "stdout",
     "output_type": "stream",
     "text": [
      "[49 48 47 46 45 44 43 42 41 40 39 38 37 36 35 34 33 32 31 30 29 28 27 26\n",
      " 25 24 23 22 21 20 19 18 17 16 15 14 13 12 11 10]\n"
     ]
    }
   ],
   "source": [
    "Z2 = np.flip(Z)            # https://numpy.org/doc/stable/reference/generated/numpy.flip.html \n",
    "print(Z2)\n"
   ]
  },
  {
   "cell_type": "code",
   "execution_count": 17,
   "id": "0833d8d3-fa8e-4bc0-830c-46c1bb789c44",
   "metadata": {},
   "outputs": [
    {
     "data": {
      "text/plain": [
       "array([50, 49, 48, 47, 46, 45, 44, 43, 42, 41, 40, 39, 38, 37, 36, 35, 34,\n",
       "       33, 32, 31, 30, 29, 28, 27, 26, 25, 24, 23, 22, 21, 20, 19, 18, 17,\n",
       "       16, 15, 14, 13, 12, 11, 10,  9,  8,  7,  6,  5,  4,  3,  2,  1])"
      ]
     },
     "execution_count": 17,
     "metadata": {},
     "output_type": "execute_result"
    }
   ],
   "source": [
    "np.arange(50,0,-1)"
   ]
  },
  {
   "attachments": {},
   "cell_type": "markdown",
   "id": "5e1321a2-8c66-4068-a1ac-1ddc745e1734",
   "metadata": {},
   "source": [
    "\n",
    "# Question: Create a 3x3 matrix with values ranging from 0 to 8"
   ]
  },
  {
   "cell_type": "code",
   "execution_count": 19,
   "id": "a18f3e87-6b63-4fd2-baaa-748f8a0cc6fd",
   "metadata": {},
   "outputs": [
    {
     "data": {
      "text/plain": [
       "array([[0, 1, 2],\n",
       "       [3, 4, 5],\n",
       "       [6, 7, 8]])"
      ]
     },
     "execution_count": 19,
     "metadata": {},
     "output_type": "execute_result"
    }
   ],
   "source": [
    "np.arange(9).reshape(3,3)"
   ]
  },
  {
   "cell_type": "markdown",
   "id": "2d00c299-d239-4e25-bacd-fc1321e562f7",
   "metadata": {},
   "source": [
    "\n",
    "# Question: Find indices of non-zero elements from [1,2,0,0,4,0]"
   ]
  },
  {
   "cell_type": "code",
   "execution_count": 28,
   "id": "07460ac5-bd9a-4b39-b99d-52999f458a45",
   "metadata": {},
   "outputs": [
    {
     "data": {
      "text/plain": [
       "array([1, 2, 4])"
      ]
     },
     "execution_count": 28,
     "metadata": {},
     "output_type": "execute_result"
    }
   ],
   "source": [
    "Z=np.array([1,2,0,0,4,0])       # value \n",
    "Z[Z>0]"
   ]
  },
  {
   "cell_type": "code",
   "execution_count": 36,
   "id": "0f4fd545-577a-4117-9485-90220d60f86e",
   "metadata": {},
   "outputs": [
    {
     "name": "stdout",
     "output_type": "stream",
     "text": [
      "(array([0, 1, 4], dtype=int64),)\n",
      "[0 1 4]\n",
      "[1 2 4]\n",
      "[1 2 4]\n"
     ]
    }
   ],
   "source": [
    "idx=Z.nonzero()      # index\n",
    "print(idx)\n",
    "print(idx[0])\n",
    "print(Z[idx])\n",
    "print(Z[idx[0]])\n"
   ]
  },
  {
   "cell_type": "markdown",
   "id": "05da49c1-56d3-45f2-908a-a88636188253",
   "metadata": {},
   "source": [
    "# Question: Create a 10x10 array with random values and find the minimum, maximum and mean values    \n",
    "\n",
    "\n",
    "# Answer:"
   ]
  },
  {
   "cell_type": "code",
   "execution_count": 47,
   "id": "67429bab-3140-4506-aeb5-7364adb06a5a",
   "metadata": {},
   "outputs": [
    {
     "name": "stdout",
     "output_type": "stream",
     "text": [
      "0.011077608391733662 0.9735914158861056 0.42926317792506674\n"
     ]
    }
   ],
   "source": [
    "\n",
    "Z= np.random.default_rng().random((10,10))\n",
    "Zmin, Zmax, Zmean = Z.min(), Z.max(), Z.mean()\n",
    "print (Zmin, Zmax, Zmean)"
   ]
  },
  {
   "cell_type": "code",
   "execution_count": 131,
   "id": "ea400aa4-ca85-4d84-9da5-88f0cb6bba55",
   "metadata": {},
   "outputs": [
    {
     "name": "stdout",
     "output_type": "stream",
     "text": [
      "0.01957083634039236 0.9962665605466694 0.4625893486057948\n"
     ]
    }
   ],
   "source": [
    "# float numberabs \n",
    "Z=np.random.random((10,10))\n",
    "Zmin, Zmax, Zmean = Z.min(), Z.max(), Z.mean()\n",
    "print (Zmin, Zmax, Zmean)\n"
   ]
  },
  {
   "cell_type": "code",
   "execution_count": 134,
   "id": "f1c5af67-d1f6-4a76-a174-73ae88073666",
   "metadata": {},
   "outputs": [
    {
     "name": "stdout",
     "output_type": "stream",
     "text": [
      "0 9 4.07\n"
     ]
    }
   ],
   "source": [
    "# integer numberabs \n",
    "Z=np.random.randint(0,10,(10,10))\n",
    "Zmin, Zmax, Zmean = Z.min(), Z.max(), Z.mean()\n",
    "print (Zmin, Zmax, Zmean)"
   ]
  },
  {
   "cell_type": "markdown",
   "id": "ca508dda-013b-4dff-aeb0-04ce76ab8474",
   "metadata": {},
   "source": [
    "\n",
    "# Question: What is the result of the following expressions?\n",
    "\n",
    "\n",
    "print(0 * np.nan)  \n",
    "print(np.nan == np.nan)   \n",
    "print(np.inf > np.nan)  \n",
    "print(np.nan - np.nan)   \n",
    "print(np.nan in set([np.nan]))   \n",
    "print(0.3 == 3*0.1)   \n",
    "\n",
    "# Answer\n"
   ]
  },
  {
   "cell_type": "code",
   "execution_count": 81,
   "id": "9846fa61-f813-481e-86dc-e2c4d350f80d",
   "metadata": {},
   "outputs": [
    {
     "name": "stdout",
     "output_type": "stream",
     "text": [
      "nan\n",
      "False\n",
      "False\n",
      "nan\n",
      "True\n",
      "False\n"
     ]
    }
   ],
   "source": [
    "print(0*np.nan)\n",
    "print (np.nan == np.nan)\n",
    "print(np.inf> np.nan)\n",
    "print(np.nan- np.nan)\n",
    "print(np.nan in set([np.nan]))\n",
    "print(0.3==3*0.1)"
   ]
  },
  {
   "cell_type": "code",
   "execution_count": 83,
   "id": "88abe44d-8832-4593-85b6-1a40e670b828",
   "metadata": {},
   "outputs": [
    {
     "data": {
      "text/plain": [
       "{nan}"
      ]
     },
     "execution_count": 83,
     "metadata": {},
     "output_type": "execute_result"
    }
   ],
   "source": [
    "set([np.nan])"
   ]
  },
  {
   "cell_type": "markdown",
   "id": "53cb8e60-6d86-4a76-b2a7-b5923c5a3df0",
   "metadata": {},
   "source": [
    "# Question: Write a NumPy program to convert a list and tuple into arrays.\n",
    "\n",
    "List to array: [1 2 3 4 5 6 7 8]   \n",
    "Tuples to array: ((8, 4), (6,1), (2, 3))\n",
    "\n",
    "# Answer:"
   ]
  },
  {
   "cell_type": "code",
   "execution_count": 86,
   "id": "72dc7e82-710e-48ee-b66c-c783028a3b98",
   "metadata": {},
   "outputs": [
    {
     "name": "stdout",
     "output_type": "stream",
     "text": [
      "List to array: \n",
      "[1 2 3 4 5 6 7 8]\n",
      "Tuples to array: \n",
      "[[8 4]\n",
      " [6 1]\n",
      " [2 3]]\n"
     ]
    }
   ],
   "source": [
    "my_list = [1, 2, 3, 4, 5, 6, 7, 8]        # only one function\n",
    "print(\"List to array: \") \n",
    "print(np.array(my_list))\n",
    "my_tuple =((8, 4), (6,1), (2, 3))\n",
    "print(\"Tuples to array: \")\n",
    "print(np.array(my_tuple))"
   ]
  },
  {
   "cell_type": "markdown",
   "id": "29ab531b-1f30-43a0-8524-e0bac866cbfd",
   "metadata": {},
   "source": [
    "# Question: Write a NumPy program to append values to the end of an array. \n",
    "original array: [10, 20, 30] After append values to the end of the array: [10 20 30 40 50 60 70 80 90]    \n",
    "\n",
    "\n",
    "# Answer:"
   ]
  },
  {
   "cell_type": "code",
   "execution_count": 89,
   "id": "5799f803-492b-4c86-bf91-7ffd8489aae1",
   "metadata": {},
   "outputs": [
    {
     "name": "stdout",
     "output_type": "stream",
     "text": [
      "<class 'list'>\n",
      "original array: \n",
      "[10, 20, 30]\n",
      "After append values to the end of the array: \n",
      "[10 20 30 40 50 60 70 80 90]\n",
      "<class 'numpy.ndarray'>\n"
     ]
    },
    {
     "ename": "AttributeError",
     "evalue": "'numpy.ndarray' object has no attribute 'append'",
     "output_type": "error",
     "traceback": [
      "\u001b[1;31m---------------------------------------------------------------------------\u001b[0m",
      "\u001b[1;31mAttributeError\u001b[0m                            Traceback (most recent call last)",
      "Cell \u001b[1;32mIn[89], line 10\u001b[0m\n\u001b[0;32m      8\u001b[0m \u001b[38;5;28mprint\u001b[39m(\u001b[38;5;28mtype\u001b[39m(x))                                 \u001b[38;5;66;03m#  X change to  array\u001b[39;00m\n\u001b[0;32m      9\u001b[0m                                                \u001b[38;5;66;03m# array after creation can not change or append   you can concat , hstack   \u001b[39;00m\n\u001b[1;32m---> 10\u001b[0m x\u001b[38;5;241m.\u001b[39mappend([\u001b[38;5;241m88\u001b[39m,\u001b[38;5;241m88\u001b[39m])\n",
      "\u001b[1;31mAttributeError\u001b[0m: 'numpy.ndarray' object has no attribute 'append'"
     ]
    }
   ],
   "source": [
    "x = [10, 20, 30]\n",
    "print(type(x))\n",
    "print(\"original array: \") \n",
    "print(x)\n",
    "x = np.append(x, [[40, 50, 60], [70, 80, 90]]) \n",
    "print(\"After append values to the end of the array: \")\n",
    "print(x)\n",
    "print(type(x))                                 #  X change to  array\n",
    "                                               # array after creation can not change or append   you can concat , hstack   \n",
    "x.append([88,88])                               # numpy array unlike list do not have  append method  "
   ]
  },
  {
   "cell_type": "code",
   "execution_count": 94,
   "id": "33a55c36-3089-488c-99ce-78ad6e0d7a13",
   "metadata": {},
   "outputs": [
    {
     "name": "stdout",
     "output_type": "stream",
     "text": [
      "[1 2 3] [1 2 3 4 5]\n"
     ]
    }
   ],
   "source": [
    "x=np.array([1,2,3])\n",
    "y=[4,5]\n",
    "z=np.concatenate((x,y))    # return new object \n",
    "print(x,z)"
   ]
  },
  {
   "cell_type": "markdown",
   "id": "9e6a5c10-6bc1-43c6-84b9-a57d01ed860d",
   "metadata": {},
   "source": [
    "# Question: How to add a border (filled with O's) around an existing array?   \n",
    "\n",
    "\n",
    "# Answer:"
   ]
  },
  {
   "cell_type": "code",
   "execution_count": 98,
   "id": "9585d616-3104-4d6f-b48b-d1effcebe984",
   "metadata": {},
   "outputs": [
    {
     "name": "stdout",
     "output_type": "stream",
     "text": [
      "[[0. 0. 0. 0. 0. 0. 0.]\n",
      " [0. 1. 1. 1. 1. 1. 0.]\n",
      " [0. 1. 1. 1. 1. 1. 0.]\n",
      " [0. 1. 1. 1. 1. 1. 0.]\n",
      " [0. 1. 1. 1. 1. 1. 0.]\n",
      " [0. 1. 1. 1. 1. 1. 0.]\n",
      " [0. 0. 0. 0. 0. 0. 0.]]\n"
     ]
    }
   ],
   "source": [
    "\n",
    "Z= np.ones((5,5))\n",
    "z = np. pad (Z, pad_width=1, mode='constant', constant_values=0) # https://numpy.org/doc/stable/reference/generated/numpy.pad/html\n",
    "print(z)"
   ]
  },
  {
   "cell_type": "markdown",
   "id": "c187f2c0-82bd-4baf-8529-378b41e944e4",
   "metadata": {},
   "source": [
    "## Question: Consider a (6,7,8) shape array, what is the index (x,y,z) of the 100th element?\n",
    "\n"
   ]
  },
  {
   "cell_type": "code",
   "execution_count": 101,
   "id": "5d24192c-2ea5-400c-939e-3eb1e8079b00",
   "metadata": {},
   "outputs": [
    {
     "data": {
      "text/plain": [
       "(1, 5, 4)"
      ]
     },
     "execution_count": 101,
     "metadata": {},
     "output_type": "execute_result"
    }
   ],
   "source": [
    "np.unravel_index(100,(6,7,8))   # 100 is index"
   ]
  },
  {
   "cell_type": "markdown",
   "id": "340b212d-4c3b-4090-abd6-f1793ca4f15b",
   "metadata": {},
   "source": [
    "\n",
    "## Question: Normalize a 5x5 random matrix\n",
    "\n",
    "\n",
    "# Answer:"
   ]
  },
  {
   "cell_type": "code",
   "execution_count": 111,
   "id": "6cce8962-4460-4cbc-abaa-b901ee9bf9e9",
   "metadata": {},
   "outputs": [
    {
     "name": "stdout",
     "output_type": "stream",
     "text": [
      "[[ 0.84766754 -0.88472632 -1.07281623  1.55705344  1.14725457]\n",
      " [-0.06619051  0.82803025 -1.48101461 -0.44355781 -1.47065911]\n",
      " [ 0.07694505  1.53388716  0.37754962  0.9399324  -0.47126207]\n",
      " [ 0.4392101  -1.03758324 -0.93756258  0.59718859 -1.47485861]\n",
      " [ 1.50135534 -1.47472137  0.00363626  0.18074432  0.78449781]]\n"
     ]
    }
   ],
   "source": [
    "Z=np.random.random((5,5))\n",
    "Z=(Z-np.mean(Z))/(np. std (Z))\n",
    "print(Z)"
   ]
  },
  {
   "cell_type": "markdown",
   "id": "c380f48e-ec21-4527-9c05-75ad5ddd93b4",
   "metadata": {},
   "source": [
    "\n",
    "## Question: Given a 1D array, negate all elements which are between 3 and 8, in place ¶\n",
    "\n",
    "# Answer:"
   ]
  },
  {
   "cell_type": "code",
   "execution_count": 121,
   "id": "b15634c9-89a7-4464-aa0b-31c24c18a96b",
   "metadata": {},
   "outputs": [
    {
     "data": {
      "text/plain": [
       "array([ 0,  1,  2, -3, -4, -5, -6, -7, -8,  9, 10])"
      ]
     },
     "execution_count": 121,
     "metadata": {},
     "output_type": "execute_result"
    }
   ],
   "source": [
    "z=np.arange(11)\n",
    "z[(z>=3) & (z<=8)]*=-1\n",
    "z"
   ]
  },
  {
   "cell_type": "markdown",
   "id": "9f3af922-2bdf-4c68-8d06-c228a6747225",
   "metadata": {},
   "source": [
    "\n",
    "# Question: How to find common values between two arrays?"
   ]
  },
  {
   "cell_type": "code",
   "execution_count": 137,
   "id": "d7f330be-0966-4bcf-b5af-a8148d466dc0",
   "metadata": {},
   "outputs": [
    {
     "name": "stdout",
     "output_type": "stream",
     "text": [
      "[3 7 2 8 4 2 5 9 7 4]\n",
      "[9 4 3 8 4]\n",
      "[3 4 8 9]\n"
     ]
    }
   ],
   "source": [
    "z1=np.random.randint(0,10,10)\n",
    "z2=np.random.randint(0,10,5)\n",
    "print(z1)\n",
    "print(z2)\n",
    "\n",
    "print(np.intersect1d(z1,z2))"
   ]
  },
  {
   "cell_type": "markdown",
   "id": "8006da1d-307e-4a09-9e1b-ea4fcf456272",
   "metadata": {},
   "source": [
    "## Question: Write a NumPy program to test whether each element of a 1-D array is also present in a second array.\n",
    "\n",
    "\n",
    "Array1: [0 10 20 40 60]   \n",
    "Array2: [0, 40]\n"
   ]
  },
  {
   "cell_type": "code",
   "execution_count": 140,
   "id": "ffb48fe8-e8df-4918-bb2c-61bf424f4f29",
   "metadata": {},
   "outputs": [
    {
     "name": "stdout",
     "output_type": "stream",
     "text": [
      "Compare each element of array1 and array2\n",
      "[ True False False  True False]\n"
     ]
    }
   ],
   "source": [
    "array1= np.array([0, 10, 20, 40, 60])\n",
    "array2=[0, 40]\n",
    "print(\"Compare each element of array1 and array2\")\n",
    "print (np.in1d(array1, array2))"
   ]
  },
  {
   "cell_type": "markdown",
   "id": "87c8c5c9-f4a4-460d-9824-b5e67232dc0f",
   "metadata": {},
   "source": [
    "## Question: How to get all the dates corresponding to the month of July 2016?\n",
    "\n",
    "## Answer:\n"
   ]
  },
  {
   "cell_type": "code",
   "execution_count": 141,
   "id": "cc714207-f9eb-451e-ab26-c1f1a0afa1ee",
   "metadata": {},
   "outputs": [
    {
     "name": "stdout",
     "output_type": "stream",
     "text": [
      "['2016-07-01' '2016-07-02' '2016-07-03' '2016-07-04' '2016-07-05'\n",
      " '2016-07-06' '2016-07-07' '2016-07-08' '2016-07-09' '2016-07-10'\n",
      " '2016-07-11' '2016-07-12' '2016-07-13' '2016-07-14' '2016-07-15'\n",
      " '2016-07-16' '2016-07-17' '2016-07-18' '2016-07-19' '2016-07-20'\n",
      " '2016-07-21' '2016-07-22' '2016-07-23' '2016-07-24' '2016-07-25'\n",
      " '2016-07-26' '2016-07-27' '2016-07-28' '2016-07-29' '2016-07-30'\n",
      " '2016-07-31']\n"
     ]
    }
   ],
   "source": [
    "Z = np.arange('2016-07', '2016-08', dtype='datetime64[D]')    # d for day\n",
    "print(Z)\n"
   ]
  },
  {
   "cell_type": "markdown",
   "id": "40bae3b7-bd9b-497e-b943-0d2f625e63df",
   "metadata": {},
   "source": [
    "## Question: Extract the integer part of a random array using 5 different methods"
   ]
  },
  {
   "cell_type": "code",
   "execution_count": 142,
   "id": "19532eef-be26-4feb-afdb-081118a553ee",
   "metadata": {},
   "outputs": [
    {
     "name": "stdout",
     "output_type": "stream",
     "text": [
      "[ 0  1  2 -3 -4 -5 -6 -7 -8  9 10]\n",
      "[9. 2. 9. 7. 0. 9. 6. 6. 5. 9.]\n",
      "[9. 2. 9. 7. 0. 9. 6. 6. 5. 9.]\n",
      "[9. 2. 9. 7. 0. 9. 6. 6. 5. 9.]\n",
      "[9 2 9 7 0 9 6 6 5 9]\n",
      "[9. 2. 9. 7. 0. 9. 6. 6. 5. 9.]\n"
     ]
    }
   ],
   "source": [
    "Z = np.random.uniform(0,10,10)\n",
    "\n",
    "print(z)\n",
    "print (Z - Z%1) \n",
    "print (np.floor(Z))\n",
    "print (np.ceil(Z)-1) \n",
    "print (Z.astype(int))\n",
    "print (np. trunc(Z))\n"
   ]
  },
  {
   "cell_type": "markdown",
   "id": "504b678c-0c76-4947-b352-68eb9bd3b2bb",
   "metadata": {},
   "source": [
    "## Question: Consider two random array A and B, check if they are equal    \n",
    "\n",
    "\n",
    "## Answer:\n"
   ]
  },
  {
   "cell_type": "code",
   "execution_count": 144,
   "id": "a07db9af-064a-4d70-bf17-a9de836f3b59",
   "metadata": {},
   "outputs": [
    {
     "name": "stdout",
     "output_type": "stream",
     "text": [
      "[15  1  4 16  9]\n",
      "[ 8 18  5 14  1]\n",
      "False\n",
      "False\n"
     ]
    }
   ],
   "source": [
    "\n",
    "A = np.random.randint(0,20,5)\n",
    "B= np.random.randint(0,20,5)\n",
    "print(A) \n",
    "print(B)\n",
    "# Assuming identical shape of the arrays and a tolerance for the comparison of values\n",
    "equal = np.allclose(A,B)\n",
    "print(equal) \n",
    "#Checking both the shape and the element values, no tolerance (values have to be exactly equal) equal np.array_equal(A,B)\n",
    "print(equal)\n",
    "\n",
    "#check as well:\n",
    "# https://numpy.org/doc/stable/reference/generated/numpy.isclose.html"
   ]
  },
  {
   "cell_type": "markdown",
   "id": "1f06000a-8328-4b29-9df6-0e5b6c19875d",
   "metadata": {},
   "source": [
    "## Question: How to find the closest value (to a given scalar) in a vector?\n",
    "\n",
    "## Answer:\n"
   ]
  },
  {
   "cell_type": "code",
   "execution_count": 149,
   "id": "37813e4c-ba79-4bce-8009-815978e305ad",
   "metadata": {},
   "outputs": [
    {
     "name": "stdout",
     "output_type": "stream",
     "text": [
      "[ 0  1  2  3  4  5  6  7  8  9 10 11 12 13 14 15 16 17 18 19 20 21 22 23\n",
      " 24 25 26 27 28 29 30 31 32 33 34 35 36 37 38 39 40 41 42 43 44 45 46 47\n",
      " 48 49 50 51 52 53 54 55 56 57 58 59 60 61 62 63 64 65 66 67 68 69 70 71\n",
      " 72 73 74 75 76 77 78 79 80 81 82 83 84 85 86 87 88 89 90 91 92 93 94 95\n",
      " 96 97 98 99]\n",
      "87.4271178091607\n",
      "87\n"
     ]
    }
   ],
   "source": [
    "Z = np.arange(100)\n",
    "print(Z)\n",
    "v = np.random. uniform(0,100)\n",
    "print(v)\n",
    "index=(np.abs (Z-v)).argmin()  # return index\n",
    "print(Z[index])\n",
    "\n"
   ]
  },
  {
   "cell_type": "markdown",
   "id": "98464cf4-64c0-463f-bb0e-2893aa470c6d",
   "metadata": {},
   "source": [
    "## Question: Find the nearest value from a given value in an array\n",
    "\n",
    "\n",
    "## Answer:"
   ]
  },
  {
   "cell_type": "code",
   "execution_count": 155,
   "id": "e7b0dcd0-c8dc-4f31-99d5-98616fdf0454",
   "metadata": {},
   "outputs": [
    {
     "name": "stdout",
     "output_type": "stream",
     "text": [
      "[[0.25878516 0.58563105 0.76978895 0.46096721 0.19221511 0.43228517\n",
      "  0.75218493 0.47703473 0.24918576 0.51541377]\n",
      " [0.86805747 0.37874849 0.97234899 0.93229045 0.181772   0.83606361\n",
      "  0.61552897 0.0686522  0.50744892 0.15229088]\n",
      " [0.11612864 0.47152026 0.8171081  0.35444095 0.15807752 0.59650809\n",
      "  0.28173673 0.23254961 0.0177342  0.81753942]\n",
      " [0.40536573 0.99700307 0.33304045 0.43794094 0.13854308 0.28111357\n",
      "  0.55174081 0.74302798 0.92826921 0.77938456]\n",
      " [0.88307031 0.74785609 0.12663934 0.74255975 0.57115172 0.4320776\n",
      "  0.25664806 0.11371826 0.26077485 0.05529769]\n",
      " [0.55730639 0.13263841 0.1265028  0.48745524 0.87689718 0.50333887\n",
      "  0.38171732 0.58651283 0.41451005 0.16061268]\n",
      " [0.03463375 0.54445654 0.63409017 0.96030918 0.43606009 0.00109554\n",
      "  0.93091013 0.76996185 0.88369688 0.03050817]\n",
      " [0.2747193  0.97722493 0.49912384 0.56983553 0.67773375 0.19589609\n",
      "  0.94015804 0.40041766 0.01839083 0.84249045]\n",
      " [0.0732266  0.12514853 0.25937232 0.2925369  0.73993823 0.165975\n",
      "  0.43242586 0.92184919 0.19961364 0.84049807]\n",
      " [0.6915505  0.18359815 0.5011211  0.68081158 0.71677578 0.21312519\n",
      "  0.02628956 0.67151693 0.79655239 0.47115948]]\n",
      "0.49912384288918155\n"
     ]
    }
   ],
   "source": [
    "Z = np.random.uniform (0,1,(10,10)) \n",
    "z= 0.5\n",
    "m = Z.flat[np.abs(Z -z).argmin()]\n",
    "print(Z)\n",
    "print(m)"
   ]
  },
  {
   "cell_type": "markdown",
   "id": "6d7031a5-b481-4409-8173-8e2de377b6b3",
   "metadata": {},
   "source": [
    "\n",
    "## Question: Write a NumPy program to get the values and indices of the elements that are bigger than 10 in a given array.\n",
    "\n",
    "\n",
    "## Answer:"
   ]
  },
  {
   "cell_type": "code",
   "execution_count": 157,
   "id": "92fb39c3-795c-440d-ade5-2074cad8af9a",
   "metadata": {},
   "outputs": [
    {
     "name": "stdout",
     "output_type": "stream",
     "text": [
      "Original array: \n",
      "[[ 0 10 20]\n",
      " [20 30 40]]\n",
      "Values bigger than 10 [20 20 30 40]\n",
      "Their indices are (array([0, 1, 1, 1], dtype=int64), array([2, 0, 1, 2], dtype=int64))\n"
     ]
    }
   ],
   "source": [
    "x= np.array([[0, 10, 20], [20, 30, 40]])\n",
    "print(\"Original array: \")\n",
    "print(x)\n",
    "print(\"Values bigger than 10\", x[x>10])\n",
    "print(\"Their indices are\", np.nonzero(x > 10))"
   ]
  },
  {
   "cell_type": "markdown",
   "id": "23bc0e81-c5ec-4bca-b94d-207265bd4340",
   "metadata": {},
   "source": [
    "\n",
    "## Question: Write a NumPy program to save a NumPy array to a text file.\n",
    "\n",
    "## Answer:"
   ]
  },
  {
   "cell_type": "code",
   "execution_count": 159,
   "id": "e017bc5e-7d02-49b3-af81-cb8fcf40c0b5",
   "metadata": {},
   "outputs": [
    {
     "name": "stdout",
     "output_type": "stream",
     "text": [
      "[ 1.   1.5  2.   2.5  3.   3.5  4.   4.5  5.   5.5  6.   6.5  7.   7.5\n",
      "  8.   8.5  9.   9.5 10.  10.5 11.  11.5 12.  12.5 13.  13.5 14.  14.5\n",
      " 15.  15.5 16.  16.5 17.  17.5 18.  18.5 19.  19.5]\n"
     ]
    }
   ],
   "source": [
    "a = np.arange(1.0, 20.0, 0.5)\n",
    "print(a)\n",
    "np.savetxt('file.txt', a, delimiter=',')  \n",
    "# When you open the file will will find no commas #delimiter arg: string or character separating columns.    \n",
    "#newlinestr arg: String or character separating lines.  \n",
    "#Read more https://numpy.org/doc/stable/reference/generated/numpy.savetxt.html\n",
    "#SELF-STUDY: You'll neeed them for later courses\n",
    "# numpy.Load, numpy.save, numpy.Loadtxt, numpy.savetxt, numpy.genfromtxt, \n",
    "#numpy.fromstring, numpy.ndarray.tofile, numpy.ndarray.tolist, numpy.array2string"
   ]
  },
  {
   "cell_type": "markdown",
   "id": "a2c72efc-9873-4916-a1c2-a95222bbdbf2",
   "metadata": {},
   "source": [
    "\n",
    "## Question: How to read the following file?\n",
    "\n",
    "\n",
    "\n",
    "## Answer:"
   ]
  },
  {
   "cell_type": "code",
   "execution_count": 170,
   "id": "bff1130b-f4bc-4c8e-badb-2c2b7e2f432a",
   "metadata": {},
   "outputs": [
    {
     "name": "stdout",
     "output_type": "stream",
     "text": [
      "[[ 1  2  3  4  5]\n",
      " [ 6 -1 -1  7  8]\n",
      " [-1 -1  9 10 11]]\n"
     ]
    }
   ],
   "source": [
    "from io import StringIO\n",
    "#Fake file\n",
    "s = StringIO(\"\"\" 1, 2, 3, 4, 5\\n\n",
    "                6, , , 7, 8\\n \n",
    "               , , 9,10,11\\n\"\"\")\n",
    "\n",
    "Z= np.genfromtxt(s, delimiter=\",\", dtype=int) \n",
    "print(Z)"
   ]
  },
  {
   "cell_type": "markdown",
   "id": "c81c0b78-1d8c-426d-adb5-6d6ecc1e4abe",
   "metadata": {},
   "source": [
    "\n",
    "## Question: What is the equivalent of enumerate for numpy arrays?\n",
    "\n",
    "\n",
    "## Answer:"
   ]
  },
  {
   "cell_type": "code",
   "execution_count": 176,
   "id": "1035441d-b51e-4d63-8ec8-17aedf415fde",
   "metadata": {},
   "outputs": [
    {
     "name": "stdout",
     "output_type": "stream",
     "text": [
      "(0, 0) 0\n",
      "(0, 1) 1\n",
      "(0, 2) 2\n",
      "(1, 0) 3\n",
      "(1, 1) 4\n",
      "(1, 2) 5\n",
      "(2, 0) 6\n",
      "(2, 1) 7\n",
      "(2, 2) 8\n",
      "(0, 0) 0\n",
      "(0, 1) 1\n",
      "(0, 2) 2\n",
      "(1, 0) 3\n",
      "(1, 1) 4\n",
      "(1, 2) 5\n",
      "(2, 0) 6\n",
      "(2, 1) 7\n",
      "(2, 2) 8\n"
     ]
    }
   ],
   "source": [
    " Z = np.arange(9).reshape(3,3)\n",
    "for index, value in np.ndenumerate(Z):\n",
    "    print(index, value)\n",
    "\n",
    "for index in np.ndindex(Z.shape):\n",
    "    print(index, Z[index])"
   ]
  },
  {
   "cell_type": "markdown",
   "id": "19da34f1-ea0e-47e3-b089-f47051bcd273",
   "metadata": {},
   "source": [
    "## Question: Subtract the mean of each row of a matrix\n",
    "\n",
    "## Answer:"
   ]
  },
  {
   "cell_type": "code",
   "execution_count": 180,
   "id": "5538b6a8-49d6-4a78-9467-32484acdcf55",
   "metadata": {},
   "outputs": [
    {
     "name": "stdout",
     "output_type": "stream",
     "text": [
      "[[0.82862165 0.5837749  0.33591579 0.8172731  0.02237039 0.82232287\n",
      "  0.35518439 0.94585394 0.49032463 0.4620941 ]\n",
      " [0.3208792  0.06745812 0.99474238 0.17767682 0.27117447 0.4432621\n",
      "  0.45785127 0.95538041 0.61227005 0.15404405]\n",
      " [0.71971168 0.46585858 0.69959103 0.31014454 0.52474977 0.7482676\n",
      "  0.71362015 0.69944215 0.29613306 0.34588875]\n",
      " [0.89079772 0.33691547 0.86331806 0.8613588  0.19825764 0.22706452\n",
      "  0.24703547 0.13264401 0.79236063 0.09631393]\n",
      " [0.75017476 0.37625106 0.34923124 0.06499918 0.8890348  0.43991662\n",
      "  0.55243753 0.9703114  0.84180569 0.28107154]]\n",
      "[[ 0.26224808  0.01740132 -0.23045779  0.25089952 -0.54400319  0.2559493\n",
      "  -0.21118918  0.37948037 -0.07604895 -0.10427947]\n",
      " [-0.12459469 -0.37801577  0.54926849 -0.26779707 -0.17429942 -0.00221179\n",
      "   0.01237738  0.50990653  0.16679616 -0.29142983]\n",
      " [ 0.16737095 -0.08648215  0.1472503  -0.24219619 -0.02759096  0.19592687\n",
      "   0.16127942  0.14710142 -0.25620767 -0.20645198]\n",
      " [ 0.4261911  -0.12769116  0.39871143  0.39675217 -0.26634898 -0.2375421\n",
      "  -0.21757115 -0.33196261  0.327754   -0.3682927 ]\n",
      " [ 0.19865138 -0.17527232 -0.20229214 -0.4865242   0.33751142 -0.11160676\n",
      "   0.00091415  0.41878802  0.2902823  -0.27045184]]\n"
     ]
    }
   ],
   "source": [
    "X = np.random.rand(5, 10)\n",
    "print(X)\n",
    "# Recent versions of numpy\n",
    "Y = X-X.mean (axis=1, keepdims=True)          # If keepdims is set to True, the result will broadcast correct\n",
    "                                                # against the input array.\n",
    "\n",
    "# Older versions of numpy\n",
    "Y = X-X. mean (axis=1).reshape(-1, 1)\n",
    "print(Y)\n"
   ]
  },
  {
   "cell_type": "markdown",
   "id": "7047d167-8012-43fa-93f1-f011dd44a609",
   "metadata": {},
   "source": [
    "## Question: How to sort an array by the nth column?\n",
    "\n",
    "\n",
    "## Answer:"
   ]
  },
  {
   "cell_type": "code",
   "execution_count": 182,
   "id": "21655812-3f7c-41a5-b522-c38f13cbbf0a",
   "metadata": {},
   "outputs": [
    {
     "name": "stdout",
     "output_type": "stream",
     "text": [
      "[[ 5  2  9]\n",
      " [ 1  1 15]\n",
      " [ 7 10  3]]\n",
      "[]\n",
      "[[ 1  1 15]\n",
      " [ 5  2  9]\n",
      " [ 7 10  3]]\n",
      "[[ 7 10  3]\n",
      " [ 5  2  9]\n",
      " [ 1  1 15]]\n"
     ]
    }
   ],
   "source": [
    "\n",
    "Z = np.array([[5, 2, 9], [1, 1, 15], [7, 10, 3]])\n",
    "print(Z)\n",
    "print(Z[Z[:0].argsort()])\n",
    "print(Z[Z[:,1].argsort()])\n",
    "print(Z[Z[:,2].argsort()])"
   ]
  },
  {
   "cell_type": "markdown",
   "id": "e1dc17ef-48c2-418d-951e-647ed786086e",
   "metadata": {},
   "source": [
    "## Question: Write a NumPy program to sort pairs of first name and last name return their indices. (first by last name, then by first name).\n",
    "first_names = ('Betsey', 'Shelley', 'Lanell', 'Genesis', 'Margery')   \n",
    "last_names = ('Battle', 'Brien', 'Plotner', 'Stahl', 'Woolum')\n",
    "\n",
    "## Answer:\n"
   ]
  },
  {
   "cell_type": "code",
   "execution_count": 183,
   "id": "fc1a2f77-f30d-4bbd-b0a8-e1f8b04aa4f9",
   "metadata": {},
   "outputs": [
    {
     "name": "stdout",
     "output_type": "stream",
     "text": [
      "[1 3 2 4 0]\n"
     ]
    }
   ],
   "source": [
    "first_names = ('Margery', 'Betsey', 'Shelley', 'Lanell', 'Genesis') \n",
    "last_names = ('Woolum', 'Battle', 'Plotner', 'Brien', 'Stahl')\n",
    "x = np.lexsort((first_names, last_names))\n",
    "print(x)   # x is indexs\n",
    " "
   ]
  },
  {
   "cell_type": "markdown",
   "id": "214b78e2-a74d-44a8-8fca-8ea36e25dfc8",
   "metadata": {},
   "source": [
    "## Question: How to tell if a given 2D array has null columns?"
   ]
  },
  {
   "cell_type": "code",
   "execution_count": 189,
   "id": "7d6cad4e-d8c7-44f3-8d31-7690c8dfbe8b",
   "metadata": {},
   "outputs": [
    {
     "name": "stdout",
     "output_type": "stream",
     "text": [
      "[[1 2 0 0 2 0 0 0 0 0]\n",
      " [2 2 0 0 2 1 0 0 1 1]\n",
      " [0 1 1 2 1 0 0 2 2 0]]\n",
      "True\n",
      "[ True  True  True  True  True  True False  True  True  True]\n",
      "[False False False False False False  True False False False]\n"
     ]
    }
   ],
   "source": [
    "Z= np.random.randint(0, 3, (3,10))\n",
    "print (Z)\n",
    "print((~Z.any (axis=0)).any())       # any() Test whether any array element along a given axis eqvaluates to none zero value\n",
    "                                      # any return true for  none empty value\n",
    "\n",
    "print (Z.any (axis=0))\n",
    "print(~Z.any (axis=0)) \n",
    "print((~Z.any (axis=0)).any())\n"
   ]
  },
  {
   "cell_type": "markdown",
   "id": "8e5cff65-23dd-4db9-ab74-021cfd645091",
   "metadata": {},
   "source": [
    "## Question: Considering a four dimensions array, how to get sum over the last two axis at once?  \n",
    "   \n",
    "\n",
    "## Answer:"
   ]
  },
  {
   "cell_type": "code",
   "execution_count": 196,
   "id": "db56fbcd-88c1-4366-91ed-3b863c2a37f7",
   "metadata": {},
   "outputs": [
    {
     "name": "stdout",
     "output_type": "stream",
     "text": [
      "[[54 65 63 23]\n",
      " [55 47 62 50]\n",
      " [48 54 36 57]]\n"
     ]
    }
   ],
   "source": [
    "A= np.random.randint(0, 10, (3,4,3,4))\n",
    "                                          # solution by passing a tuple of axes (introduced in numpy 1.7.0)\n",
    "sum =A.sum(axis=(-2,-1))                   # -1 for last index  \n",
    "print(sum)                                  # -2 befor last \n",
    "\n"
   ]
  },
  {
   "cell_type": "markdown",
   "id": "319ef5ad-eaba-4e4a-8896-67c072208843",
   "metadata": {},
   "source": [
    "##  Related: Consider a 16x16 array, how to get the block-sum (block size is 4x4)? \n",
    "happens in avgpooling [batch,channel, hight, width]\n",
    "\n",
    "## Answer:"
   ]
  },
  {
   "cell_type": "code",
   "execution_count": 205,
   "id": "e3cf5226-b451-4a8b-b271-a53fa1701e69",
   "metadata": {},
   "outputs": [
    {
     "name": "stdout",
     "output_type": "stream",
     "text": [
      "[[16. 16. 16. 16.]\n",
      " [16. 16. 16. 16.]\n",
      " [16. 16. 16. 16.]\n",
      " [16. 16. 16. 16.]]\n"
     ]
    }
   ],
   "source": [
    "Z= np.ones((16,16))\n",
    "k = 4\n",
    "S = np.add.reduceat(np.add.reduceat (Z, np.arange(0, Z.shape[0], k), axis=0),   #reduce row\n",
    "                                         np.arange(0, z.shape[1], k), axis=1 )   # reduce col\n",
    "\n",
    "print(S)\n",
    "\n",
    "#https://numpy.org/doc/stable/reference/generated/numpy.ufunc.reduceat.html\n",
    "# Performs a (Local) reduce with specified slices over a single axis.\n"
   ]
  },
  {
   "cell_type": "markdown",
   "id": "920b2255-b049-4b3e-b235-2a6444970f2c",
   "metadata": {},
   "source": [
    "\n",
    "## Question: How to swap two rows of an array?\n",
    "## Answer:"
   ]
  },
  {
   "cell_type": "code",
   "execution_count": 207,
   "id": "e959d1a3-0b54-4525-a134-c10f9b8b7bbf",
   "metadata": {},
   "outputs": [
    {
     "name": "stdout",
     "output_type": "stream",
     "text": [
      "[[ 0  1  2  3  4]\n",
      " [ 5  6  7  8  9]\n",
      " [10 11 12 13 14]\n",
      " [15 16 17 18 19]\n",
      " [20 21 22 23 24]]\n",
      "[[ 5  6  7  8  9]\n",
      " [ 0  1  2  3  4]\n",
      " [10 11 12 13 14]\n",
      " [15 16 17 18 19]\n",
      " [20 21 22 23 24]]\n"
     ]
    }
   ],
   "source": [
    "\n",
    "A = np.arange(25).reshape(5,5) \n",
    "print(A)\n",
    "\n",
    "A[[0,1]] =A[[1,0]]   # can not do this for swap row by col  ony col wigh col  or row with row \n",
    "\n",
    "print(A)"
   ]
  },
  {
   "cell_type": "markdown",
   "id": "c1b23fdc-b090-482f-a7b6-9216e2fbc58f",
   "metadata": {},
   "source": [
    "## Question: How to get the n largest values of an array\n",
    "happens in one-to-many classifier (top n predictions)\n",
    "\n",
    "## Answer:"
   ]
  },
  {
   "cell_type": "code",
   "execution_count": 212,
   "id": "9f27b78e-e6c4-4cc3-ae7d-ad077e396704",
   "metadata": {},
   "outputs": [
    {
     "name": "stdout",
     "output_type": "stream",
     "text": [
      "[9995 9996 9997 9998 9999]\n",
      "[9996 9995 9999 9997 9998]\n"
     ]
    }
   ],
   "source": [
    "Z= np.arange(10000)\n",
    "np.random.shuffle(Z)\n",
    "n = 5\n",
    "# fast\n",
    "print (Z[np.argsort(Z)[-n:]])\n",
    "# slow\n",
    "print (Z[np.argpartition (-Z,n)[:n]])"
   ]
  },
  {
   "cell_type": "markdown",
   "id": "5bb56f58-3656-4423-9180-c03cbe11d25f",
   "metadata": {},
   "source": [
    "### Question: Consider an array Z = [1,2,3,4,5,6,7,8,9,10,11,12,13,14], how to generate an array R =    \n",
    "### [[1,2,3,4], [2,3,4,5], [3,4,5,6], ..., [11,12,13,14]]?   \n",
    "\n",
    "simulating sequential model training feed\n",
    "## Answer:"
   ]
  },
  {
   "cell_type": "code",
   "execution_count": 219,
   "id": "01923f3f-4d27-43c3-beed-acf1bd0ec4ac",
   "metadata": {},
   "outputs": [
    {
     "name": "stdout",
     "output_type": "stream",
     "text": [
      "[[ 1  2  3  4]\n",
      " [ 2  3  4  5]\n",
      " [ 3  4  5  6]\n",
      " [ 4  5  6  7]\n",
      " [ 5  6  7  8]\n",
      " [ 6  7  8  9]\n",
      " [ 7  8  9 10]\n",
      " [ 8  9 10 11]\n",
      " [ 9 10 11 12]\n",
      " [10 11 12 13]\n",
      " [11 12 13 14]]\n"
     ]
    }
   ],
   "source": [
    "from numpy.lib import stride_tricks\n",
    "Z= np.arange(1,15, dtype=np. uint32)\n",
    "R = stride_tricks.as_strided(Z, (11,4), (4,4)) # do not know what is  (4,4)\n",
    "print(R)\n",
    "\n",
    "\n"
   ]
  },
  {
   "cell_type": "code",
   "execution_count": null,
   "id": "4b829997-4b3e-41d3-a857-b779f4cfe045",
   "metadata": {},
   "outputs": [],
   "source": []
  },
  {
   "cell_type": "code",
   "execution_count": null,
   "id": "9d0a73c0-a885-4b68-be3e-2e6366fdd68e",
   "metadata": {},
   "outputs": [],
   "source": []
  }
 ],
 "metadata": {
  "kernelspec": {
   "display_name": "Python 3 (ipykernel)",
   "language": "python",
   "name": "python3"
  },
  "language_info": {
   "codemirror_mode": {
    "name": "ipython",
    "version": 3
   },
   "file_extension": ".py",
   "mimetype": "text/x-python",
   "name": "python",
   "nbconvert_exporter": "python",
   "pygments_lexer": "ipython3",
   "version": "3.12.4"
  }
 },
 "nbformat": 4,
 "nbformat_minor": 5
}

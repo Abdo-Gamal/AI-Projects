{
 "cells": [
  {
   "cell_type": "markdown",
   "id": "76180cd7-794b-45d3-b203-d271296636b0",
   "metadata": {},
   "source": [
    "# Keyboard shortcuts"
   ]
  },
  {
   "cell_type": "markdown",
   "id": "1226fa07-3c81-469b-81a0-3fe3bc85208f",
   "metadata": {},
   "source": [
    "In this notebook, you'll get some practice using keyboard shortcuts. These are key to becoming proficient at using notebooks and will greatly increase your work speed.      \n",
    "\n",
    "First up, switching between edit mode and command mode. Edit mode allows you to type into cells while command mode will use key presses to execute commands such as creating new cells and openning the command palette. When you select a cell, you can tell which mode you're currently working in by the color of the box around the cell. In edit mode, the box and thick left border are colored green. In command mode, they are colored blue. Also in edit mode, you should see a cursor in the cell itself.     \n",
    "\n",
    "By default, when you create a new cell or move to the next one, you'll be in command mode. To enter edit mode, press Enter/Return. To go back from edit mode to command mode, press Escape.      \n",
    "\n"
   ]
  },
  {
   "cell_type": "markdown",
   "id": "3bac3803-c3c3-4a27-995e-3bd45b4cee66",
   "metadata": {},
   "source": [
    "` Exercise `: Click on this cell, then press Enter + Shift to get to the next cell. Switch between edit and command mode a few times."
   ]
  },
  {
   "cell_type": "code",
   "execution_count": 3,
   "id": "34edfe81-cf70-4029-a038-f36ee7d2d377",
   "metadata": {
    "jp-MarkdownHeadingCollapsed": true
   },
   "outputs": [],
   "source": [
    "# mode practice\n"
   ]
  },
  {
   "cell_type": "markdown",
   "id": "2242eb97-1de9-4b1a-815c-aca4f874049e",
   "metadata": {},
   "source": [
    "# Help with commands\n",
    "If you ever need to look up a command, you can bring up the list of shortcuts by pressing H in command mode. The keyboard shortcuts are also available above in the Help menu. Go ahead and try it now.   \n"
   ]
  },
  {
   "cell_type": "markdown",
   "id": "0dc1a283-59bd-440d-b545-85d33584cabc",
   "metadata": {},
   "source": [
    "\n",
    "# Creating new cells\n",
    "One of the most common commands is creating new cells. You can create a cell above the current cell by pressing A in command mode.\n",
    "Pressing B will create a cell below the currently selected cell."
   ]
  },
  {
   "cell_type": "markdown",
   "id": "eb9d4d23-f478-47ee-aed1-73352e45b574",
   "metadata": {},
   "source": [
    "` Exercise`: Create a cell above this cell using the keyboard command.\n"
   ]
  },
  {
   "cell_type": "markdown",
   "id": "2582a489-18e7-4e12-aa51-9a741a1926f0",
   "metadata": {},
   "source": [
    "` Exercise `: Create a cell below this cell using the keyboard command."
   ]
  },
  {
   "cell_type": "markdown",
   "id": "7311b01a-f8f4-4048-9361-4491584b629e",
   "metadata": {},
   "source": [
    "# Switching between Markdown and code\n",
    "With keyboard shortcuts, it is quick and simple to switch between Markdown and code cells.    \n",
    "To change from Markdown to a code cell, press Y.  \n",
    "To switch from code to Markdown, press M.  \n"
   ]
  },
  {
   "cell_type": "code",
   "execution_count": null,
   "id": "13b49f7b-f795-4684-ad4f-cf6ec645abf2",
   "metadata": {},
   "outputs": [],
   "source": [
    "﻿\n",
    "\n",
    "Creating new cells\n",
    "One of the most common commands is creating new cells. You can create a cell above the current cell by pressing A in command mode. Pressing B will create a cell below the currently selected cell.\n",
    "Exercise: Create a cell above this cell using the keyboard command.\n",
    "Exercise: Create a cell below this cell using the keyboard command.\n",
    "Switching between Markdown and code\n",
    "With keyboard shortcuts, it is quick and simple to switch between Markdown and code cells. To change from Markdown to a code cell, press Y. To switch from code to Markdown, press M."
   ]
  },
  {
   "cell_type": "code",
   "execution_count": 15,
   "id": "e078991a-7674-4274-9be3-f4b19396d493",
   "metadata": {},
   "outputs": [],
   "source": [
    "## Practice here\n",
    "def fibo(n): # Recursive Fibonacci sequence!\n",
    "    if n == 0:\n",
    "        return 0\n",
    "    elif n == 1:\n",
    "        return 1\n",
    "    return fibo(n-1) + fibo(n-2)\n"
   ]
  },
  {
   "cell_type": "markdown",
   "id": "50d49336-c40e-4ff2-9f9b-85725bf1e543",
   "metadata": {},
   "source": [
    "# Line numbers\n"
   ]
  },
  {
   "cell_type": "markdown",
   "id": "fcd2335b-60bf-48d0-ae19-ab869371a833",
   "metadata": {},
   "source": [
    "A lot of times it is helpful to number the lines in your code for debugging purposes.    \n",
    "You can turn on numbers by pressing L (in command mode of course) on a code cell.\n"
   ]
  },
  {
   "cell_type": "markdown",
   "id": "16e6f7ea-a8d3-4551-8e11-1590fe09b4b1",
   "metadata": {},
   "source": [
    "` Exercise `: Turn line numbers on and off in the above code cell.\n"
   ]
  },
  {
   "cell_type": "markdown",
   "id": "5f43b13b-0c00-4f38-99fc-6f778acb9f0c",
   "metadata": {},
   "source": [
    "﻿\n",
    "\n",
    "# Deleting cells\n"
   ]
  },
  {
   "cell_type": "markdown",
   "id": "ca136969-2577-4a64-8e17-6291655c4553",
   "metadata": {},
   "source": [
    "Deleting cells is done by pressing D twice in a row so D, D.   \n",
    "This is to prevent accidently deletions, you have to press the button twice!  \n"
   ]
  },
  {
   "cell_type": "markdown",
   "id": "417e5684-6283-4fa8-a127-692aa281f046",
   "metadata": {},
   "source": [
    "`Exercise`: Delete the cell below.  "
   ]
  },
  {
   "cell_type": "code",
   "execution_count": null,
   "id": "19230da0-e5c7-416b-8430-d0f8fbd0d0fc",
   "metadata": {},
   "outputs": [],
   "source": [
    "fdfd"
   ]
  },
  {
   "cell_type": "code",
   "execution_count": null,
   "id": "437261ef-78ee-4c1a-a221-c9bbc01747c5",
   "metadata": {},
   "outputs": [],
   "source": []
  },
  {
   "cell_type": "code",
   "execution_count": null,
   "id": "5905d87a-9465-4498-b7cd-36ffbc29f367",
   "metadata": {},
   "outputs": [],
   "source": []
  },
  {
   "cell_type": "code",
   "execution_count": null,
   "id": "5a028fc2-fd93-4470-9ea4-f7ca3cc72b28",
   "metadata": {},
   "outputs": [],
   "source": []
  },
  {
   "cell_type": "code",
   "execution_count": 9,
   "id": "5b2083eb-f563-4a6a-87b3-28f3361ae613",
   "metadata": {},
   "outputs": [
    {
     "ename": "SyntaxError",
     "evalue": "invalid syntax (2894908093.py, line 1)",
     "output_type": "error",
     "traceback": [
      "\u001b[1;36m  Cell \u001b[1;32mIn[9], line 1\u001b[1;36m\u001b[0m\n\u001b[1;33m    Help with commands\u001b[0m\n\u001b[1;37m         ^\u001b[0m\n\u001b[1;31mSyntaxError\u001b[0m\u001b[1;31m:\u001b[0m invalid syntax\n"
     ]
    }
   ],
   "source": [
    "Help with commands\n",
    "If you ever need to look up a command, you can bring up the list of shortcuts by pressing H in command mode. The keyboard shortcuts are also available above in the Help menu. Go ahead and try it now.\n",
    "Creating new cells\n",
    "One of the most common commands is creating new cells. You can create a cell above the current cell by pressing A in command mode. Pressing B will create a cell below the currently selected cell."
   ]
  },
  {
   "cell_type": "code",
   "execution_count": null,
   "id": "87b01ba2-e834-4ff4-b290-8139c3de8af6",
   "metadata": {},
   "outputs": [],
   "source": []
  },
  {
   "cell_type": "code",
   "execution_count": null,
   "id": "de4e554b-4782-42f5-af87-379d532f523f",
   "metadata": {},
   "outputs": [],
   "source": []
  },
  {
   "cell_type": "code",
   "execution_count": null,
   "id": "dc33e204-cc27-406d-b8de-481c6434ff54",
   "metadata": {},
   "outputs": [],
   "source": []
  },
  {
   "cell_type": "code",
   "execution_count": null,
   "id": "cfeabbd9-5d90-4544-af7f-e9d010dd12ee",
   "metadata": {},
   "outputs": [],
   "source": []
  },
  {
   "cell_type": "code",
   "execution_count": null,
   "id": "2f9244d8-10bb-4f64-900d-97442da7e394",
   "metadata": {},
   "outputs": [],
   "source": []
  },
  {
   "cell_type": "code",
   "execution_count": null,
   "id": "72d5af95-b3e6-4b08-8ad4-d3ecc469bd96",
   "metadata": {},
   "outputs": [],
   "source": []
  },
  {
   "cell_type": "code",
   "execution_count": null,
   "id": "fcb258cc-d914-4a94-835e-7eddb4166c30",
   "metadata": {},
   "outputs": [],
   "source": []
  },
  {
   "cell_type": "code",
   "execution_count": null,
   "id": "29ae407a-fc2d-4ada-af6a-c3fb1a500d78",
   "metadata": {},
   "outputs": [],
   "source": []
  },
  {
   "cell_type": "code",
   "execution_count": null,
   "id": "992ddacc-5c77-451d-aa43-ec61ac3a5436",
   "metadata": {},
   "outputs": [],
   "source": []
  },
  {
   "cell_type": "code",
   "execution_count": null,
   "id": "2df20abc-e840-4c7a-a5f5-d33f2b50dc06",
   "metadata": {},
   "outputs": [],
   "source": []
  },
  {
   "cell_type": "code",
   "execution_count": null,
   "id": "cad30c45-f179-476a-a476-52d2939921de",
   "metadata": {},
   "outputs": [],
   "source": []
  }
 ],
 "metadata": {
  "kernelspec": {
   "display_name": "Python 3 (ipykernel)",
   "language": "python",
   "name": "python3"
  },
  "language_info": {
   "codemirror_mode": {
    "name": "ipython",
    "version": 3
   },
   "file_extension": ".py",
   "mimetype": "text/x-python",
   "name": "python",
   "nbconvert_exporter": "python",
   "pygments_lexer": "ipython3",
   "version": "3.12.4"
  }
 },
 "nbformat": 4,
 "nbformat_minor": 5
}

{
 "cells": [
  {
   "cell_type": "markdown",
   "id": "526e5722-3368-4015-b617-fde68e5b7816",
   "metadata": {},
   "source": [
    "# Read Dataset"
   ]
  },
  {
   "cell_type": "markdown",
   "id": "2cf3f288-dd0c-4108-8fe5-45163225a3a7",
   "metadata": {},
   "source": [
    "for more information, please see: https://numpy.org/doc/1.20/reference/generated/numpy.genfromtxt.html\n"
   ]
  },
  {
   "cell_type": "code",
   "execution_count": 7,
   "id": "0a50b2ef-dc79-4603-96a8-3ce673e1b7e3",
   "metadata": {},
   "outputs": [
    {
     "data": {
      "text/plain": [
       "array([[ 0.,  1.,  2.,  3.,  4.,  5.,  6.,  7.,  8.,  9., 10.],\n",
       "       [ 1.,  2.,  3.,  4.,  5.,  6.,  7.,  8.,  9., 10., 11.],\n",
       "       [ 2.,  3.,  4.,  5.,  6.,  7.,  8.,  9., 10., 11., 12.],\n",
       "       [ 3.,  4.,  5.,  6.,  7.,  8.,  9., 10., 11., 12., 13.],\n",
       "       [ 4.,  5.,  6.,  7.,  8.,  9., 10., 11., 12., 13., 14.],\n",
       "       [ 5.,  6.,  7.,  8.,  9., 10., 11., 12., 13., 14., 15.],\n",
       "       [ 6.,  7.,  8.,  9., 10., 11., 12., 13., 14., 15., 16.],\n",
       "       [ 7.,  8.,  9., 10., 11., 12., 13., 14., 15., 16., 17.],\n",
       "       [ 8.,  9., 10., 11., 12., 13., 14., 15., 16., 17., 18.],\n",
       "       [ 9., 10., 11., 12., 13., 14., 15., 16., 17., 18., 19.],\n",
       "       [10., 11., 12., 13., 14., 15., 16., 17., 18., 19., 20.]])"
      ]
     },
     "execution_count": 7,
     "metadata": {},
     "output_type": "execute_result"
    }
   ],
   "source": [
    "import numpy as np\n",
    "arr = np.genfromtxt(\"simple_dataset_to_read.csv\", delimiter=\"|\") \n",
    "arr\n"
   ]
  },
  {
   "cell_type": "markdown",
   "id": "c1e5c2fc-59d5-49d3-82c7-4ccfdcd425b4",
   "metadata": {},
   "source": [
    "# Write a dataset\n"
   ]
  },
  {
   "cell_type": "markdown",
   "id": "c96ef7f8-a75a-4e3f-ac6c-3d8a2262cda3",
   "metadata": {},
   "source": [
    "for more information, please see: https://numpy.org/doc/stable/reference/generated/numpy.savetxt.html\n"
   ]
  },
  {
   "cell_type": "code",
   "execution_count": 34,
   "id": "1601ea56-b86b-4911-b369-ea6c69b12fcb",
   "metadata": {},
   "outputs": [
    {
     "data": {
      "text/plain": [
       "array([[-10.,  40.,  90., 140., 190., 240., 290., 340., 390., 440., 490.],\n",
       "       [ 40.,  90., 140., 190., 240., 290., 340., 390., 440., 490., 540.],\n",
       "       [ 90., 140., 190., 240., 290., 340., 390., 440., 490., 540., 590.],\n",
       "       [140., 190., 240., 290., 340., 390., 440., 490., 540., 590., 640.],\n",
       "       [190., 240., 290., 340., 390., 440., 490., 540., 590., 640., 690.],\n",
       "       [240., 290., 340., 390., 440., 490., 540., 590., 640., 690., 740.],\n",
       "       [290., 340., 390., 440., 490., 540., 590., 640., 690., 740., 790.],\n",
       "       [340., 390., 440., 490., 540., 590., 640., 690., 740., 790., 840.],\n",
       "       [390., 440., 490., 540., 590., 640., 690., 740., 790., 840., 890.],\n",
       "       [440., 490., 540., 590., 640., 690., 740., 790., 840., 890., 940.],\n",
       "       [490., 540., 590., 640., 690., 740., 790., 840., 890., 940., 990.]])"
      ]
     },
     "execution_count": 34,
     "metadata": {},
     "output_type": "execute_result"
    }
   ],
   "source": [
    "new_arr= arr*50 -10\n",
    "new_arr"
   ]
  },
  {
   "cell_type": "code",
   "execution_count": 23,
   "id": "092f05e8-a42b-4bca-9266-240d822c91dc",
   "metadata": {},
   "outputs": [],
   "source": [
    "\n",
    "#np.savetxt('exported_dataset.csv', new_arr, delimiter=',')\n",
    "#np.savetxt('exported_dataset.csv', new_arr, delimiter=',', fmt='%. 2e')\n",
    "np.savetxt('exported_dataset.csv', new_arr, delimiter=',', fmt='%d',header=\"\")"
   ]
  },
  {
   "cell_type": "code",
   "execution_count": 31,
   "id": "47cc8245-dc9b-4924-ac06-c8eb37b299ca",
   "metadata": {},
   "outputs": [
    {
     "data": {
      "text/plain": [
       "array([[ 0,  1,  2,  3,  4,  5,  6,  7,  8,  9],\n",
       "       [10, 11, 12, 13, 14, 15, 16, 17, 18, 19],\n",
       "       [20, 21, 22, 23, 24, 25, 26, 27, 28, 29],\n",
       "       [30, 31, 32, 33, 34, 35, 36, 37, 38, 39],\n",
       "       [40, 41, 42, 43, 44, 45, 46, 47, 48, 49]], dtype=int64)"
      ]
     },
     "execution_count": 31,
     "metadata": {},
     "output_type": "execute_result"
    }
   ],
   "source": [
    "new_arr_2= np.arange(50, dtype='int64')\n",
    "new_arr_2.shape = (5,10)\n",
    "new_arr_2"
   ]
  },
  {
   "cell_type": "code",
   "execution_count": 32,
   "id": "42b6d414-1cbe-45bc-9b59-160ff12a3064",
   "metadata": {},
   "outputs": [],
   "source": [
    "np.savetxt('exported_dataset_2.csv', new_arr, delimiter=',', fmt='%d',header=\"\")"
   ]
  },
  {
   "cell_type": "code",
   "execution_count": 36,
   "id": "5a4917cf-4450-4c3e-92c6-ca704adbfd70",
   "metadata": {},
   "outputs": [
    {
     "data": {
      "text/plain": [
       "(11, 11)"
      ]
     },
     "execution_count": 36,
     "metadata": {},
     "output_type": "execute_result"
    }
   ],
   "source": [
    "new_arr.shape"
   ]
  },
  {
   "cell_type": "markdown",
   "id": "e5eae0b4-7a2a-4772-bb4b-92d847a5e931",
   "metadata": {},
   "source": [
    "# lets try 3D array"
   ]
  },
  {
   "cell_type": "code",
   "execution_count": 37,
   "id": "d7ffcf1d-7741-4f90-87f4-05bfa4f86ab8",
   "metadata": {},
   "outputs": [],
   "source": [
    "new_arr=np.insert(new_arr,1,1,axis=1)"
   ]
  },
  {
   "cell_type": "code",
   "execution_count": 38,
   "id": "6a016001-5760-432b-9fdb-da29808f5f77",
   "metadata": {},
   "outputs": [
    {
     "data": {
      "text/plain": [
       "(11, 12)"
      ]
     },
     "execution_count": 38,
     "metadata": {},
     "output_type": "execute_result"
    }
   ],
   "source": [
    "new_arr.shape"
   ]
  },
  {
   "cell_type": "code",
   "execution_count": 41,
   "id": "685b587d-0aaa-487b-8b17-caf155138fab",
   "metadata": {},
   "outputs": [
    {
     "data": {
      "text/plain": [
       "array([[[-10.,   1.,  40.],\n",
       "        [ 90., 140., 190.],\n",
       "        [240., 290., 340.],\n",
       "        [390., 440., 490.],\n",
       "        [ 40.,   1.,  90.],\n",
       "        [140., 190., 240.],\n",
       "        [290., 340., 390.],\n",
       "        [440., 490., 540.],\n",
       "        [ 90.,   1., 140.],\n",
       "        [190., 240., 290.],\n",
       "        [340., 390., 440.]],\n",
       "\n",
       "       [[490., 540., 590.],\n",
       "        [140.,   1., 190.],\n",
       "        [240., 290., 340.],\n",
       "        [390., 440., 490.],\n",
       "        [540., 590., 640.],\n",
       "        [190.,   1., 240.],\n",
       "        [290., 340., 390.],\n",
       "        [440., 490., 540.],\n",
       "        [590., 640., 690.],\n",
       "        [240.,   1., 290.],\n",
       "        [340., 390., 440.]],\n",
       "\n",
       "       [[490., 540., 590.],\n",
       "        [640., 690., 740.],\n",
       "        [290.,   1., 340.],\n",
       "        [390., 440., 490.],\n",
       "        [540., 590., 640.],\n",
       "        [690., 740., 790.],\n",
       "        [340.,   1., 390.],\n",
       "        [440., 490., 540.],\n",
       "        [590., 640., 690.],\n",
       "        [740., 790., 840.],\n",
       "        [390.,   1., 440.]],\n",
       "\n",
       "       [[490., 540., 590.],\n",
       "        [640., 690., 740.],\n",
       "        [790., 840., 890.],\n",
       "        [440.,   1., 490.],\n",
       "        [540., 590., 640.],\n",
       "        [690., 740., 790.],\n",
       "        [840., 890., 940.],\n",
       "        [490.,   1., 540.],\n",
       "        [590., 640., 690.],\n",
       "        [740., 790., 840.],\n",
       "        [890., 940., 990.]]])"
      ]
     },
     "execution_count": 41,
     "metadata": {},
     "output_type": "execute_result"
    }
   ],
   "source": [
    "new_arr.shape=(4,11,3)\n",
    "new_arr"
   ]
  },
  {
   "cell_type": "code",
   "execution_count": 42,
   "id": "3fe10b1a-bff9-4a60-a768-bdc70b5aeefa",
   "metadata": {},
   "outputs": [
    {
     "data": {
      "text/plain": [
       "(4, 11, 3)"
      ]
     },
     "execution_count": 42,
     "metadata": {},
     "output_type": "execute_result"
    }
   ],
   "source": [
    "new_arr.shape"
   ]
  },
  {
   "cell_type": "code",
   "execution_count": 44,
   "id": "e233f9cc-ada7-48a5-b2bd-865e92b9225a",
   "metadata": {},
   "outputs": [
    {
     "ename": "ValueError",
     "evalue": "Expected 1D or 2D array, got 3D array instead",
     "output_type": "error",
     "traceback": [
      "\u001b[1;31m---------------------------------------------------------------------------\u001b[0m",
      "\u001b[1;31mValueError\u001b[0m                                Traceback (most recent call last)",
      "Cell \u001b[1;32mIn[44], line 1\u001b[0m\n\u001b[1;32m----> 1\u001b[0m np\u001b[38;5;241m.\u001b[39msavetxt(\u001b[38;5;124m'\u001b[39m\u001b[38;5;124mexported_multidim_dataset_2.csv\u001b[39m\u001b[38;5;124m'\u001b[39m, new_arr, delimiter\u001b[38;5;241m=\u001b[39m\u001b[38;5;124m'\u001b[39m\u001b[38;5;124m,\u001b[39m\u001b[38;5;124m'\u001b[39m, fmt\u001b[38;5;241m=\u001b[39m\u001b[38;5;124m'\u001b[39m\u001b[38;5;132;01m%d\u001b[39;00m\u001b[38;5;124m'\u001b[39m,header\u001b[38;5;241m=\u001b[39m\u001b[38;5;124m\"\u001b[39m\u001b[38;5;124m\"\u001b[39m)\n",
      "File \u001b[1;32mC:\\ProgramData\\anaconda3\\Lib\\site-packages\\numpy\\lib\\npyio.py:1570\u001b[0m, in \u001b[0;36msavetxt\u001b[1;34m(fname, X, fmt, delimiter, newline, header, footer, comments, encoding)\u001b[0m\n\u001b[0;32m   1568\u001b[0m \u001b[38;5;66;03m# Handle 1-dimensional arrays\u001b[39;00m\n\u001b[0;32m   1569\u001b[0m \u001b[38;5;28;01mif\u001b[39;00m X\u001b[38;5;241m.\u001b[39mndim \u001b[38;5;241m==\u001b[39m \u001b[38;5;241m0\u001b[39m \u001b[38;5;129;01mor\u001b[39;00m X\u001b[38;5;241m.\u001b[39mndim \u001b[38;5;241m>\u001b[39m \u001b[38;5;241m2\u001b[39m:\n\u001b[1;32m-> 1570\u001b[0m     \u001b[38;5;28;01mraise\u001b[39;00m \u001b[38;5;167;01mValueError\u001b[39;00m(\n\u001b[0;32m   1571\u001b[0m         \u001b[38;5;124m\"\u001b[39m\u001b[38;5;124mExpected 1D or 2D array, got \u001b[39m\u001b[38;5;132;01m%d\u001b[39;00m\u001b[38;5;124mD array instead\u001b[39m\u001b[38;5;124m\"\u001b[39m \u001b[38;5;241m%\u001b[39m X\u001b[38;5;241m.\u001b[39mndim)\n\u001b[0;32m   1572\u001b[0m \u001b[38;5;28;01melif\u001b[39;00m X\u001b[38;5;241m.\u001b[39mndim \u001b[38;5;241m==\u001b[39m \u001b[38;5;241m1\u001b[39m:\n\u001b[0;32m   1573\u001b[0m     \u001b[38;5;66;03m# Common case -- 1d array of numbers\u001b[39;00m\n\u001b[0;32m   1574\u001b[0m     \u001b[38;5;28;01mif\u001b[39;00m X\u001b[38;5;241m.\u001b[39mdtype\u001b[38;5;241m.\u001b[39mnames \u001b[38;5;129;01mis\u001b[39;00m \u001b[38;5;28;01mNone\u001b[39;00m:\n",
      "\u001b[1;31mValueError\u001b[0m: Expected 1D or 2D array, got 3D array instead"
     ]
    }
   ],
   "source": [
    "np.savetxt('exported_multidim_dataset_2.csv', new_arr, delimiter=',', fmt='%d',header=\"\")  # can not write 3d"
   ]
  },
  {
   "cell_type": "markdown",
   "id": "351e0463-a09b-4acb-a726-5a5804b35051",
   "metadata": {},
   "source": [
    "# let's try another function"
   ]
  },
  {
   "cell_type": "code",
   "execution_count": 45,
   "id": "15a5d2a6-4091-4a9c-aaf8-4d7415a0378c",
   "metadata": {},
   "outputs": [],
   "source": [
    "np.save( 'exported_multidim_dataset.npy', new_arr)\n"
   ]
  },
  {
   "cell_type": "code",
   "execution_count": 46,
   "id": "f201168f-5c7e-4acd-b8b0-82e6ee2b26c2",
   "metadata": {},
   "outputs": [],
   "source": [
    "arr = np.load( 'exported_multidim_dataset.npy') \n"
   ]
  },
  {
   "cell_type": "code",
   "execution_count": 47,
   "id": "44ade6b6-4f7c-43ed-a372-c4a7f0a60b8f",
   "metadata": {},
   "outputs": [
    {
     "data": {
      "text/plain": [
       "(4, 11, 3)"
      ]
     },
     "execution_count": 47,
     "metadata": {},
     "output_type": "execute_result"
    }
   ],
   "source": [
    "arr.shape\n"
   ]
  },
  {
   "cell_type": "code",
   "execution_count": 48,
   "id": "49e432d7-a134-4401-bcef-dd35c8fc21e9",
   "metadata": {},
   "outputs": [
    {
     "data": {
      "text/plain": [
       "array([[[-10.,   1.,  40.],\n",
       "        [ 90., 140., 190.],\n",
       "        [240., 290., 340.],\n",
       "        [390., 440., 490.],\n",
       "        [ 40.,   1.,  90.],\n",
       "        [140., 190., 240.],\n",
       "        [290., 340., 390.],\n",
       "        [440., 490., 540.],\n",
       "        [ 90.,   1., 140.],\n",
       "        [190., 240., 290.],\n",
       "        [340., 390., 440.]],\n",
       "\n",
       "       [[490., 540., 590.],\n",
       "        [140.,   1., 190.],\n",
       "        [240., 290., 340.],\n",
       "        [390., 440., 490.],\n",
       "        [540., 590., 640.],\n",
       "        [190.,   1., 240.],\n",
       "        [290., 340., 390.],\n",
       "        [440., 490., 540.],\n",
       "        [590., 640., 690.],\n",
       "        [240.,   1., 290.],\n",
       "        [340., 390., 440.]],\n",
       "\n",
       "       [[490., 540., 590.],\n",
       "        [640., 690., 740.],\n",
       "        [290.,   1., 340.],\n",
       "        [390., 440., 490.],\n",
       "        [540., 590., 640.],\n",
       "        [690., 740., 790.],\n",
       "        [340.,   1., 390.],\n",
       "        [440., 490., 540.],\n",
       "        [590., 640., 690.],\n",
       "        [740., 790., 840.],\n",
       "        [390.,   1., 440.]],\n",
       "\n",
       "       [[490., 540., 590.],\n",
       "        [640., 690., 740.],\n",
       "        [790., 840., 890.],\n",
       "        [440.,   1., 490.],\n",
       "        [540., 590., 640.],\n",
       "        [690., 740., 790.],\n",
       "        [840., 890., 940.],\n",
       "        [490.,   1., 540.],\n",
       "        [590., 640., 690.],\n",
       "        [740., 790., 840.],\n",
       "        [890., 940., 990.]]])"
      ]
     },
     "execution_count": 48,
     "metadata": {},
     "output_type": "execute_result"
    }
   ],
   "source": [
    "arr"
   ]
  },
  {
   "cell_type": "markdown",
   "id": "d55f1766-292b-4d54-941f-ea026bd0f965",
   "metadata": {},
   "source": [
    "# it`s good  now :)"
   ]
  },
  {
   "cell_type": "code",
   "execution_count": null,
   "id": "bcff84e1-ae87-4843-a6fc-01c4d6ad74bb",
   "metadata": {},
   "outputs": [],
   "source": []
  },
  {
   "cell_type": "code",
   "execution_count": null,
   "id": "a6285d00-507c-45f1-a22e-87ac48ac0ee2",
   "metadata": {},
   "outputs": [],
   "source": []
  },
  {
   "cell_type": "code",
   "execution_count": null,
   "id": "c89d41d3-d9cd-486e-99d6-b3b526a71786",
   "metadata": {},
   "outputs": [],
   "source": []
  },
  {
   "cell_type": "code",
   "execution_count": null,
   "id": "eed2e234-434d-41f0-9dc5-fb5e9717ea20",
   "metadata": {},
   "outputs": [],
   "source": []
  },
  {
   "cell_type": "code",
   "execution_count": null,
   "id": "a7145aef-7e56-431f-9b77-e76961e1f82a",
   "metadata": {},
   "outputs": [],
   "source": []
  },
  {
   "cell_type": "code",
   "execution_count": null,
   "id": "75cfef88-42bc-4313-8ccd-4c888a0ee97e",
   "metadata": {},
   "outputs": [],
   "source": []
  }
 ],
 "metadata": {
  "kernelspec": {
   "display_name": "Python 3 (ipykernel)",
   "language": "python",
   "name": "python3"
  },
  "language_info": {
   "codemirror_mode": {
    "name": "ipython",
    "version": 3
   },
   "file_extension": ".py",
   "mimetype": "text/x-python",
   "name": "python",
   "nbconvert_exporter": "python",
   "pygments_lexer": "ipython3",
   "version": "3.12.4"
  }
 },
 "nbformat": 4,
 "nbformat_minor": 5
}

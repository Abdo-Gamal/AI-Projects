{
 "cells": [
  {
   "cell_type": "markdown",
   "id": "897c1aa7-53de-4bf8-b654-c7aa3a0fd4df",
   "metadata": {},
   "source": [
    "# Linear Algebra"
   ]
  },
  {
   "cell_type": "code",
   "execution_count": 1,
   "id": "1d94e388-128d-489e-bd49-fc0a8060b77b",
   "metadata": {},
   "outputs": [],
   "source": [
    "import numpy as np\n"
   ]
  },
  {
   "cell_type": "code",
   "execution_count": 9,
   "id": "f3a4ccd9-f03a-4ea1-8e32-066b4c45cec4",
   "metadata": {},
   "outputs": [],
   "source": [
    "left_mat = np.arange(6).reshape((2,3)) \n",
    "right_mat = np.arange(15).reshape((3,5))\n"
   ]
  },
  {
   "cell_type": "code",
   "execution_count": 3,
   "id": "3da4df5d-9d4e-423c-a5fa-60e087381ffb",
   "metadata": {},
   "outputs": [
    {
     "data": {
      "text/plain": [
       "array([[ 25,  28,  31,  34,  37],\n",
       "       [ 70,  82,  94, 106, 118]])"
      ]
     },
     "execution_count": 3,
     "metadata": {},
     "output_type": "execute_result"
    }
   ],
   "source": [
    "\n",
    "np.dot(left_mat, right_mat)\n"
   ]
  },
  {
   "cell_type": "code",
   "execution_count": 4,
   "id": "da4d61e8-2d29-4dbf-a26d-996682843e54",
   "metadata": {},
   "outputs": [
    {
     "data": {
      "text/plain": [
       "matrix([[3, 1, 4],\n",
       "        [1, 5, 9],\n",
       "        [2, 6, 5]])"
      ]
     },
     "execution_count": 4,
     "metadata": {},
     "output_type": "execute_result"
    }
   ],
   "source": [
    "my_first_matrix = np.matrix([[3, 1, 4], [1, 5, 9], [2, 6, 5]])\n",
    "my_first_matrix"
   ]
  },
  {
   "cell_type": "markdown",
   "id": "9e63e0ae-1dc1-4d44-b28e-8d2919277e4c",
   "metadata": {},
   "source": [
    "\n",
    "https://numpy.org/doc/stable/reference/generated/numpy.matrix.html"
   ]
  },
  {
   "cell_type": "code",
   "execution_count": 15,
   "id": "9972e63a-2e7a-4b6f-92bd-ae6f2571270c",
   "metadata": {},
   "outputs": [
    {
     "data": {
      "text/plain": [
       "matrix([[3, 1, 2],\n",
       "        [1, 5, 6],\n",
       "        [4, 9, 5]])"
      ]
     },
     "execution_count": 15,
     "metadata": {},
     "output_type": "execute_result"
    }
   ],
   "source": [
    "# transpose \n",
    "my_first_matrix.T\n"
   ]
  },
  {
   "cell_type": "code",
   "execution_count": 19,
   "id": "9bc9e352-a6bf-4bb6-a65c-c88f90a8d1fb",
   "metadata": {},
   "outputs": [
    {
     "data": {
      "text/plain": [
       "matrix([[ 0.32222222, -0.21111111,  0.12222222],\n",
       "        [-0.14444444, -0.07777778,  0.25555556],\n",
       "        [ 0.04444444,  0.17777778, -0.15555556]])"
      ]
     },
     "execution_count": 19,
     "metadata": {},
     "output_type": "execute_result"
    }
   ],
   "source": [
    "#matrix invers \n",
    "my_first_inverse=my_first_matrix.I\n",
    "my_first_inverse"
   ]
  },
  {
   "cell_type": "code",
   "execution_count": 21,
   "id": "cc0dde06-6a79-4c8f-9e41-726f0aa380ea",
   "metadata": {},
   "outputs": [
    {
     "data": {
      "text/plain": [
       "matrix([[ 1.00000000e+00,  0.00000000e+00,  0.00000000e+00],\n",
       "        [ 0.00000000e+00,  1.00000000e+00, -1.38777878e-16],\n",
       "        [ 5.55111512e-17, -1.38777878e-16,  1.00000000e+00]])"
      ]
     },
     "execution_count": 21,
     "metadata": {},
     "output_type": "execute_result"
    }
   ],
   "source": [
    "#should return inverse; floating point values \"almost\" equal zero\n",
    "my_first_matrix* my_first_inverse\n"
   ]
  },
  {
   "cell_type": "code",
   "execution_count": 22,
   "id": "ab69c798-a9fa-425e-932d-e1ba21cba814",
   "metadata": {},
   "outputs": [
    {
     "data": {
      "text/plain": [
       "array([[1., 0., 0., 0., 0.],\n",
       "       [0., 1., 0., 0., 0.],\n",
       "       [0., 0., 1., 0., 0.],\n",
       "       [0., 0., 0., 1., 0.],\n",
       "       [0., 0., 0., 0., 1.]])"
      ]
     },
     "execution_count": 22,
     "metadata": {},
     "output_type": "execute_result"
    }
   ],
   "source": [
    "# create an identity matrix\n",
    "np.eye(5)"
   ]
  },
  {
   "cell_type": "markdown",
   "id": "fa94280d-4c8a-4aba-9888-0dbc0d9ca279",
   "metadata": {},
   "source": [
    "# Solve simultaneous linear equations\n"
   ]
  },
  {
   "cell_type": "code",
   "execution_count": 24,
   "id": "d5ddccb3-8996-4b22-a94d-fde47b7780dd",
   "metadata": {},
   "outputs": [
    {
     "data": {
      "text/plain": [
       "matrix([[11],\n",
       "        [22],\n",
       "        [33]])"
      ]
     },
     "execution_count": 24,
     "metadata": {},
     "output_type": "execute_result"
    }
   ],
   "source": [
    "right_hand_side = np.matrix([[11],\n",
    "                                [22], \n",
    "                                [33]])\n",
    "right_hand_side"
   ]
  },
  {
   "cell_type": "code",
   "execution_count": 25,
   "id": "f75e8867-5c52-4326-9581-35fe8f4fd411",
   "metadata": {},
   "outputs": [
    {
     "data": {
      "text/plain": [
       "matrix([[ 2.93333333],\n",
       "        [ 5.13333333],\n",
       "        [-0.73333333]])"
      ]
     },
     "execution_count": 25,
     "metadata": {},
     "output_type": "execute_result"
    }
   ],
   "source": [
    " # not efficient; use only for small matrices \n",
    "solution =my_first_inverse *right_hand_side \n",
    "solution"
   ]
  },
  {
   "cell_type": "code",
   "execution_count": null,
   "id": "57e68585-df8e-4580-ae92-f258b1b23e11",
   "metadata": {},
   "outputs": [],
   "source": []
  },
  {
   "cell_type": "code",
   "execution_count": null,
   "id": "0a0af054-3ef6-494b-832e-66a63b71426e",
   "metadata": {},
   "outputs": [],
   "source": []
  },
  {
   "cell_type": "code",
   "execution_count": 26,
   "id": "606d74ae-5086-41ea-91df-1c6775759a9e",
   "metadata": {},
   "outputs": [
    {
     "data": {
      "text/plain": [
       "matrix([[ 2.93333333],\n",
       "        [ 5.13333333],\n",
       "        [-0.73333333]])"
      ]
     },
     "execution_count": 26,
     "metadata": {},
     "output_type": "execute_result"
    }
   ],
   "source": [
    "# more efficient for Large matrices \n",
    "from numpy.linalg import solve \n",
    "solve (my_first_matrix,right_hand_side)\n"
   ]
  },
  {
   "cell_type": "raw",
   "id": "8e4aff89-6fb3-4012-a58e-a00aba583510",
   "metadata": {},
   "source": [
    "2x+5y+4z = 10\n",
    "x-y+4z = 20\n",
    "-4x+3y-z = 5\n",
    "\n"
   ]
  },
  {
   "cell_type": "code",
   "execution_count": 28,
   "id": "1f297fe4-8a54-4149-8638-5199e4a1e250",
   "metadata": {},
   "outputs": [
    {
     "data": {
      "text/plain": [
       "matrix([[-3.46534653],\n",
       "        [-1.08910891],\n",
       "        [ 5.59405941]])"
      ]
     },
     "execution_count": 28,
     "metadata": {},
     "output_type": "execute_result"
    }
   ],
   "source": [
    "coeff_matrix = np.matrix([[2, 5, 4], [1, -1, 4], [-4, 3, -1]]) \n",
    "rh_side =np.matrix([[10], [20], [5]])\n",
    "solve(coeff_matrix, rh_side)\n",
    "\n"
   ]
  },
  {
   "cell_type": "code",
   "execution_count": 27,
   "id": "2ce5372d-acbc-407b-ab83-713838c7bba4",
   "metadata": {},
   "outputs": [
    {
     "data": {
      "text/plain": [
       "EigResult(eigenvalues=array([13.08576474,  2.58000566, -2.66577041]), eigenvectors=matrix([[-0.31542644, -0.95117074, -0.32372474],\n",
       "        [-0.72306109,  0.30781323, -0.70222933],\n",
       "        [-0.61456393,  0.02291827,  0.63409484]]))"
      ]
     },
     "execution_count": 27,
     "metadata": {},
     "output_type": "execute_result"
    }
   ],
   "source": [
    "# Compute the eigenvalues and right eigenvectors\n",
    "from numpy.linalg import eig\n",
    "eig(my_first_matrix)\n"
   ]
  },
  {
   "cell_type": "markdown",
   "id": "40aa8881-5401-47ed-a563-042e4a513ba1",
   "metadata": {},
   "source": [
    "\n",
    "# for more information about NumPy Linear Algebra\n",
    "https://numpy.org/doc/stable/reference/routines.linalg.html"
   ]
  },
  {
   "cell_type": "code",
   "execution_count": null,
   "id": "d4f9c362-15d2-470c-b95d-c916459fdd2a",
   "metadata": {},
   "outputs": [],
   "source": []
  },
  {
   "cell_type": "code",
   "execution_count": null,
   "id": "1e9ba247-8188-42e0-a250-85497a08d81f",
   "metadata": {},
   "outputs": [],
   "source": []
  }
 ],
 "metadata": {
  "kernelspec": {
   "display_name": "Python 3 (ipykernel)",
   "language": "python",
   "name": "python3"
  },
  "language_info": {
   "codemirror_mode": {
    "name": "ipython",
    "version": 3
   },
   "file_extension": ".py",
   "mimetype": "text/x-python",
   "name": "python",
   "nbconvert_exporter": "python",
   "pygments_lexer": "ipython3",
   "version": "3.12.4"
  }
 },
 "nbformat": 4,
 "nbformat_minor": 5
}

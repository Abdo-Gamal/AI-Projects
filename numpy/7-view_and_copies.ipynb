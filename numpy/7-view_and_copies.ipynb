{
 "cells": [
  {
   "cell_type": "markdown",
   "id": "059c3724-6934-4218-9a1e-d96f3c5851b0",
   "metadata": {},
   "source": [
    "# Views and Copies"
   ]
  },
  {
   "cell_type": "code",
   "execution_count": 31,
   "id": "3a9bd6cc-da22-4246-841e-8ef77bec458d",
   "metadata": {},
   "outputs": [],
   "source": [
    " import numpy as np\n"
   ]
  },
  {
   "cell_type": "code",
   "execution_count": 32,
   "id": "425289a8-079a-43d0-967e-cac7a0fc9204",
   "metadata": {},
   "outputs": [],
   "source": [
    "mi_casa = np.array([-45, -31, -12, 0, 2, 25, 51, 99])\n"
   ]
  },
  {
   "cell_type": "code",
   "execution_count": 33,
   "id": "b76383ad-7227-42bf-bd5a-a144d804f5ed",
   "metadata": {},
   "outputs": [],
   "source": [
    "su_casa = mi_casa\n"
   ]
  },
  {
   "cell_type": "markdown",
   "id": "310f3132-4c22-4ae7-b543-250465a05f4b",
   "metadata": {},
   "source": [
    "# Same or Different?\n"
   ]
  },
  {
   "cell_type": "code",
   "execution_count": 34,
   "id": "bc5c5ebe-73f9-471f-8052-331ed8b2f481",
   "metadata": {},
   "outputs": [
    {
     "data": {
      "text/plain": [
       "True"
      ]
     },
     "execution_count": 34,
     "metadata": {},
     "output_type": "execute_result"
    }
   ],
   "source": [
    "#reference equality or no shallow  copy\n",
    "su_casa is mi_casa"
   ]
  },
  {
   "cell_type": "code",
   "execution_count": 35,
   "id": "bcde3c97-df48-47b1-9cef-0ebdc34a4a14",
   "metadata": {},
   "outputs": [
    {
     "data": {
      "text/plain": [
       "1506968160848"
      ]
     },
     "execution_count": 35,
     "metadata": {},
     "output_type": "execute_result"
    }
   ],
   "source": [
    "id(mi_casa)"
   ]
  },
  {
   "cell_type": "code",
   "execution_count": 36,
   "id": "4720be97-99ba-4af7-a5d1-77b9ac37b987",
   "metadata": {},
   "outputs": [
    {
     "data": {
      "text/plain": [
       "1506968160848"
      ]
     },
     "execution_count": 36,
     "metadata": {},
     "output_type": "execute_result"
    }
   ],
   "source": [
    "id(su_casa)"
   ]
  },
  {
   "cell_type": "code",
   "execution_count": 37,
   "id": "806542ee-4459-4078-99a2-9de7fa6d451e",
   "metadata": {},
   "outputs": [
    {
     "data": {
      "text/plain": [
       "array([ True,  True,  True,  True,  True,  True,  True,  True])"
      ]
     },
     "execution_count": 37,
     "metadata": {},
     "output_type": "execute_result"
    }
   ],
   "source": [
    "#value inqulaty \n",
    "mi_casa==su_casa"
   ]
  },
  {
   "cell_type": "code",
   "execution_count": 38,
   "id": "790adae7-9118-403d-b301-f6436d6f5929",
   "metadata": {},
   "outputs": [],
   "source": [
    "su_casa[4]=1010"
   ]
  },
  {
   "cell_type": "code",
   "execution_count": 39,
   "id": "009bdf5b-829f-49d6-88dd-c70f55706949",
   "metadata": {},
   "outputs": [
    {
     "data": {
      "text/plain": [
       "array([ -45,  -31,  -12,    0, 1010,   25,   51,   99])"
      ]
     },
     "execution_count": 39,
     "metadata": {},
     "output_type": "execute_result"
    }
   ],
   "source": [
    "su_casa"
   ]
  },
  {
   "cell_type": "code",
   "execution_count": 40,
   "id": "d6fb0fd9-8e6e-4afb-9705-f6da95be93f7",
   "metadata": {},
   "outputs": [
    {
     "data": {
      "text/plain": [
       "array([ -45,  -31,  -12,    0, 1010,   25,   51,   99])"
      ]
     },
     "execution_count": 40,
     "metadata": {},
     "output_type": "execute_result"
    }
   ],
   "source": [
    "mi_casa"
   ]
  },
  {
   "cell_type": "markdown",
   "id": "2acb16f9-be0f-4d54-bec3-156c6165e5e4",
   "metadata": {},
   "source": [
    "### Let's create new array with same value of mi_case"
   ]
  },
  {
   "cell_type": "code",
   "execution_count": 41,
   "id": "1383a3ce-f22e-419b-ae94-8648b9f6d18d",
   "metadata": {},
   "outputs": [],
   "source": [
    "tree_house = np.array([-45, -31, -12, 0, 1010, 25, 51, 99])"
   ]
  },
  {
   "cell_type": "code",
   "execution_count": 42,
   "id": "a2799b85-b20e-4861-a82a-a0ca56d9d060",
   "metadata": {},
   "outputs": [
    {
     "data": {
      "text/plain": [
       "array([ True,  True,  True,  True,  True,  True,  True,  True])"
      ]
     },
     "execution_count": 42,
     "metadata": {},
     "output_type": "execute_result"
    }
   ],
   "source": [
    "tree_house == mi_casa"
   ]
  },
  {
   "cell_type": "code",
   "execution_count": 43,
   "id": "9534f421-0bff-428b-b74e-baa2d0e99832",
   "metadata": {},
   "outputs": [
    {
     "data": {
      "text/plain": [
       "1506968166224"
      ]
     },
     "execution_count": 43,
     "metadata": {},
     "output_type": "execute_result"
    }
   ],
   "source": [
    "id(tree_house)"
   ]
  },
  {
   "cell_type": "code",
   "execution_count": 44,
   "id": "37f47df9-1bc8-44b1-9cdb-63ba5d53f500",
   "metadata": {},
   "outputs": [
    {
     "data": {
      "text/plain": [
       "1506968160848"
      ]
     },
     "execution_count": 44,
     "metadata": {},
     "output_type": "execute_result"
    }
   ],
   "source": [
    "id(mi_casa)\n"
   ]
  },
  {
   "cell_type": "code",
   "execution_count": 45,
   "id": "ee0898fa-8720-447e-b7c1-24bdb876629b",
   "metadata": {},
   "outputs": [],
   "source": [
    "tree_house[0]=214"
   ]
  },
  {
   "cell_type": "code",
   "execution_count": 46,
   "id": "619e0b40-c45a-42fa-a9f1-e84313d8f50c",
   "metadata": {},
   "outputs": [
    {
     "data": {
      "text/plain": [
       "array([ 214,  -31,  -12,    0, 1010,   25,   51,   99])"
      ]
     },
     "execution_count": 46,
     "metadata": {},
     "output_type": "execute_result"
    }
   ],
   "source": [
    "tree_house"
   ]
  },
  {
   "cell_type": "code",
   "execution_count": 47,
   "id": "52b6463d-e297-4e1f-92c6-c1d36be2ff0e",
   "metadata": {},
   "outputs": [
    {
     "data": {
      "text/plain": [
       "array([ -45,  -31,  -12,    0, 1010,   25,   51,   99])"
      ]
     },
     "execution_count": 47,
     "metadata": {},
     "output_type": "execute_result"
    }
   ],
   "source": [
    "mi_casa"
   ]
  },
  {
   "cell_type": "markdown",
   "id": "38e7c473-6ab3-4efd-a9f0-ee608cf6a353",
   "metadata": {},
   "source": [
    "# View: a shallow copy"
   ]
  },
  {
   "cell_type": "code",
   "execution_count": 48,
   "id": "014a686d-8e62-4924-b3f8-6d2fe6f1d6d4",
   "metadata": {},
   "outputs": [],
   "source": [
    "farm_house = tree_house.view() \n",
    "farm_house.shape = (2,4)\n"
   ]
  },
  {
   "cell_type": "code",
   "execution_count": 49,
   "id": "1ae4c4df-b233-494d-b743-4fe33adabce1",
   "metadata": {},
   "outputs": [
    {
     "data": {
      "text/plain": [
       "1506968166224"
      ]
     },
     "execution_count": 49,
     "metadata": {},
     "output_type": "execute_result"
    }
   ],
   "source": [
    "id(tree_house)\n"
   ]
  },
  {
   "cell_type": "code",
   "execution_count": 50,
   "id": "d4905add-5cb1-4f82-8545-08049421e365",
   "metadata": {},
   "outputs": [
    {
     "data": {
      "text/plain": [
       "1506968169680"
      ]
     },
     "execution_count": 50,
     "metadata": {},
     "output_type": "execute_result"
    }
   ],
   "source": [
    "id(farm_house)"
   ]
  },
  {
   "cell_type": "code",
   "execution_count": 51,
   "id": "d70cf0d4-9e0c-4aef-8f67-52c9c4e89ecb",
   "metadata": {},
   "outputs": [
    {
     "data": {
      "text/plain": [
       "array([[ 214,  -31,  -12,    0],\n",
       "       [1010,   25,   51,   99]])"
      ]
     },
     "execution_count": 51,
     "metadata": {},
     "output_type": "execute_result"
    }
   ],
   "source": [
    "farm_house"
   ]
  },
  {
   "cell_type": "code",
   "execution_count": 52,
   "id": "d22bdcf9-a4c6-4599-94c3-85e225356bf3",
   "metadata": {},
   "outputs": [
    {
     "data": {
      "text/plain": [
       "array([ 214,  -31,  -12,    0, 1010,   25,   51,   99])"
      ]
     },
     "execution_count": 52,
     "metadata": {},
     "output_type": "execute_result"
    }
   ],
   "source": [
    "tree_house"
   ]
  },
  {
   "cell_type": "code",
   "execution_count": 60,
   "id": "8cccefcf-9111-4f36-826f-f9fa3f0d7044",
   "metadata": {},
   "outputs": [
    {
     "data": {
      "text/plain": [
       "array([ 214,  -31,  -12, -111, 1010,   25,   51,   99])"
      ]
     },
     "execution_count": 60,
     "metadata": {},
     "output_type": "execute_result"
    }
   ],
   "source": [
    "tree_house[3]=-111\n",
    "tree_house"
   ]
  },
  {
   "cell_type": "code",
   "execution_count": 61,
   "id": "0dba86d1-b03b-4cd0-9be1-d99b1715245a",
   "metadata": {},
   "outputs": [
    {
     "data": {
      "text/plain": [
       "array([[ 214,  -31,  -12, -111],\n",
       "       [1010,   25,   51,   99]])"
      ]
     },
     "execution_count": 61,
     "metadata": {},
     "output_type": "execute_result"
    }
   ],
   "source": [
    "farm_house\n"
   ]
  },
  {
   "cell_type": "code",
   "execution_count": 66,
   "id": "caad9e5c-1216-46a9-8653-e7a92bf3b872",
   "metadata": {},
   "outputs": [
    {
     "data": {
      "text/plain": [
       "-111"
      ]
     },
     "execution_count": 66,
     "metadata": {},
     "output_type": "execute_result"
    }
   ],
   "source": [
    "farm_house[0,3]"
   ]
  },
  {
   "cell_type": "markdown",
   "id": "a1ab1779-f950-4c71-a14e-64b8a5a546c8",
   "metadata": {},
   "source": [
    "# Deep copy"
   ]
  },
  {
   "cell_type": "code",
   "execution_count": 69,
   "id": "3b97b3e0-a52a-4a9f-9766-64737239efe0",
   "metadata": {},
   "outputs": [
    {
     "data": {
      "text/plain": [
       "array([-222,  -31,  -12, -111, 1010,   25,   51,   99])"
      ]
     },
     "execution_count": 69,
     "metadata": {},
     "output_type": "execute_result"
    }
   ],
   "source": [
    "dog_house=np.copy(tree_house)\n",
    "dog_house[0]=-222\n",
    "dog_house"
   ]
  },
  {
   "cell_type": "code",
   "execution_count": 70,
   "id": "e778d520-d3a4-43b0-b1eb-ad3ce9940eec",
   "metadata": {},
   "outputs": [
    {
     "data": {
      "text/plain": [
       "array([ 214,  -31,  -12, -111, 1010,   25,   51,   99])"
      ]
     },
     "execution_count": 70,
     "metadata": {},
     "output_type": "execute_result"
    }
   ],
   "source": [
    "tree_house  # not change"
   ]
  },
  {
   "cell_type": "code",
   "execution_count": 72,
   "id": "b05da7c3-7ab8-4cae-9180-477a2bd7541a",
   "metadata": {},
   "outputs": [
    {
     "data": {
      "text/plain": [
       "array([[[ 214,  -31],\n",
       "        [ -12, -111]],\n",
       "\n",
       "       [[1010,   25],\n",
       "        [  51,   99]]])"
      ]
     },
     "execution_count": 72,
     "metadata": {},
     "output_type": "execute_result"
    }
   ],
   "source": [
    "tree_house.shape=(2,2,2)\n",
    "tree_house"
   ]
  },
  {
   "cell_type": "code",
   "execution_count": 73,
   "id": "0f47c8b9-13df-4d01-9857-b81d01e21070",
   "metadata": {},
   "outputs": [
    {
     "data": {
      "text/plain": [
       "array([[[ 214,  -31],\n",
       "        [ -12, -111]],\n",
       "\n",
       "       [[1010,   25],\n",
       "        [  51,   99]]])"
      ]
     },
     "execution_count": 73,
     "metadata": {},
     "output_type": "execute_result"
    }
   ],
   "source": [
    "new_arr=np.copy(tree_house)   #two Dim\n",
    "new_arr"
   ]
  },
  {
   "cell_type": "code",
   "execution_count": 79,
   "id": "8d430b07-6c92-4de3-bcc7-bbf654dd547e",
   "metadata": {},
   "outputs": [
    {
     "data": {
      "text/plain": [
       "array([[[ 214,  -31],\n",
       "        [ -12, 1010]],\n",
       "\n",
       "       [[1010,   25],\n",
       "        [  51,   99]]])"
      ]
     },
     "execution_count": 79,
     "metadata": {},
     "output_type": "execute_result"
    }
   ],
   "source": [
    "new_arr[0,1,1]=1010   # new_arr[0][1][1]\n",
    "new_arr"
   ]
  },
  {
   "cell_type": "code",
   "execution_count": 78,
   "id": "c6ac010c-4029-4624-a355-2e71ca80c70f",
   "metadata": {},
   "outputs": [
    {
     "data": {
      "text/plain": [
       "array([[[ 214,  -31],\n",
       "        [ -12, -111]],\n",
       "\n",
       "       [[1010,   25],\n",
       "        [  51,   99]]])"
      ]
     },
     "execution_count": 78,
     "metadata": {},
     "output_type": "execute_result"
    }
   ],
   "source": [
    "tree_house  # not change"
   ]
  },
  {
   "cell_type": "code",
   "execution_count": null,
   "id": "a2308299-8adb-4cc8-8197-efc407d0e672",
   "metadata": {},
   "outputs": [],
   "source": []
  },
  {
   "cell_type": "code",
   "execution_count": null,
   "id": "cdbcab66-55ec-4692-a224-4c7cc4b65bcd",
   "metadata": {},
   "outputs": [],
   "source": []
  },
  {
   "cell_type": "code",
   "execution_count": null,
   "id": "0f122589-ece9-4da6-8d5a-0123512c3350",
   "metadata": {},
   "outputs": [],
   "source": []
  }
 ],
 "metadata": {
  "kernelspec": {
   "display_name": "Python 3 (ipykernel)",
   "language": "python",
   "name": "python3"
  },
  "language_info": {
   "codemirror_mode": {
    "name": "ipython",
    "version": 3
   },
   "file_extension": ".py",
   "mimetype": "text/x-python",
   "name": "python",
   "nbconvert_exporter": "python",
   "pygments_lexer": "ipython3",
   "version": "3.12.4"
  }
 },
 "nbformat": 4,
 "nbformat_minor": 5
}

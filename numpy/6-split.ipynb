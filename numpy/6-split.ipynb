{
 "cells": [
  {
   "cell_type": "markdown",
   "id": "819c221e-0e22-4df1-867e-5f12fe053ed7",
   "metadata": {},
   "source": [
    "# Splitting arrays\n",
    "  split"
   ]
  },
  {
   "cell_type": "code",
   "execution_count": 2,
   "id": "c6eb1476-3e28-4e7e-8c40-4e408d4cf406",
   "metadata": {},
   "outputs": [],
   "source": [
    "import numpy as np\n"
   ]
  },
  {
   "cell_type": "markdown",
   "id": "675a8131-cc1c-4a1e-83bc-02513a8770e1",
   "metadata": {},
   "source": [
    "# split    \n",
    "for information, please see: https://numpy.org/doc/stable/reference/generated/numpy.split.html"
   ]
  },
  {
   "cell_type": "code",
   "execution_count": 5,
   "id": "6ed62cc9-437d-4305-ac56-d056f6b95692",
   "metadata": {},
   "outputs": [
    {
     "data": {
      "text/plain": [
       "array([[[ 0,  1,  2,  3],\n",
       "        [ 4,  5,  6,  7],\n",
       "        [ 8,  9, 10, 11]],\n",
       "\n",
       "       [[12, 13, 14, 15],\n",
       "        [16, 17, 18, 19],\n",
       "        [20, 21, 22, 23]],\n",
       "\n",
       "       [[24, 25, 26, 27],\n",
       "        [28, 29, 30, 31],\n",
       "        [32, 33, 34, 35]],\n",
       "\n",
       "       [[36, 37, 38, 39],\n",
       "        [40, 41, 42, 43],\n",
       "        [44, 45, 46, 47]],\n",
       "\n",
       "       [[48, 49, 50, 51],\n",
       "        [52, 53, 54, 55],\n",
       "        [56, 57, 58, 59]]])"
      ]
     },
     "execution_count": 5,
     "metadata": {},
     "output_type": "execute_result"
    }
   ],
   "source": [
    "array = np.arange(60)\n",
    "array.shape=(5,3,4)\n",
    "array"
   ]
  },
  {
   "cell_type": "markdown",
   "id": "561ff50e-cd6e-4ee5-b65e-ed4b43f6e1f9",
   "metadata": {},
   "source": [
    "How the split function will be working?!\n",
    "a (5,3,4)\n",
    "5 splits based on axise: 1,3,4\n",
    "3 splits based on axise: ERROR \n",
    "3 splits based on axis1: 5,1,4 \n",
    "2 splits based on axis1: ERROR \n",
    "4 splits based on axis2: 5,3,1 \n",
    "2 splits based on axis2: 5,3,2 \n",
    "6 splits based on axis2: ERROR\n"
   ]
  },
  {
   "cell_type": "code",
   "execution_count": 10,
   "id": "7ed6236e-1cb8-4250-a9bc-c455603c982e",
   "metadata": {},
   "outputs": [
    {
     "data": {
      "text/plain": [
       "[array([[[ 0,  1,  2,  3],\n",
       "         [ 4,  5,  6,  7],\n",
       "         [ 8,  9, 10, 11]]]),\n",
       " array([[[12, 13, 14, 15],\n",
       "         [16, 17, 18, 19],\n",
       "         [20, 21, 22, 23]]]),\n",
       " array([[[24, 25, 26, 27],\n",
       "         [28, 29, 30, 31],\n",
       "         [32, 33, 34, 35]]]),\n",
       " array([[[36, 37, 38, 39],\n",
       "         [40, 41, 42, 43],\n",
       "         [44, 45, 46, 47]]]),\n",
       " array([[[48, 49, 50, 51],\n",
       "         [52, 53, 54, 55],\n",
       "         [56, 57, 58, 59]]])]"
      ]
     },
     "execution_count": 10,
     "metadata": {},
     "output_type": "execute_result"
    }
   ],
   "source": [
    "s0=np.split (array, 5, axis=0)  #return list of arrays\n",
    "s0"
   ]
  },
  {
   "cell_type": "code",
   "execution_count": 8,
   "id": "9c833224-52fa-4cc5-8bde-2a02b85861be",
   "metadata": {},
   "outputs": [
    {
     "data": {
      "text/plain": [
       "list"
      ]
     },
     "execution_count": 8,
     "metadata": {},
     "output_type": "execute_result"
    }
   ],
   "source": [
    "type(s0)"
   ]
  },
  {
   "cell_type": "code",
   "execution_count": 11,
   "id": "721283b6-7cd4-4149-91fe-1625072abf05",
   "metadata": {},
   "outputs": [
    {
     "data": {
      "text/plain": [
       "(1, 3, 4)"
      ]
     },
     "execution_count": 11,
     "metadata": {},
     "output_type": "execute_result"
    }
   ],
   "source": [
    "s0[0].shape"
   ]
  },
  {
   "cell_type": "code",
   "execution_count": 13,
   "id": "872adae2-c229-48cb-bfb7-a137e44d7274",
   "metadata": {},
   "outputs": [
    {
     "data": {
      "text/plain": [
       "[array([[[ 0,  1,  2,  3]],\n",
       " \n",
       "        [[12, 13, 14, 15]],\n",
       " \n",
       "        [[24, 25, 26, 27]],\n",
       " \n",
       "        [[36, 37, 38, 39]],\n",
       " \n",
       "        [[48, 49, 50, 51]]]),\n",
       " array([[[ 4,  5,  6,  7]],\n",
       " \n",
       "        [[16, 17, 18, 19]],\n",
       " \n",
       "        [[28, 29, 30, 31]],\n",
       " \n",
       "        [[40, 41, 42, 43]],\n",
       " \n",
       "        [[52, 53, 54, 55]]]),\n",
       " array([[[ 8,  9, 10, 11]],\n",
       " \n",
       "        [[20, 21, 22, 23]],\n",
       " \n",
       "        [[32, 33, 34, 35]],\n",
       " \n",
       "        [[44, 45, 46, 47]],\n",
       " \n",
       "        [[56, 57, 58, 59]]])]"
      ]
     },
     "execution_count": 13,
     "metadata": {},
     "output_type": "execute_result"
    }
   ],
   "source": [
    "s1=np.split(array,3,axis=1)\n",
    "s1"
   ]
  },
  {
   "cell_type": "code",
   "execution_count": 15,
   "id": "9dfeee36-8a60-4914-80b5-cbc174924659",
   "metadata": {},
   "outputs": [
    {
     "data": {
      "text/plain": [
       "(5, 1, 4)"
      ]
     },
     "execution_count": 15,
     "metadata": {},
     "output_type": "execute_result"
    }
   ],
   "source": [
    "s1[0].shape"
   ]
  },
  {
   "cell_type": "code",
   "execution_count": 16,
   "id": "5dce7742-6f57-46e3-91c5-a9d6a0f18eea",
   "metadata": {},
   "outputs": [
    {
     "data": {
      "text/plain": [
       "[array([[[ 0],\n",
       "         [ 4],\n",
       "         [ 8]],\n",
       " \n",
       "        [[12],\n",
       "         [16],\n",
       "         [20]],\n",
       " \n",
       "        [[24],\n",
       "         [28],\n",
       "         [32]],\n",
       " \n",
       "        [[36],\n",
       "         [40],\n",
       "         [44]],\n",
       " \n",
       "        [[48],\n",
       "         [52],\n",
       "         [56]]]),\n",
       " array([[[ 1],\n",
       "         [ 5],\n",
       "         [ 9]],\n",
       " \n",
       "        [[13],\n",
       "         [17],\n",
       "         [21]],\n",
       " \n",
       "        [[25],\n",
       "         [29],\n",
       "         [33]],\n",
       " \n",
       "        [[37],\n",
       "         [41],\n",
       "         [45]],\n",
       " \n",
       "        [[49],\n",
       "         [53],\n",
       "         [57]]]),\n",
       " array([[[ 2],\n",
       "         [ 6],\n",
       "         [10]],\n",
       " \n",
       "        [[14],\n",
       "         [18],\n",
       "         [22]],\n",
       " \n",
       "        [[26],\n",
       "         [30],\n",
       "         [34]],\n",
       " \n",
       "        [[38],\n",
       "         [42],\n",
       "         [46]],\n",
       " \n",
       "        [[50],\n",
       "         [54],\n",
       "         [58]]]),\n",
       " array([[[ 3],\n",
       "         [ 7],\n",
       "         [11]],\n",
       " \n",
       "        [[15],\n",
       "         [19],\n",
       "         [23]],\n",
       " \n",
       "        [[27],\n",
       "         [31],\n",
       "         [35]],\n",
       " \n",
       "        [[39],\n",
       "         [43],\n",
       "         [47]],\n",
       " \n",
       "        [[51],\n",
       "         [55],\n",
       "         [59]]])]"
      ]
     },
     "execution_count": 16,
     "metadata": {},
     "output_type": "execute_result"
    }
   ],
   "source": [
    "s2=np.split(array,4,axis=2)\n",
    "s2"
   ]
  },
  {
   "cell_type": "code",
   "execution_count": 17,
   "id": "de8c18b1-6c2c-4de2-82f8-a975a3c20aae",
   "metadata": {},
   "outputs": [
    {
     "data": {
      "text/plain": [
       "(5, 3, 1)"
      ]
     },
     "execution_count": 17,
     "metadata": {},
     "output_type": "execute_result"
    }
   ],
   "source": [
    "s2[0].shape"
   ]
  },
  {
   "cell_type": "code",
   "execution_count": 18,
   "id": "dbd1b2cd-5076-40d7-81d1-be54f16f8ff1",
   "metadata": {},
   "outputs": [
    {
     "ename": "ValueError",
     "evalue": "array split does not result in an equal division",
     "output_type": "error",
     "traceback": [
      "\u001b[1;31m---------------------------------------------------------------------------\u001b[0m",
      "\u001b[1;31mValueError\u001b[0m                                Traceback (most recent call last)",
      "Cell \u001b[1;32mIn[18], line 1\u001b[0m\n\u001b[1;32m----> 1\u001b[0m np\u001b[38;5;241m.\u001b[39msplit(array,\u001b[38;5;241m4\u001b[39m,axis\u001b[38;5;241m=\u001b[39m\u001b[38;5;241m0\u001b[39m)\n",
      "File \u001b[1;32mC:\\ProgramData\\anaconda3\\Lib\\site-packages\\numpy\\lib\\shape_base.py:864\u001b[0m, in \u001b[0;36msplit\u001b[1;34m(ary, indices_or_sections, axis)\u001b[0m\n\u001b[0;32m    862\u001b[0m     N \u001b[38;5;241m=\u001b[39m ary\u001b[38;5;241m.\u001b[39mshape[axis]\n\u001b[0;32m    863\u001b[0m     \u001b[38;5;28;01mif\u001b[39;00m N \u001b[38;5;241m%\u001b[39m sections:\n\u001b[1;32m--> 864\u001b[0m         \u001b[38;5;28;01mraise\u001b[39;00m \u001b[38;5;167;01mValueError\u001b[39;00m(\n\u001b[0;32m    865\u001b[0m             \u001b[38;5;124m'\u001b[39m\u001b[38;5;124marray split does not result in an equal division\u001b[39m\u001b[38;5;124m'\u001b[39m) \u001b[38;5;28;01mfrom\u001b[39;00m \u001b[38;5;28;01mNone\u001b[39;00m\n\u001b[0;32m    866\u001b[0m \u001b[38;5;28;01mreturn\u001b[39;00m array_split(ary, indices_or_sections, axis)\n",
      "\u001b[1;31mValueError\u001b[0m: array split does not result in an equal division"
     ]
    }
   ],
   "source": [
    "np.split(array,4,axis=0)\n"
   ]
  },
  {
   "cell_type": "code",
   "execution_count": 19,
   "id": "3ccd5399-7ea1-4a52-8747-ed226b6b7cad",
   "metadata": {},
   "outputs": [
    {
     "data": {
      "text/plain": [
       "[array([[[ 0,  1],\n",
       "         [ 4,  5],\n",
       "         [ 8,  9]],\n",
       " \n",
       "        [[12, 13],\n",
       "         [16, 17],\n",
       "         [20, 21]],\n",
       " \n",
       "        [[24, 25],\n",
       "         [28, 29],\n",
       "         [32, 33]],\n",
       " \n",
       "        [[36, 37],\n",
       "         [40, 41],\n",
       "         [44, 45]],\n",
       " \n",
       "        [[48, 49],\n",
       "         [52, 53],\n",
       "         [56, 57]]]),\n",
       " array([[[ 2,  3],\n",
       "         [ 6,  7],\n",
       "         [10, 11]],\n",
       " \n",
       "        [[14, 15],\n",
       "         [18, 19],\n",
       "         [22, 23]],\n",
       " \n",
       "        [[26, 27],\n",
       "         [30, 31],\n",
       "         [34, 35]],\n",
       " \n",
       "        [[38, 39],\n",
       "         [42, 43],\n",
       "         [46, 47]],\n",
       " \n",
       "        [[50, 51],\n",
       "         [54, 55],\n",
       "         [58, 59]]])]"
      ]
     },
     "execution_count": 19,
     "metadata": {},
     "output_type": "execute_result"
    }
   ],
   "source": [
    "s2=np.split(array,2,axis=2)\n",
    "s2"
   ]
  },
  {
   "cell_type": "code",
   "execution_count": null,
   "id": "bdb34e99-c876-4662-983e-578efd2a86cd",
   "metadata": {},
   "outputs": [],
   "source": []
  },
  {
   "cell_type": "code",
   "execution_count": null,
   "id": "5bdef798-a4e8-4644-860b-8c536b7ba06d",
   "metadata": {},
   "outputs": [],
   "source": []
  },
  {
   "cell_type": "code",
   "execution_count": null,
   "id": "b8a79bec-fe00-4d1b-8b45-0accb4518144",
   "metadata": {},
   "outputs": [],
   "source": []
  },
  {
   "cell_type": "code",
   "execution_count": null,
   "id": "97934fa6-e2ec-4dec-8385-85a7f9511f67",
   "metadata": {},
   "outputs": [],
   "source": []
  }
 ],
 "metadata": {
  "kernelspec": {
   "display_name": "Python 3 (ipykernel)",
   "language": "python",
   "name": "python3"
  },
  "language_info": {
   "codemirror_mode": {
    "name": "ipython",
    "version": 3
   },
   "file_extension": ".py",
   "mimetype": "text/x-python",
   "name": "python",
   "nbconvert_exporter": "python",
   "pygments_lexer": "ipython3",
   "version": "3.12.4"
  }
 },
 "nbformat": 4,
 "nbformat_minor": 5
}

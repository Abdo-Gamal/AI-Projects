{
 "cells": [
  {
   "cell_type": "code",
   "execution_count": 2,
   "id": "4c208ff0-e6cb-4f49-aeea-482580392160",
   "metadata": {},
   "outputs": [],
   "source": [
    "import numpy as np"
   ]
  },
  {
   "cell_type": "markdown",
   "id": "62c8faf3-528a-43b7-a8df-0f95d6efdc2f",
   "metadata": {},
   "source": [
    "# Broadcasting\n",
    "Broadcasting is simply a set of rules for applying binary ufuncs (e.g., addition, subtraction, multiplication, etc.) on arrays of different sizes.  \n",
    "# Rules of Broadcasting\n",
    "Broadcasting in NumPy follows a strict set of rules to determine the interaction between the two arrays:  \n",
    "• Rule 1: If the two arrays differ in their number of dimensions, the shape of the one with fewer dimensions is padded with ones on its leading (left)  side.  \n",
    "• Rule 2: If the shape of the two arrays does not match in any dimension, the array with shape equal to 1 in that dimension is stretched to match the   other shape.  \n",
    "• Rule 3: If in any dimension the sizes disagree and neither is equal to 1, an error is raised.\n",
    "\n",
    "\n"
   ]
  },
  {
   "cell_type": "raw",
   "id": "e20a511d-73ea-446b-bdaf-d90b208f5a53",
   "metadata": {},
   "source": [
    "\n",
    "Let's think together how Broadcasting is working internally by the following examples:   \n",
    "\n",
    "##########################\n",
    "EXAMPLE#1:   \n",
    "-----------\n",
    "a * b     \n",
    "        \n",
    "        a =[1,2,3,4,5],                                      shape(5,)   \n",
    "        b =[[10, 20, 30, 40, 50], [100, 200, 300, 400, 500]],  shape=(2,5)   \n",
    "\n",
    "RULE#1: Check Dims --> to have same no. of dims      \n",
    "\n",
    "            a -->1 dim --> must be converted to 2 dims     \n",
    "            b--> 2 dims    \n",
    "            a =[1,2,3,4,5]    (5,) ----> (1,5)    \n",
    "            anew = [      [1,2,3,4,5]    ]         \n",
    "    \n",
    "\n",
    "\n",
    "RULE #2: Check shapes --> to have same shapes \n",
    "\n",
    "            shape_a = (1,5) --> must be coverted to (2,5)      \n",
    "             a_new_#2 =      [ [1,2,3,4,5], [1,2,3,4,5] ]                 \n",
    "             shape_b =      (2,5) --> (2,5)   \n",
    "\n",
    "\n",
    "Step#3:   output   \n",
    "               (2,5)           \n",
    "                [           [10,40,90,160,250],\n",
    "                           [100,400, 900, 1600, 2500]\n",
    "                ]\n",
    "\n",
    "###################################\n",
    "EXAMPLE#2:\n",
    "------\n",
    "\n",
    "a *b           \n",
    "            a =[1,2,3,4,5], shape(5,)      \n",
    "            b =[[10, 20, 30, 40], [100, 200, 300, 400]], shape=(2,4)\n",
    "\n",
    "RULE#1: Check Dims\n",
    "            \n",
    "                a---> 1 dim   \n",
    "                b-> 2 dims   \n",
    "                to have same no. of DIMS --> must be converted to 2 dims     \n",
    "                a =[1,2,3,4,5]    (5,) ----> (1,5)  \n",
    "                anew = [ [1,2,3,4,5]]\n",
    "                                          \n",
    "RULE #2: Check shapes --> to have same shapes\n",
    "    \n",
    "                     shape_a = (1,5)---->(2,x)\n",
    "                     shape_b--> (2,4)---> (2,x)\n",
    "\n",
    "Step#3:   \n",
    "                        error\n",
    "#############################\n",
    "EXAMPLE#3:\n",
    "---------------\n",
    "\n",
    "a*b\n",
    "        a =[1,2,3,4,5], shape(5,)\n",
    "        b =[[10, 20, 30, 40,1,1,1,1,1,1], [100, 200, 300, 400,1,1,1,1,1,1]], shape=(2,10)\n",
    "        \n",
    "RULE#1: Check Dims --> to have same no. of DIMS\n",
    "\n",
    "            a --> 1 dim --> must be converted to 2 dims\n",
    "            b --> 12 dims\n",
    "            a =[1,2,3,4,5] (5,) ----> (1,5)  \n",
    "            anew = [[1,2,3,4,5]\n",
    "\n",
    "RULE #2: Check shapes --> to have same shapes.\n",
    "\n",
    "                shape_a=(1,5)--> (2,x) \n",
    "                shape_b = (2,10)--> (2,x)\n",
    "\n",
    "step#3\n",
    "    error \n",
    "\n",
    "\n",
    "##########################    \n",
    "EXAMPLE#4:\n",
    "-----------\n",
    "a * b\n",
    "                a =[1,2,3,4,5], shape(5,) \n",
    "                b =[[10],\n",
    "                [20],\n",
    "                [30],\n",
    "                [40],\n",
    "                [50]],        shape=(5,1)\n",
    "RULE#1: Check Dims --> to have same no. of DIMS\n",
    "\n",
    "                    a --> 1 dim   \n",
    "                    b-> 2 dims   \n",
    "                    \n",
    "                    a =[1,2,3,4,5] --> mut be converted to 2 dims (5,) ---->(1,5)   \n",
    "                    anew = [  \n",
    "                    [1,2,3,4,5]  \n",
    "                    ]  \n",
    "\n",
    "RULE#2: Check shapes --> to have same shapes\n",
    "﻿\n",
    "\n",
    "    shape_a = (1,5) --> (5,5)   \n",
    "    shape_b = (5,1) --> (5,5) \n",
    "    \n",
    "    anew = [\n",
    "    [1,2,3,4,5],\n",
    "    [1,2,3,4,5],\n",
    "    [1,2,3,4,5],\n",
    "    [1,2,3,4,5],\n",
    "    [1,2,3,4,5] \n",
    "    ]  \n",
    "\n",
    "        bnew =\n",
    "        [\n",
    "        [10,10,10,10,10],\n",
    "        [20,20,20,20,20],\n",
    "        [30,30,30,30,30],\n",
    "        [40, 40, 40, 40, 40],\n",
    "        [50,50,50,50,50],\n",
    "        ]\n",
    "\n",
    "\n",
    "step#3\n",
    "    the output shape  is (5,5) \n",
    "\n",
    "\n",
    "﻿#####################\n",
    "EXAMPLE#6:\n",
    "----------\n",
    "a * b\n",
    "     a =[\n",
    "    [1,2,3,4],\n",
    "    [5,6,7,8]\n",
    "    ],          shape(2,4)          \n",
    "    \n",
    "    b =[ [[10], [20], [30], [40], [50]], [[60], [70], [80], [90], [100]] ], shape=(2,5,1)       \n",
    "\n",
    "RULE#1: Check Dims to have same no. of DIMS \n",
    "\n",
    "         a --> 2 dim --> must be converted to 3 dims \n",
    "         b--> 3 dims\n",
    "\n",
    "        a =[   [1,2,3,4], [5,6,7,8]] (2,4) ----> (1,2,4)    \n",
    "        \n",
    "        anew =[[[1,2,3,4],[5,6,7,8]]]\n",
    "        \n",
    "RULE#2: Check shapes to have same shapes\n",
    "        shape_a=(1,2,4)--> (2,x,4)   \n",
    "        shape_b=(2,5;1) --> (2,x,4)   \n",
    "\n",
    "step#3   \n",
    "    error \n",
    "\n",
    "####################################\n",
    "EXAMPLE#7:\n",
    "----\n",
    "a * b\n",
    "    a =[\n",
    "        [1,2,3,4],\n",
    "        [5,6,7,8]\n",
    "    ],             shape(2,4)\n",
    "\n",
    "    b =[\n",
    "        [[10], \n",
    "         [20]], \n",
    "        [[60],\n",
    "        [70]]\n",
    "    ],              shape=(2,2,1)\n",
    "\n",
    "RULE#1: Check Dims --> to have same no. of DIMS\n",
    "    a --> 2 dim --> must be converted to be 3 dims\n",
    "    b---> 3 dims\n",
    "               \n",
    "    a=[[1,2,3,4], [5,6,7,8]] (2,4) ----> (1,2,4)\n",
    "    a_new = [ [[1,2,3,4], [5,6,7,8]]]\n",
    "\n",
    "RULE #2: Check shapes --> to have same shapes. \n",
    "        shape_a=(1,2,4) --> (2,2,4)\n",
    "        shape_b=(2,2,1) --> (2,2,4)\n",
    "        anew = [[ [1,2,3,4], [5,6,7,8]],\n",
    "  a =[\n",
    "        [[1,2,3,4],\n",
    "        [5,6,7,8]]\n",
    "\n",
    "        [[1,2,3,4],\n",
    "        [5,6,7,8]]\n",
    "    ],             shape(2,2,4)\n",
    "\n",
    "  new_b =[\n",
    "        [[10,10,10,10], \n",
    "         [20,20,20,20]], \n",
    "\n",
    "        [[60,60,60,60],\n",
    "        [70,70,70,70]]\n",
    "    ],              shape=(2,2,4)\n",
    "step#3:\n",
    "output shape(2,2,4)\n",
    "---\n",
    "------\n",
    "--------\n",
    "------------\n",
    "-----------------\n"
   ]
  },
  {
   "cell_type": "markdown",
   "id": "e268db35-524f-4c82-8ce4-234db6ba4060",
   "metadata": {},
   "source": [
    "# Boadcast EX1"
   ]
  },
  {
   "cell_type": "code",
   "execution_count": 3,
   "id": "8594afef-ceeb-4b3b-9f07-1fee10abf483",
   "metadata": {},
   "outputs": [
    {
     "data": {
      "text/plain": [
       "array([[1., 1., 1.],\n",
       "       [1., 1., 1.]])"
      ]
     },
     "execution_count": 3,
     "metadata": {},
     "output_type": "execute_result"
    }
   ],
   "source": [
    "M=np.ones((2,3))\n",
    "M"
   ]
  },
  {
   "cell_type": "code",
   "execution_count": 13,
   "id": "39fcab9c-f433-483b-80f7-0d7ffc373e66",
   "metadata": {},
   "outputs": [
    {
     "data": {
      "text/plain": [
       "(3,)"
      ]
     },
     "execution_count": 13,
     "metadata": {},
     "output_type": "execute_result"
    }
   ],
   "source": [
    "N=np.arange(3)\n",
    "N.shape"
   ]
  },
  {
   "cell_type": "markdown",
   "id": "9f49f2fe-a860-47e4-a773-ba8f1c769cd4",
   "metadata": {},
   "source": [
    "Let's consider an operation on these two arrays. The shape of the arrays are\n",
    "- ` M. shape (2, 3)`\n",
    "- `a.shape(3,)`\n",
    "  \n",
    "We see by rule 1 that the array a has fewer dimensions, so we pad it on the left with ones:   \n",
    "- ` M. shape-> (2, 3) `\n",
    "- `a.shape -> (1, 3)`  \n",
    "By rule 2, we now see that the first dimension disagrees, so we stretch this dimension to match:  \n",
    "- `M.shape-> (2, 3)`  \n",
    "- `  a.shape-> (2, 3) `  \n",
    "The shapes match, and we see that the final shape will be (2, 3):    "
   ]
  },
  {
   "cell_type": "code",
   "execution_count": 5,
   "id": "302102eb-a7f5-43b2-b11c-584cdaf9617f",
   "metadata": {},
   "outputs": [
    {
     "data": {
      "text/plain": [
       "array([[0., 1., 2.],\n",
       "       [0., 1., 2.]])"
      ]
     },
     "execution_count": 5,
     "metadata": {},
     "output_type": "execute_result"
    }
   ],
   "source": [
    "N*M"
   ]
  },
  {
   "cell_type": "code",
   "execution_count": 6,
   "id": "55d1fc60-284a-4e54-ab64-1e323dacc003",
   "metadata": {},
   "outputs": [
    {
     "data": {
      "text/plain": [
       "array([[1., 2., 3.],\n",
       "       [1., 2., 3.]])"
      ]
     },
     "execution_count": 6,
     "metadata": {},
     "output_type": "execute_result"
    }
   ],
   "source": [
    "N+M"
   ]
  },
  {
   "cell_type": "markdown",
   "id": "032458ef-da69-4371-a69e-4b3443c30f03",
   "metadata": {},
   "source": [
    "# Boadcast EX2"
   ]
  },
  {
   "cell_type": "code",
   "execution_count": 7,
   "id": "bc35f986-cf7a-4524-ba8e-0ac03e10fb9f",
   "metadata": {},
   "outputs": [
    {
     "data": {
      "text/plain": [
       "array([[0],\n",
       "       [1],\n",
       "       [2]])"
      ]
     },
     "execution_count": 7,
     "metadata": {},
     "output_type": "execute_result"
    }
   ],
   "source": [
    "a=np.arange(3).reshape((3,1))\n",
    "a"
   ]
  },
  {
   "cell_type": "code",
   "execution_count": 8,
   "id": "8c101e0e-9adc-432a-842a-b7ee659becd8",
   "metadata": {},
   "outputs": [
    {
     "data": {
      "text/plain": [
       "array([0, 1, 2])"
      ]
     },
     "execution_count": 8,
     "metadata": {},
     "output_type": "execute_result"
    }
   ],
   "source": [
    "b=np.arange(3)  \n",
    "b"
   ]
  },
  {
   "cell_type": "code",
   "execution_count": 9,
   "id": "2f91444b-a63b-4da5-a0fc-3fcd78d46251",
   "metadata": {},
   "outputs": [
    {
     "data": {
      "text/plain": [
       "array([[0, 0, 0],\n",
       "       [0, 1, 2],\n",
       "       [0, 2, 4]])"
      ]
     },
     "execution_count": 9,
     "metadata": {},
     "output_type": "execute_result"
    }
   ],
   "source": [
    "b*a"
   ]
  },
  {
   "cell_type": "markdown",
   "id": "7db9d988-80b5-48c3-972e-2fe3ecdeb2ff",
   "metadata": {},
   "source": [
    "# Again, we'll start by writing out the shape of the arrays:   \n",
    "- `a.shape (3, 1)`  \n",
    "- ` b.shape (3,)`  \n",
    "Rule 1 says we must pad the shape of b with ones:   \n",
    "- `a.shape-> (3, 1)`   \n",
    "- ` b.shape-> (1, 3)`   \n",
    "And rule 2 tells us that we upgrade each of these ones to match the corresponding size of the other array:   \n",
    "- `a.shape-> (3, 3)`  \n",
    "- `b.shape (3, 3)`\n",
    "  \n",
    "Because the result matches, these shapes are compatible. We can see this here:"
   ]
  },
  {
   "cell_type": "markdown",
   "id": "128375dd-7952-4665-b112-5d885740dd34",
   "metadata": {},
   "source": [
    "# brodcast ex3"
   ]
  },
  {
   "cell_type": "code",
   "execution_count": 15,
   "id": "a6809f52-e43c-4a0a-b619-da43fe040ff4",
   "metadata": {},
   "outputs": [
    {
     "data": {
      "text/plain": [
       "array([[1., 1.],\n",
       "       [1., 1.],\n",
       "       [1., 1.]])"
      ]
     },
     "execution_count": 15,
     "metadata": {},
     "output_type": "execute_result"
    }
   ],
   "source": [
    "M=np.ones((3,2))\n",
    "M"
   ]
  },
  {
   "cell_type": "code",
   "execution_count": 16,
   "id": "1b655beb-a3c3-4c6f-87a9-a044dd3baa2a",
   "metadata": {},
   "outputs": [
    {
     "data": {
      "text/plain": [
       "(3,)"
      ]
     },
     "execution_count": 16,
     "metadata": {},
     "output_type": "execute_result"
    }
   ],
   "source": [
    "a=np.arange(3) \n",
    "a.shape"
   ]
  },
  {
   "cell_type": "markdown",
   "id": "15bc4c3c-2d21-4c6c-bc69-bc4310fc519a",
   "metadata": {},
   "source": [
    "This is just a slightly different situation than in the first example: the matrix ` M` is transposed.how does this affect the calculation?   \n",
    "The shape of the arrays are   \n",
    "M.shape = (3,2)    \n",
    "a.shape = (3,)  \n",
    "Again,\n",
    "rule 1 tells us that we must pad the shape of a with ones:   \n",
    "-  M. shape-> (3, 2)\n",
    "- a.shape-> (1, 3)\n",
    "  \n",
    "By rule 2,the first dimension of a is stretched to match that of M:   \n",
    "-  M. shape-> (3, 2)\n",
    "- a.shape-> (3, 3)\n",
    "step#3:   \n",
    "      err"
   ]
  },
  {
   "cell_type": "code",
   "execution_count": 17,
   "id": "104a1c63-8859-4dad-b950-cd2382a06586",
   "metadata": {},
   "outputs": [
    {
     "ename": "ValueError",
     "evalue": "operands could not be broadcast together with shapes (3,) (3,2) ",
     "output_type": "error",
     "traceback": [
      "\u001b[1;31m---------------------------------------------------------------------------\u001b[0m",
      "\u001b[1;31mValueError\u001b[0m                                Traceback (most recent call last)",
      "Cell \u001b[1;32mIn[17], line 1\u001b[0m\n\u001b[1;32m----> 1\u001b[0m a\u001b[38;5;241m+\u001b[39mM\n",
      "\u001b[1;31mValueError\u001b[0m: operands could not be broadcast together with shapes (3,) (3,2) "
     ]
    }
   ],
   "source": [
    "a+M"
   ]
  },
  {
   "cell_type": "markdown",
   "id": "a13af610-0ffc-4fc5-ac5f-20d391e34fc0",
   "metadata": {},
   "source": [
    "Note the potential confusion here: you could imagine making a and M compatible by, say, padding a 's shape with ones on the right rather than the\n",
    "left. But this is not how the broadcasting rules work! That sort of flexibility might be useful in some cases, but it would lead to potential areas of ambiguity.\n",
    "\n",
    "If right-side padding is what you'd like, you can do this explicitly by reshaping the array (we'll use the np.newaxis):"
   ]
  },
  {
   "cell_type": "code",
   "execution_count": 10,
   "id": "c97ebf2d-44e1-4a06-b724-5db90415d628",
   "metadata": {},
   "outputs": [
    {
     "data": {
      "text/plain": [
       "(3, 1)"
      ]
     },
     "execution_count": 10,
     "metadata": {},
     "output_type": "execute_result"
    }
   ],
   "source": [
    "# first solution \n",
    "a.reshape((3,1))\n"
   ]
  },
  {
   "cell_type": "code",
   "execution_count": 28,
   "id": "7954b1d2-4dcb-4b21-9e9d-331e98b14607",
   "metadata": {},
   "outputs": [
    {
     "data": {
      "text/plain": [
       "array([[0],\n",
       "       [1],\n",
       "       [2]])"
      ]
     },
     "execution_count": 28,
     "metadata": {},
     "output_type": "execute_result"
    }
   ],
   "source": [
    "a[:,np.newaxis]   "
   ]
  },
  {
   "cell_type": "code",
   "execution_count": 29,
   "id": "a70bff4f-d52e-4965-8107-601e31095ebd",
   "metadata": {},
   "outputs": [
    {
     "data": {
      "text/plain": [
       "array([[1., 1.],\n",
       "       [2., 2.],\n",
       "       [3., 3.]])"
      ]
     },
     "execution_count": 29,
     "metadata": {},
     "output_type": "execute_result"
    }
   ],
   "source": [
    "M+a[:,np.newaxis]"
   ]
  },
  {
   "cell_type": "markdown",
   "id": "4b6e6f7e-619c-457f-a7cb-dd1b2cce738a",
   "metadata": {},
   "source": [
    "# An Example of using Broadcasting in Practice\n",
    "\n",
    "## Centering an array\n",
    "\n",
    "One commonly seen example is when centering an array of data.\n",
    "Imagine you have an array of 10 observations, each of which consists of 3 values."
   ]
  },
  {
   "cell_type": "code",
   "execution_count": 31,
   "id": "8dcfb854-f05e-450e-8395-df57fffac73f",
   "metadata": {},
   "outputs": [
    {
     "data": {
      "text/plain": [
       "array([[0.26785895, 0.82867487, 0.71720925],\n",
       "       [0.33896964, 0.20199527, 0.87228782],\n",
       "       [0.27514706, 0.29134827, 0.94187401],\n",
       "       [0.31781435, 0.89866802, 0.06712362],\n",
       "       [0.36660508, 0.73122117, 0.26582218],\n",
       "       [0.15998077, 0.49184711, 0.15985571],\n",
       "       [0.76987604, 0.90669982, 0.79433955],\n",
       "       [0.2030382 , 0.18050802, 0.11031318],\n",
       "       [0.59782182, 0.3683553 , 0.39673487],\n",
       "       [0.65483987, 0.59384801, 0.91425047]])"
      ]
     },
     "execution_count": 31,
     "metadata": {},
     "output_type": "execute_result"
    }
   ],
   "source": [
    "X=np.random.random((10,3))\n",
    "X"
   ]
  },
  {
   "cell_type": "code",
   "execution_count": 33,
   "id": "e41e3b7b-4437-4146-b9c4-75a1cb0d012b",
   "metadata": {},
   "outputs": [
    {
     "data": {
      "text/plain": [
       "array([0.39519518, 0.54931659, 0.52398107])"
      ]
     },
     "execution_count": 33,
     "metadata": {},
     "output_type": "execute_result"
    }
   ],
   "source": [
    "Xmean=X.mean(0)             # zero  mean first axis   (10,3)-->(1,3)\n",
    "Xmean                      #  mean for each columns"
   ]
  },
  {
   "cell_type": "code",
   "execution_count": 35,
   "id": "ff0f44ce-cef9-48b2-bf79-a79c3fe2ebe8",
   "metadata": {},
   "outputs": [
    {
     "data": {
      "text/plain": [
       "array([[-0.12733623,  0.27935828,  0.19322819],\n",
       "       [-0.05622553, -0.34732131,  0.34830675],\n",
       "       [-0.12004812, -0.25796831,  0.41789294],\n",
       "       [-0.07738083,  0.34935143, -0.45685745],\n",
       "       [-0.0285901 ,  0.18190458, -0.25815889],\n",
       "       [-0.2352144 , -0.05746947, -0.36412535],\n",
       "       [ 0.37468087,  0.35738323,  0.27035849],\n",
       "       [-0.19215698, -0.36880856, -0.41366789],\n",
       "       [ 0.20262664, -0.18096128, -0.12724619],\n",
       "       [ 0.25964469,  0.04453142,  0.3902694 ]])"
      ]
     },
     "execution_count": 35,
     "metadata": {},
     "output_type": "execute_result"
    }
   ],
   "source": [
    "X_centered=X-Xmean                       # \n",
    "X_centered"
   ]
  },
  {
   "cell_type": "code",
   "execution_count": null,
   "id": "70a23089-c880-4cbb-b2c1-0c4a8c58297d",
   "metadata": {},
   "outputs": [],
   "source": []
  },
  {
   "cell_type": "code",
   "execution_count": null,
   "id": "cdfe6dff-6778-4512-92e5-f0b682fc1beb",
   "metadata": {},
   "outputs": [],
   "source": []
  },
  {
   "cell_type": "code",
   "execution_count": null,
   "id": "2fabaea6-8bee-467a-ad03-29b442e7b4ca",
   "metadata": {},
   "outputs": [],
   "source": []
  },
  {
   "cell_type": "code",
   "execution_count": null,
   "id": "844a68e5-2cf9-487c-a80c-41c8bf716eb9",
   "metadata": {},
   "outputs": [],
   "source": []
  },
  {
   "cell_type": "code",
   "execution_count": null,
   "id": "66b2222f-027a-4273-9032-c419395e46b1",
   "metadata": {},
   "outputs": [],
   "source": []
  },
  {
   "cell_type": "code",
   "execution_count": null,
   "id": "b0502c49-4b1b-4f0e-84c6-96863cc119ab",
   "metadata": {},
   "outputs": [],
   "source": []
  },
  {
   "cell_type": "code",
   "execution_count": null,
   "id": "7edec788-c826-4f5d-b16e-d4ed8208593b",
   "metadata": {},
   "outputs": [],
   "source": []
  },
  {
   "cell_type": "code",
   "execution_count": null,
   "id": "562cd389-bc50-4fa0-b8a0-9a43e78d1be5",
   "metadata": {},
   "outputs": [],
   "source": []
  },
  {
   "cell_type": "code",
   "execution_count": null,
   "id": "4620fda3-cfbd-4422-baba-a290a1afe28d",
   "metadata": {},
   "outputs": [],
   "source": []
  },
  {
   "cell_type": "code",
   "execution_count": null,
   "id": "283942af-0f1a-4797-943d-4b3860eb41b3",
   "metadata": {},
   "outputs": [],
   "source": []
  },
  {
   "cell_type": "code",
   "execution_count": null,
   "id": "19b98a43-44d5-43f7-89f8-919d906b77ea",
   "metadata": {},
   "outputs": [],
   "source": []
  },
  {
   "cell_type": "code",
   "execution_count": null,
   "id": "2ce55ff6-5c1c-4cf0-8d34-75d7d084ba35",
   "metadata": {},
   "outputs": [],
   "source": []
  },
  {
   "cell_type": "code",
   "execution_count": null,
   "id": "a120b73b-f1e9-46f9-85c5-034a656742d4",
   "metadata": {},
   "outputs": [],
   "source": []
  }
 ],
 "metadata": {
  "kernelspec": {
   "display_name": "Python 3 (ipykernel)",
   "language": "python",
   "name": "python3"
  },
  "language_info": {
   "codemirror_mode": {
    "name": "ipython",
    "version": 3
   },
   "file_extension": ".py",
   "mimetype": "text/x-python",
   "name": "python",
   "nbconvert_exporter": "python",
   "pygments_lexer": "ipython3",
   "version": "3.12.4"
  }
 },
 "nbformat": 4,
 "nbformat_minor": 5
}

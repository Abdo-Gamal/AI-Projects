{
 "cells": [
  {
   "cell_type": "markdown",
   "id": "b6eed1fc-652e-42d0-af4d-fbd57ce7dcb5",
   "metadata": {},
   "source": [
    "# Creating Structured Arrays\n"
   ]
  },
  {
   "cell_type": "code",
   "execution_count": 1,
   "id": "2cdc3310-567e-4692-a911-0daf3b5854bf",
   "metadata": {},
   "outputs": [],
   "source": [
    "import numpy as np"
   ]
  },
  {
   "cell_type": "code",
   "execution_count": 2,
   "id": "98e43022-ffb0-4e67-9746-c84335815791",
   "metadata": {},
   "outputs": [
    {
     "data": {
      "text/plain": [
       "[('name', '56'), ('height', 'f8'), ('weight', 'f8'), ('age', '18')]"
      ]
     },
     "execution_count": 2,
     "metadata": {},
     "output_type": "execute_result"
    }
   ],
   "source": [
    "person_data_def = [('name', 's6'), ('height', 'f8'), ('weight', 'f8'), ('age', 'i8')] \n",
    "person_data_def"
   ]
  },
  {
   "cell_type": "markdown",
   "id": "b8f12aae-cacc-4866-8166-7a5c68630858",
   "metadata": {},
   "source": [
    "regarding types may need to check this: https://numpy.org/doc/stable/reference/arrays.dtypes.html#arrays-dtypes-constructing"
   ]
  },
  {
   "cell_type": "code",
   "execution_count": 10,
   "id": "b4f62dde-a9a1-4087-8bc0-02d3805dcbeb",
   "metadata": {},
   "outputs": [
    {
     "data": {
      "text/plain": [
       "array([(b'', 0., 0., 0), (b'', 0., 0., 0), (b'', 0., 0., 0),\n",
       "       (b'', 0., 0., 0), (b'', 0., 0., 0)],\n",
       "      dtype=[('name', 'S6'), ('height', '<f8'), ('weight', '<f8'), ('age', '<i8')])"
      ]
     },
     "execution_count": 10,
     "metadata": {},
     "output_type": "execute_result"
    }
   ],
   "source": [
    "people_array = np.zeros( (5), dtype=[('name', 'S6'),('height','f8'), ('weight' ,'f8') ,('age' ,'i8')])\n",
    "people_array"
   ]
  },
  {
   "cell_type": "code",
   "execution_count": 21,
   "id": "36928ac3-9836-475b-821f-108880756da5",
   "metadata": {},
   "outputs": [
    {
     "data": {
      "text/plain": [
       "[('name', 'S6'), ('height', 'f8'), ('weight', 'f8'), ('age', 'i8')]"
      ]
     },
     "execution_count": 21,
     "metadata": {},
     "output_type": "execute_result"
    }
   ],
   "source": [
    "person_data_def = [('name', 'S6'), ('height', 'f8'), ('weight', 'f8'), ('age', 'i8')] \n",
    "person_data_def\n"
   ]
  },
  {
   "cell_type": "code",
   "execution_count": 12,
   "id": "49d5d349-69f4-42d8-924e-bed84447b7be",
   "metadata": {},
   "outputs": [
    {
     "data": {
      "text/plain": [
       "array([(b'', 0., 0., 0), (b'', 0., 0., 0), (b'', 0., 0., 0),\n",
       "       (b'', 0., 0., 0), (b'', 0., 0., 0)],\n",
       "      dtype=[('name', 'S6'), ('height', '<f8'), ('weight', '<f8'), ('age', '<i8')])"
      ]
     },
     "execution_count": 12,
     "metadata": {},
     "output_type": "execute_result"
    }
   ],
   "source": [
    " #the same result\n",
    "people_array = np.zeros( (5), dtype=person_data_def)\n",
    "people_array"
   ]
  },
  {
   "cell_type": "code",
   "execution_count": null,
   "id": "3772e1e5-3051-4e3a-8e88-4820e8fed87b",
   "metadata": {},
   "outputs": [],
   "source": []
  },
  {
   "cell_type": "code",
   "execution_count": 17,
   "id": "d251621d-60e6-4b11-bd99-9f40ba1df8ba",
   "metadata": {},
   "outputs": [
    {
     "data": {
      "text/plain": [
       "array([(b'Alpha', 65., 112., 23), (b'',  0.,   0.,  0),\n",
       "       (b'',  0.,   0.,  0), (b'Delta', 73., 205., 34),\n",
       "       (b'',  0.,   0.,  0)],\n",
       "      dtype=[('name', 'S6'), ('height', '<f8'), ('weight', '<f8'), ('age', '<i8')])"
      ]
     },
     "execution_count": 17,
     "metadata": {},
     "output_type": "execute_result"
    }
   ],
   "source": [
    "people_array[3]=('Delta', 73, 205, 34)\n",
    "people_array[0] = ('Alpha', 65, 112, 23)\n",
    "people_array"
   ]
  },
  {
   "cell_type": "code",
   "execution_count": 18,
   "id": "2aab8fa0-1dfd-4d08-a423-2719c344f985",
   "metadata": {},
   "outputs": [
    {
     "data": {
      "text/plain": [
       "array([(b'', 0., 0., 0), (b'', 0., 0., 0)],\n",
       "      dtype=[('name', 'S6'), ('height', '<f8'), ('weight', '<f8'), ('age', '<i8')])"
      ]
     },
     "execution_count": 18,
     "metadata": {},
     "output_type": "execute_result"
    }
   ],
   "source": [
    "people_array[1:3]"
   ]
  },
  {
   "cell_type": "code",
   "execution_count": 19,
   "id": "cf22373b-9318-47c1-ba3f-5e596881cdec",
   "metadata": {},
   "outputs": [
    {
     "data": {
      "text/plain": [
       "array([23,  0,  0, 34,  0], dtype=int64)"
      ]
     },
     "execution_count": 19,
     "metadata": {},
     "output_type": "execute_result"
    }
   ],
   "source": [
    "people_array['age']   #like df"
   ]
  },
  {
   "cell_type": "code",
   "execution_count": 24,
   "id": "46eb95ec-85d7-4d93-8f0e-632411f4c302",
   "metadata": {},
   "outputs": [
    {
     "data": {
      "text/plain": [
       "array([[[(b'', 0., 0., 0), (b'', 0., 0., 0)],\n",
       "        [(b'', 0., 0., 0), (b'', 0., 0., 0)],\n",
       "        [(b'', 0., 0., 0), (b'', 0., 0., 0)]],\n",
       "\n",
       "       [[(b'', 0., 0., 0), (b'', 0., 0., 0)],\n",
       "        [(b'', 0., 0., 0), (b'', 0., 0., 0)],\n",
       "        [(b'', 0., 0., 0), (b'', 0., 0., 0)]],\n",
       "\n",
       "       [[(b'', 0., 0., 0), (b'', 0., 0., 0)],\n",
       "        [(b'', 0., 0., 0), (b'', 0., 0., 0)],\n",
       "        [(b'', 0., 0., 0), (b'', 0., 0., 0)]],\n",
       "\n",
       "       [[(b'', 0., 0., 0), (b'', 0., 0., 0)],\n",
       "        [(b'', 0., 0., 0), (b'', 0., 0., 0)],\n",
       "        [(b'', 0., 0., 0), (b'', 0., 0., 0)]]],\n",
       "      dtype=[('name', 'S6'), ('height', '<f8'), ('weight', '<f8'), ('age', '<i8')])"
      ]
     },
     "execution_count": 24,
     "metadata": {},
     "output_type": "execute_result"
    }
   ],
   "source": [
    "people_big_array=np.zeros((4,3,2),dtype=person_data_def)\n",
    "people_big_array"
   ]
  },
  {
   "cell_type": "code",
   "execution_count": 26,
   "id": "c1554b12-6e40-44c5-bb08-de75ca62d72b",
   "metadata": {},
   "outputs": [
    {
     "data": {
      "text/plain": [
       "array([[[0, 0],\n",
       "        [0, 0],\n",
       "        [0, 0]],\n",
       "\n",
       "       [[0, 0],\n",
       "        [0, 0],\n",
       "        [0, 0]],\n",
       "\n",
       "       [[0, 0],\n",
       "        [0, 0],\n",
       "        [0, 0]],\n",
       "\n",
       "       [[0, 0],\n",
       "        [0, 0],\n",
       "        [0, 0]]], dtype=int64)"
      ]
     },
     "execution_count": 26,
     "metadata": {},
     "output_type": "execute_result"
    }
   ],
   "source": [
    "people_big_array['age']    # what is shape?"
   ]
  },
  {
   "cell_type": "code",
   "execution_count": 29,
   "id": "6272064e-6889-4f5b-9115-96cddaafc184",
   "metadata": {},
   "outputs": [
    {
     "data": {
      "text/plain": [
       "array([[[(0, 0.), (0, 0.)],\n",
       "        [(0, 0.), (0, 0.)],\n",
       "        [(0, 0.), (0, 0.)]],\n",
       "\n",
       "       [[(0, 0.), (0, 0.)],\n",
       "        [(0, 0.), (0, 0.)],\n",
       "        [(0, 0.), (0, 0.)]],\n",
       "\n",
       "       [[(0, 0.), (0, 0.)],\n",
       "        [(0, 0.), (0, 0.)],\n",
       "        [(0, 0.), (0, 0.)]],\n",
       "\n",
       "       [[(0, 0.), (0, 0.)],\n",
       "        [(0, 0.), (0, 0.)],\n",
       "        [(0, 0.), (0, 0.)]]],\n",
       "      dtype={'names': ['age', 'height'], 'formats': ['<i8', '<f8'], 'offsets': [22, 6], 'itemsize': 30})"
      ]
     },
     "execution_count": 29,
     "metadata": {},
     "output_type": "execute_result"
    }
   ],
   "source": [
    "people_big_array[['age','height']]"
   ]
  },
  {
   "cell_type": "code",
   "execution_count": 30,
   "id": "480f6961-324a-46b7-bd00-30fabbe09fec",
   "metadata": {},
   "outputs": [
    {
     "data": {
      "text/plain": [
       "array([[0, 0],\n",
       "       [0, 0],\n",
       "       [0, 0]], dtype=int64)"
      ]
     },
     "execution_count": 30,
     "metadata": {},
     "output_type": "execute_result"
    }
   ],
   "source": [
    "people_big_array[0]['age']"
   ]
  },
  {
   "cell_type": "code",
   "execution_count": 31,
   "id": "60e9dfe2-24f4-491f-a73f-38b8187c6c44",
   "metadata": {},
   "outputs": [
    {
     "ename": "AttributeError",
     "evalue": "'numpy.ndarray' object has no attribute 'age'",
     "output_type": "error",
     "traceback": [
      "\u001b[1;31m---------------------------------------------------------------------------\u001b[0m",
      "\u001b[1;31mAttributeError\u001b[0m                            Traceback (most recent call last)",
      "Cell \u001b[1;32mIn[31], line 1\u001b[0m\n\u001b[1;32m----> 1\u001b[0m people_big_array[\u001b[38;5;241m0\u001b[39m]\u001b[38;5;241m.\u001b[39mage\n",
      "\u001b[1;31mAttributeError\u001b[0m: 'numpy.ndarray' object has no attribute 'age'"
     ]
    }
   ],
   "source": [
    "people_big_array[0].age    # to solve this problem  make recored array "
   ]
  },
  {
   "cell_type": "code",
   "execution_count": 40,
   "id": "06600379-8426-46a7-966b-f82773384f87",
   "metadata": {},
   "outputs": [
    {
     "data": {
      "text/plain": [
       "rec.array([(b'delta', 73., 205., 34), (b'alpha', 44., 424., 30)],\n",
       "          dtype=[('name', 'S6'), ('height', '<f8'), ('weight', '<f8'), ('age', '<i8')])"
      ]
     },
     "execution_count": 40,
     "metadata": {},
     "output_type": "execute_result"
    }
   ],
   "source": [
    "people_recold_array=np.rec.array( [('delta',73,205,34),('alpha',44,424,30)],dtype=person_data_def)\n",
    "people_recold_array"
   ]
  },
  {
   "cell_type": "code",
   "execution_count": 41,
   "id": "c27a3951-3179-49ef-b2ed-6703527df617",
   "metadata": {},
   "outputs": [
    {
     "data": {
      "text/plain": [
       "34"
      ]
     },
     "execution_count": 41,
     "metadata": {},
     "output_type": "execute_result"
    }
   ],
   "source": [
    "people_recold_array[0].age"
   ]
  },
  {
   "cell_type": "code",
   "execution_count": 42,
   "id": "60c9f726-c86c-4088-b587-d986f3e3ba35",
   "metadata": {},
   "outputs": [
    {
     "data": {
      "text/plain": [
       "(2,)"
      ]
     },
     "execution_count": 42,
     "metadata": {},
     "output_type": "execute_result"
    }
   ],
   "source": [
    "people_recold_array.shape"
   ]
  },
  {
   "cell_type": "code",
   "execution_count": 44,
   "id": "e95a0260-c0ea-4f9a-8728-cb8610380fe0",
   "metadata": {},
   "outputs": [
    {
     "data": {
      "text/plain": [
       "rec.array([(b'', 0., 0., 0), (b'', 0., 0., 0), (b'', 0., 0., 0),\n",
       "           (b'', 0., 0., 0)],\n",
       "          dtype=[('name', 'S6'), ('height', '<f8'), ('weight', '<f8'), ('age', '<i8')])"
      ]
     },
     "execution_count": 44,
     "metadata": {},
     "output_type": "execute_result"
    }
   ],
   "source": [
    "people_recold_array2=np.rec.array( np.zeros((4),dtype=person_data_def))\n",
    "people_recold_array2"
   ]
  },
  {
   "cell_type": "markdown",
   "id": "20ad8830-5097-47e3-9c07-5ffa729b77a3",
   "metadata": {},
   "source": [
    "\n",
    "# Please think a little about the Pandas dataframe backbone :)"
   ]
  },
  {
   "cell_type": "code",
   "execution_count": null,
   "id": "3bd89609-7984-4842-b555-2e8d072e103e",
   "metadata": {},
   "outputs": [],
   "source": []
  },
  {
   "cell_type": "code",
   "execution_count": null,
   "id": "b108699b-a4c3-45b0-b85e-8ccaa24b0069",
   "metadata": {},
   "outputs": [],
   "source": []
  },
  {
   "cell_type": "code",
   "execution_count": null,
   "id": "a03ce7ce-8eb9-44c6-9dcd-068cfb18302b",
   "metadata": {},
   "outputs": [],
   "source": []
  },
  {
   "cell_type": "code",
   "execution_count": null,
   "id": "166d6074-04f2-473d-8d00-931267c28a93",
   "metadata": {},
   "outputs": [],
   "source": []
  },
  {
   "cell_type": "code",
   "execution_count": null,
   "id": "b48f06f0-d5cd-4df6-a285-77037d6ff65f",
   "metadata": {},
   "outputs": [],
   "source": []
  },
  {
   "cell_type": "code",
   "execution_count": null,
   "id": "e0cc50ee-1cfd-4827-ac0b-fda1169a21cf",
   "metadata": {},
   "outputs": [],
   "source": []
  }
 ],
 "metadata": {
  "kernelspec": {
   "display_name": "Python 3 (ipykernel)",
   "language": "python",
   "name": "python3"
  },
  "language_info": {
   "codemirror_mode": {
    "name": "ipython",
    "version": 3
   },
   "file_extension": ".py",
   "mimetype": "text/x-python",
   "name": "python",
   "nbconvert_exporter": "python",
   "pygments_lexer": "ipython3",
   "version": "3.12.4"
  }
 },
 "nbformat": 4,
 "nbformat_minor": 5
}

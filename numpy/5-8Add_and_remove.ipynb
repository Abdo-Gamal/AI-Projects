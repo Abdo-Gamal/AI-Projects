{
 "cells": [
  {
   "cell_type": "markdown",
   "id": "042d8f70-a56e-4017-9214-5b38d394b2df",
   "metadata": {},
   "source": [
    "\n",
    "# Adding and Removing Elements from NumPy Arrays \n",
    "- append \n",
    "- horizontal stacking\n",
    "-  vertical stacking\n",
    "-  insert\n",
    "-  delete"
   ]
  },
  {
   "cell_type": "code",
   "execution_count": 34,
   "id": "9980182a-bdf4-42a8-841c-3de98e26dc7a",
   "metadata": {},
   "outputs": [],
   "source": [
    "import numpy as np"
   ]
  },
  {
   "cell_type": "markdown",
   "id": "83c97346-dd11-4b05-8504-a97b303711fc",
   "metadata": {},
   "source": [
    "# add function "
   ]
  },
  {
   "cell_type": "code",
   "execution_count": 35,
   "id": "acd57138-9820-4c23-ae5a-f809ab3dcae0",
   "metadata": {},
   "outputs": [
    {
     "data": {
      "text/plain": [
       "array([[[ 0,  1,  2,  3],\n",
       "        [ 4,  5,  6,  7],\n",
       "        [ 8,  9, 10, 11]],\n",
       "\n",
       "       [[12, 13, 14, 15],\n",
       "        [16, 17, 18, 19],\n",
       "        [20, 21, 22, 23]]])"
      ]
     },
     "execution_count": 35,
     "metadata": {},
     "output_type": "execute_result"
    }
   ],
   "source": [
    "a=np.arange(24).reshape(2,3,4)\n",
    "a"
   ]
  },
  {
   "cell_type": "code",
   "execution_count": 36,
   "id": "8b7a4aa1-6586-4a4e-9216-254c483359a5",
   "metadata": {},
   "outputs": [
    {
     "data": {
      "text/plain": [
       "array([ 0,  1,  2,  3,  4,  5,  6,  7,  8,  9, 10, 11, 12, 13, 14, 15, 16,\n",
       "       17, 18, 19, 20, 21, 22, 23,  1,  2,  3,  4])"
      ]
     },
     "execution_count": 36,
     "metadata": {},
     "output_type": "execute_result"
    }
   ],
   "source": [
    "b=np.append(a,[1,2,3,4])   # alwas  return one D array  ,a not change \n",
    "b"
   ]
  },
  {
   "cell_type": "code",
   "execution_count": 37,
   "id": "aa83e610-b083-4a15-a595-13fc1b1ef1c6",
   "metadata": {},
   "outputs": [
    {
     "data": {
      "text/plain": [
       "array([[[ 0,  1,  2,  3],\n",
       "        [ 4,  5,  6,  7],\n",
       "        [ 8,  9, 10, 11]],\n",
       "\n",
       "       [[12, 13, 14, 15],\n",
       "        [16, 17, 18, 19],\n",
       "        [20, 21, 22, 23]]])"
      ]
     },
     "execution_count": 37,
     "metadata": {},
     "output_type": "execute_result"
    }
   ],
   "source": [
    "a"
   ]
  },
  {
   "cell_type": "markdown",
   "id": "c374d1d8-f602-4a7f-b14c-02019e6c1243",
   "metadata": {},
   "source": [
    "axis:\n",
    "` 2D`\n",
    "    axise -> rows\n",
    "    axis1 --> columns\n",
    "`3D `\n",
    "    axise --> depth\n",
    "    axis1 --> rows\n",
    "    axis2 --> columns\n",
    "############‡\n",
    "a (2,3,4)\n",
    "c (2,3,4)\n",
    "appened based on axise0: 4*3*4 \n",
    "appened based on axis1: 2*6*4\n",
    "appened based on axis2: 2*3*8\n",
    "\n",
    "#######\n"
   ]
  },
  {
   "cell_type": "code",
   "execution_count": 38,
   "id": "e68fe106-b090-4eed-8000-35306ca29043",
   "metadata": {},
   "outputs": [
    {
     "data": {
      "text/plain": [
       "array([[[ 0,  1,  2,  3],\n",
       "        [ 4,  5,  6,  7],\n",
       "        [ 8,  9, 10, 11]],\n",
       "\n",
       "       [[12, 13, 14, 15],\n",
       "        [16, 17, 18, 19],\n",
       "        [20, 21, 22, 23]]])"
      ]
     },
     "execution_count": 38,
     "metadata": {},
     "output_type": "execute_result"
    }
   ],
   "source": [
    "c=np.arange(24).reshape(2,3,4)\n",
    "c"
   ]
  },
  {
   "cell_type": "code",
   "execution_count": 39,
   "id": "2b3fe3b6-5009-4c40-be7e-d87a36d28ec4",
   "metadata": {},
   "outputs": [
    {
     "data": {
      "text/plain": [
       "array([[[  3,  13,  23,  33],\n",
       "        [ 43,  53,  63,  73],\n",
       "        [ 83,  93, 103, 113]],\n",
       "\n",
       "       [[123, 133, 143, 153],\n",
       "        [163, 173, 183, 193],\n",
       "        [203, 213, 223, 233]]])"
      ]
     },
     "execution_count": 39,
     "metadata": {},
     "output_type": "execute_result"
    }
   ],
   "source": [
    "a=np.arange(24).reshape(2,3,4)*10+3\n",
    "a"
   ]
  },
  {
   "cell_type": "code",
   "execution_count": 40,
   "id": "bad5db44-0e0d-4b83-b07c-315c02933109",
   "metadata": {},
   "outputs": [
    {
     "data": {
      "text/plain": [
       "array([[[  3,  13,  23,  33],\n",
       "        [ 43,  53,  63,  73],\n",
       "        [ 83,  93, 103, 113]],\n",
       "\n",
       "       [[123, 133, 143, 153],\n",
       "        [163, 173, 183, 193],\n",
       "        [203, 213, 223, 233]],\n",
       "\n",
       "       [[  0,   1,   2,   3],\n",
       "        [  4,   5,   6,   7],\n",
       "        [  8,   9,  10,  11]],\n",
       "\n",
       "       [[ 12,  13,  14,  15],\n",
       "        [ 16,  17,  18,  19],\n",
       "        [ 20,  21,  22,  23]]])"
      ]
     },
     "execution_count": 40,
     "metadata": {},
     "output_type": "execute_result"
    }
   ],
   "source": [
    "res=np.append(a,c,axis=0) # incease depth \n",
    "res"
   ]
  },
  {
   "cell_type": "code",
   "execution_count": 41,
   "id": "1a9caabc-0770-4b0b-90a5-9e5771c6039d",
   "metadata": {},
   "outputs": [
    {
     "data": {
      "text/plain": [
       "array([[[  3,  13,  23,  33],\n",
       "        [ 43,  53,  63,  73],\n",
       "        [ 83,  93, 103, 113],\n",
       "        [  0,   1,   2,   3],\n",
       "        [  4,   5,   6,   7],\n",
       "        [  8,   9,  10,  11]],\n",
       "\n",
       "       [[123, 133, 143, 153],\n",
       "        [163, 173, 183, 193],\n",
       "        [203, 213, 223, 233],\n",
       "        [ 12,  13,  14,  15],\n",
       "        [ 16,  17,  18,  19],\n",
       "        [ 20,  21,  22,  23]]])"
      ]
     },
     "execution_count": 41,
     "metadata": {},
     "output_type": "execute_result"
    }
   ],
   "source": [
    "res=np.append(a,c,axis=1) # incease row \n",
    "res"
   ]
  },
  {
   "cell_type": "code",
   "execution_count": 42,
   "id": "5fd3d083-3add-471c-87ae-f811a39fd0cd",
   "metadata": {},
   "outputs": [
    {
     "data": {
      "text/plain": [
       "array([[[  3,  13,  23,  33],\n",
       "        [ 43,  53,  63,  73],\n",
       "        [ 83,  93, 103, 113],\n",
       "        [  0,   1,   2,   3],\n",
       "        [  4,   5,   6,   7],\n",
       "        [  8,   9,  10,  11]],\n",
       "\n",
       "       [[123, 133, 143, 153],\n",
       "        [163, 173, 183, 193],\n",
       "        [203, 213, 223, 233],\n",
       "        [ 12,  13,  14,  15],\n",
       "        [ 16,  17,  18,  19],\n",
       "        [ 20,  21,  22,  23]]])"
      ]
     },
     "execution_count": 42,
     "metadata": {},
     "output_type": "execute_result"
    }
   ],
   "source": [
    "res=np.append(a,c,axis=1) # incease col \n",
    "res"
   ]
  },
  {
   "cell_type": "code",
   "execution_count": 43,
   "id": "20045467-ba54-4e99-8bc2-79dcb1b69e43",
   "metadata": {},
   "outputs": [
    {
     "data": {
      "text/plain": [
       "array([  3,  13,  23,  33,  43,  53,  63,  73,  83,  93, 103, 113, 123,\n",
       "       133, 143, 153, 163, 173, 183, 193, 203, 213, 223, 233,   0,   1,\n",
       "         2,   3,   4,   5,   6,   7,   8,   9,  10,  11,  12,  13,  14,\n",
       "        15,  16,  17,  18,  19,  20,  21,  22,  23])"
      ]
     },
     "execution_count": 43,
     "metadata": {},
     "output_type": "execute_result"
    }
   ],
   "source": [
    "np.append(a,c)    # return 1D"
   ]
  },
  {
   "cell_type": "code",
   "execution_count": 44,
   "id": "e2accc96-d9fe-4e70-af70-3b857d0a3e62",
   "metadata": {},
   "outputs": [
    {
     "data": {
      "text/plain": [
       "(2, 3, 8)"
      ]
     },
     "execution_count": 44,
     "metadata": {},
     "output_type": "execute_result"
    }
   ],
   "source": [
    "np.append(a,c,axis=2).shape"
   ]
  },
  {
   "cell_type": "markdown",
   "id": "babb2319-22df-4eed-b0ca-2686058d88b7",
   "metadata": {},
   "source": [
    "# Ex2"
   ]
  },
  {
   "cell_type": "code",
   "execution_count": 45,
   "id": "182c9059-46be-4e38-8355-e0b44f09609f",
   "metadata": {},
   "outputs": [
    {
     "data": {
      "text/plain": [
       "array([[[ 0,  1,  2,  3],\n",
       "        [ 4,  5,  6,  7],\n",
       "        [ 8,  9, 10, 11]]])"
      ]
     },
     "execution_count": 45,
     "metadata": {},
     "output_type": "execute_result"
    }
   ],
   "source": [
    "z=np.arange(12).reshape((1,3,4))\n",
    "z"
   ]
  },
  {
   "cell_type": "code",
   "execution_count": 46,
   "id": "229b7663-ea69-4778-b246-81cda8fbbe04",
   "metadata": {},
   "outputs": [
    {
     "ename": "ValueError",
     "evalue": "all the input array dimensions except for the concatenation axis must match exactly, but along dimension 0, the array at index 0 has size 2 and the array at index 1 has size 1",
     "output_type": "error",
     "traceback": [
      "\u001b[1;31m---------------------------------------------------------------------------\u001b[0m",
      "\u001b[1;31mValueError\u001b[0m                                Traceback (most recent call last)",
      "Cell \u001b[1;32mIn[46], line 3\u001b[0m\n\u001b[0;32m      1\u001b[0m \u001b[38;5;66;03m#c-->(2,3,4)\u001b[39;00m\n\u001b[0;32m      2\u001b[0m \u001b[38;5;66;03m#z--> (1.3,4)\u001b[39;00m\n\u001b[1;32m----> 3\u001b[0m np\u001b[38;5;241m.\u001b[39mappend(c,z,axis\u001b[38;5;241m=\u001b[39m\u001b[38;5;241m1\u001b[39m)\n",
      "File \u001b[1;32mC:\\ProgramData\\anaconda3\\Lib\\site-packages\\numpy\\lib\\function_base.py:5618\u001b[0m, in \u001b[0;36mappend\u001b[1;34m(arr, values, axis)\u001b[0m\n\u001b[0;32m   5616\u001b[0m     values \u001b[38;5;241m=\u001b[39m ravel(values)\n\u001b[0;32m   5617\u001b[0m     axis \u001b[38;5;241m=\u001b[39m arr\u001b[38;5;241m.\u001b[39mndim\u001b[38;5;241m-\u001b[39m\u001b[38;5;241m1\u001b[39m\n\u001b[1;32m-> 5618\u001b[0m \u001b[38;5;28;01mreturn\u001b[39;00m concatenate((arr, values), axis\u001b[38;5;241m=\u001b[39maxis)\n",
      "\u001b[1;31mValueError\u001b[0m: all the input array dimensions except for the concatenation axis must match exactly, but along dimension 0, the array at index 0 has size 2 and the array at index 1 has size 1"
     ]
    }
   ],
   "source": [
    "#c-->(2,3,4)\n",
    "#z--> (1.3,4)\n",
    "np.append(c,z,axis=1)"
   ]
  },
  {
   "cell_type": "code",
   "execution_count": null,
   "id": "a8a2b2b5-2f63-4cbc-a50d-1e657a05adaf",
   "metadata": {},
   "outputs": [],
   "source": [
    "#c-->(2,3,4)\n",
    "#z--> (1.3,4)\n",
    "np.append(c,z,axis=0)"
   ]
  },
  {
   "cell_type": "code",
   "execution_count": null,
   "id": "32a4389f-a728-41db-85d5-61bf6d15baa8",
   "metadata": {},
   "outputs": [],
   "source": [
    "np.append(c,z)"
   ]
  },
  {
   "cell_type": "code",
   "execution_count": null,
   "id": "b8c40868-0958-4a1e-b5f7-f2de866ef0dd",
   "metadata": {},
   "outputs": [],
   "source": [
    "#not similar dimensions, default behaviour \n",
    "data1= np.array([[1,2,3], [4, 5, 6]]) # 2*3 \n",
    "data2 = np.array([7,8,9])# 3\n",
    "np.append(data1, data2)"
   ]
  },
  {
   "cell_type": "code",
   "execution_count": null,
   "id": "03169a9e-e9bf-4132-9e34-7f62e31f2f9f",
   "metadata": {},
   "outputs": [],
   "source": [
    "# not similar dimensions, by defining an axis :( np.append(datal, data2, axis=1)\n",
    "np.append(data1, data2,axis=0)\n"
   ]
  },
  {
   "cell_type": "markdown",
   "id": "2856bf20-5a18-4afc-a844-832ea59d698a",
   "metadata": {},
   "source": [
    "# stack function \n",
    "work  based on  second access \"axis=1\"  if use multidimantion array"
   ]
  },
  {
   "cell_type": "code",
   "execution_count": 54,
   "id": "a4ae34a9-f673-428e-a742-ffd7f3f00124",
   "metadata": {},
   "outputs": [
    {
     "data": {
      "text/plain": [
       "array([  3,  13,  23,  33,  43,  53,  63,  73,  83,  93, 103, 113, 123,\n",
       "       133, 143, 153, 163, 173, 183, 193, 203, 213, 223, 233])"
      ]
     },
     "execution_count": 54,
     "metadata": {},
     "output_type": "execute_result"
    }
   ],
   "source": [
    "a_1d=a.ravel()\n",
    "c_1d=c.ravel()\n",
    "a_1d"
   ]
  },
  {
   "cell_type": "code",
   "execution_count": 55,
   "id": "4b4740fd-c96d-4246-b375-350dbf43e226",
   "metadata": {},
   "outputs": [
    {
     "data": {
      "text/plain": [
       "array([  3,  13,  23,  33,  43,  53,  63,  73,  83,  93, 103, 113, 123,\n",
       "       133, 143, 153, 163, 173, 183, 193, 203, 213, 223, 233,   0,   1,\n",
       "         2,   3,   4,   5,   6,   7,   8,   9,  10,  11,  12,  13,  14,\n",
       "        15,  16,  17,  18,  19,  20,  21,  22,  23])"
      ]
     },
     "execution_count": 55,
     "metadata": {},
     "output_type": "execute_result"
    }
   ],
   "source": [
    "\n",
    "my_1d_hstack=np.hstack((a_1d,c_1d))\n",
    "my_1d_hstack"
   ]
  },
  {
   "cell_type": "code",
   "execution_count": 62,
   "id": "a9ac13b7-d832-4565-a3d6-81f8d5a55ea1",
   "metadata": {},
   "outputs": [
    {
     "data": {
      "text/plain": [
       "array([[  3,  13,  23,  33,   0,   1,   2,   3],\n",
       "       [ 43,  53,  63,  73,   4,   5,   6,   7],\n",
       "       [ 83,  93, 103, 113,   8,   9,  10,  11],\n",
       "       [123, 133, 143, 153,  12,  13,  14,  15],\n",
       "       [163, 173, 183, 193,  16,  17,  18,  19],\n",
       "       [203, 213, 223, 233,  20,  21,  22,  23]])"
      ]
     },
     "execution_count": 62,
     "metadata": {},
     "output_type": "execute_result"
    }
   ],
   "source": [
    "a_2d=a_1d.reshape((6,4))\n",
    "c_2d=c_1d.reshape(6,4)\n",
    "my_2d_hstack=np.hstack((a_2d,c_2d))\n",
    "my_2d_hstack"
   ]
  },
  {
   "cell_type": "code",
   "execution_count": 63,
   "id": "d3fbe9fc-3b9e-48c7-9924-6bcd4b47e812",
   "metadata": {},
   "outputs": [
    {
     "data": {
      "text/plain": [
       "(6, 8)"
      ]
     },
     "execution_count": 63,
     "metadata": {},
     "output_type": "execute_result"
    }
   ],
   "source": [
    "my_2d_hstack.shape"
   ]
  },
  {
   "cell_type": "code",
   "execution_count": 71,
   "id": "0aa68e7d-3e2b-4840-aabd-c2014aa4028d",
   "metadata": {},
   "outputs": [
    {
     "ename": "ValueError",
     "evalue": "all the input array dimensions except for the concatenation axis must match exactly, but along dimension 0, the array at index 0 has size 4 and the array at index 1 has size 6",
     "output_type": "error",
     "traceback": [
      "\u001b[1;31m---------------------------------------------------------------------------\u001b[0m",
      "\u001b[1;31mValueError\u001b[0m                                Traceback (most recent call last)",
      "Cell \u001b[1;32mIn[71], line 2\u001b[0m\n\u001b[0;32m      1\u001b[0m \u001b[38;5;66;03m# number of rows isn't the same, but here's an issue as it's not axis1\u001b[39;00m\n\u001b[1;32m----> 2\u001b[0m np\u001b[38;5;241m.\u001b[39mhstack((a_2d[:\u001b[38;5;241m4\u001b[39m],c_2d))\n",
      "File \u001b[1;32mC:\\ProgramData\\anaconda3\\Lib\\site-packages\\numpy\\core\\shape_base.py:359\u001b[0m, in \u001b[0;36mhstack\u001b[1;34m(tup, dtype, casting)\u001b[0m\n\u001b[0;32m    357\u001b[0m     \u001b[38;5;28;01mreturn\u001b[39;00m _nx\u001b[38;5;241m.\u001b[39mconcatenate(arrs, \u001b[38;5;241m0\u001b[39m, dtype\u001b[38;5;241m=\u001b[39mdtype, casting\u001b[38;5;241m=\u001b[39mcasting)\n\u001b[0;32m    358\u001b[0m \u001b[38;5;28;01melse\u001b[39;00m:\n\u001b[1;32m--> 359\u001b[0m     \u001b[38;5;28;01mreturn\u001b[39;00m _nx\u001b[38;5;241m.\u001b[39mconcatenate(arrs, \u001b[38;5;241m1\u001b[39m, dtype\u001b[38;5;241m=\u001b[39mdtype, casting\u001b[38;5;241m=\u001b[39mcasting)\n",
      "\u001b[1;31mValueError\u001b[0m: all the input array dimensions except for the concatenation axis must match exactly, but along dimension 0, the array at index 0 has size 4 and the array at index 1 has size 6"
     ]
    }
   ],
   "source": [
    "# number of rows isn't the same, but here's an issue as it's not axis1\n",
    "np.hstack((a_2d[:4],c_2d))"
   ]
  },
  {
   "cell_type": "code",
   "execution_count": 70,
   "id": "69637f62-9d4b-424e-9efb-821dbc192601",
   "metadata": {},
   "outputs": [
    {
     "data": {
      "text/plain": [
       "(6, 7)"
      ]
     },
     "execution_count": 70,
     "metadata": {},
     "output_type": "execute_result"
    }
   ],
   "source": [
    "#number of columns isn't the same, but no issue as it's axis1\n",
    "my_2d_h_stack_2 = np.hstack ((a_2d,c_2d[:,:3]))\n",
    "my_2d_h_stack_2.shape\n"
   ]
  },
  {
   "cell_type": "code",
   "execution_count": 64,
   "id": "2cf7f869-a3e8-479a-8b24-366fe8220dec",
   "metadata": {},
   "outputs": [
    {
     "data": {
      "text/plain": [
       "array([[[  3,  13,  23,  33],\n",
       "        [ 43,  53,  63,  73],\n",
       "        [ 83,  93, 103, 113],\n",
       "        [  0,   1,   2,   3],\n",
       "        [  4,   5,   6,   7],\n",
       "        [  8,   9,  10,  11]],\n",
       "\n",
       "       [[123, 133, 143, 153],\n",
       "        [163, 173, 183, 193],\n",
       "        [203, 213, 223, 233],\n",
       "        [ 12,  13,  14,  15],\n",
       "        [ 16,  17,  18,  19],\n",
       "        [ 20,  21,  22,  23]]])"
      ]
     },
     "execution_count": 64,
     "metadata": {},
     "output_type": "execute_result"
    }
   ],
   "source": [
    "# a -->(2,3,4)\n",
    "#c-->(2,3,4)\n",
    "my_3d_hstack=np.hstack((a,c))   # by default work on axis=1\n",
    "my_3d_hstack"
   ]
  },
  {
   "cell_type": "code",
   "execution_count": 65,
   "id": "d67a5728-4bff-4527-8bb5-84905feef373",
   "metadata": {},
   "outputs": [
    {
     "data": {
      "text/plain": [
       "(2, 6, 4)"
      ]
     },
     "execution_count": 65,
     "metadata": {},
     "output_type": "execute_result"
    }
   ],
   "source": [
    "my_3d_hstack.shape"
   ]
  },
  {
   "cell_type": "code",
   "execution_count": 74,
   "id": "b1c68597-312c-4b5a-b24e-18bbe81bc0e8",
   "metadata": {},
   "outputs": [
    {
     "data": {
      "text/plain": [
       "(2, 5, 4)"
      ]
     },
     "execution_count": 74,
     "metadata": {},
     "output_type": "execute_result"
    }
   ],
   "source": [
    "# number of rows isn't the same (3D), but no issue as it's axis1\n",
    "my_3d_h_stack_2=np.hstack ((a,c[:,:2])) \n",
    "my_3d_h_stack_2.shape"
   ]
  },
  {
   "cell_type": "code",
   "execution_count": 75,
   "id": "e3ff5da3-e77f-4204-aba9-09739fbef742",
   "metadata": {},
   "outputs": [
    {
     "ename": "ValueError",
     "evalue": "all the input array dimensions except for the concatenation axis must match exactly, but along dimension 0, the array at index 0 has size 2 and the array at index 1 has size 1",
     "output_type": "error",
     "traceback": [
      "\u001b[1;31m---------------------------------------------------------------------------\u001b[0m",
      "\u001b[1;31mValueError\u001b[0m                                Traceback (most recent call last)",
      "Cell \u001b[1;32mIn[75], line 2\u001b[0m\n\u001b[0;32m      1\u001b[0m \u001b[38;5;66;03m#depth isn't the same (3D), but here's an issue as it's not axis1 \u001b[39;00m\n\u001b[1;32m----> 2\u001b[0m np\u001b[38;5;241m.\u001b[39mhstack ((a,c[:\u001b[38;5;241m1\u001b[39m]))\n",
      "File \u001b[1;32mC:\\ProgramData\\anaconda3\\Lib\\site-packages\\numpy\\core\\shape_base.py:359\u001b[0m, in \u001b[0;36mhstack\u001b[1;34m(tup, dtype, casting)\u001b[0m\n\u001b[0;32m    357\u001b[0m     \u001b[38;5;28;01mreturn\u001b[39;00m _nx\u001b[38;5;241m.\u001b[39mconcatenate(arrs, \u001b[38;5;241m0\u001b[39m, dtype\u001b[38;5;241m=\u001b[39mdtype, casting\u001b[38;5;241m=\u001b[39mcasting)\n\u001b[0;32m    358\u001b[0m \u001b[38;5;28;01melse\u001b[39;00m:\n\u001b[1;32m--> 359\u001b[0m     \u001b[38;5;28;01mreturn\u001b[39;00m _nx\u001b[38;5;241m.\u001b[39mconcatenate(arrs, \u001b[38;5;241m1\u001b[39m, dtype\u001b[38;5;241m=\u001b[39mdtype, casting\u001b[38;5;241m=\u001b[39mcasting)\n",
      "\u001b[1;31mValueError\u001b[0m: all the input array dimensions except for the concatenation axis must match exactly, but along dimension 0, the array at index 0 has size 2 and the array at index 1 has size 1"
     ]
    }
   ],
   "source": [
    "#depth isn't the same (3D), but here's an issue as it's not axis1 \n",
    "np.hstack ((a,c[:1]))"
   ]
  },
  {
   "cell_type": "code",
   "execution_count": 76,
   "id": "1ab6e851-6008-407b-92fd-58ad0d2a55c8",
   "metadata": {},
   "outputs": [
    {
     "ename": "ValueError",
     "evalue": "all the input arrays must have same number of dimensions, but the array at index 0 has 2 dimension(s) and the array at index 1 has 3 dimension(s)",
     "output_type": "error",
     "traceback": [
      "\u001b[1;31m---------------------------------------------------------------------------\u001b[0m",
      "\u001b[1;31mValueError\u001b[0m                                Traceback (most recent call last)",
      "Cell \u001b[1;32mIn[76], line 2\u001b[0m\n\u001b[0;32m      1\u001b[0m \u001b[38;5;66;03m# it's illogical to try with arrays that have different dimensions !! \u001b[39;00m\n\u001b[1;32m----> 2\u001b[0m np\u001b[38;5;241m.\u001b[39mhstack((a_2d, a))\n",
      "File \u001b[1;32mC:\\ProgramData\\anaconda3\\Lib\\site-packages\\numpy\\core\\shape_base.py:359\u001b[0m, in \u001b[0;36mhstack\u001b[1;34m(tup, dtype, casting)\u001b[0m\n\u001b[0;32m    357\u001b[0m     \u001b[38;5;28;01mreturn\u001b[39;00m _nx\u001b[38;5;241m.\u001b[39mconcatenate(arrs, \u001b[38;5;241m0\u001b[39m, dtype\u001b[38;5;241m=\u001b[39mdtype, casting\u001b[38;5;241m=\u001b[39mcasting)\n\u001b[0;32m    358\u001b[0m \u001b[38;5;28;01melse\u001b[39;00m:\n\u001b[1;32m--> 359\u001b[0m     \u001b[38;5;28;01mreturn\u001b[39;00m _nx\u001b[38;5;241m.\u001b[39mconcatenate(arrs, \u001b[38;5;241m1\u001b[39m, dtype\u001b[38;5;241m=\u001b[39mdtype, casting\u001b[38;5;241m=\u001b[39mcasting)\n",
      "\u001b[1;31mValueError\u001b[0m: all the input arrays must have same number of dimensions, but the array at index 0 has 2 dimension(s) and the array at index 1 has 3 dimension(s)"
     ]
    }
   ],
   "source": [
    "# it's illogical to try with arrays that have different dimensions !! \n",
    "np.hstack((a_2d, a))"
   ]
  },
  {
   "cell_type": "markdown",
   "id": "6477f50f-2515-4539-b572-8958eb1fde6c",
   "metadata": {},
   "source": [
    "# vstack\n",
    "working based on the first axis (axis0) if there's more than one dimension"
   ]
  },
  {
   "cell_type": "code",
   "execution_count": 77,
   "id": "5bfa2198-6c41-4036-9ec2-3e52bd24e06f",
   "metadata": {},
   "outputs": [
    {
     "data": {
      "text/plain": [
       "array([[  3,  13,  23,  33,  43,  53,  63,  73,  83,  93, 103, 113, 123,\n",
       "        133, 143, 153, 163, 173, 183, 193, 203, 213, 223, 233],\n",
       "       [  0,   1,   2,   3,   4,   5,   6,   7,   8,   9,  10,  11,  12,\n",
       "         13,  14,  15,  16,  17,  18,  19,  20,  21,  22,  23]])"
      ]
     },
     "execution_count": 77,
     "metadata": {},
     "output_type": "execute_result"
    }
   ],
   "source": [
    "#Let's try on 1-D\n",
    "my_1d_v_stack= np.vstack ((a_1d,c_1d)) # input 1D array  output 2Darray \n",
    "my_1d_v_stack"
   ]
  },
  {
   "cell_type": "code",
   "execution_count": 78,
   "id": "13e0808c-e8d5-4516-a8c7-014baa4e015b",
   "metadata": {},
   "outputs": [
    {
     "data": {
      "text/plain": [
       "(2, 24)"
      ]
     },
     "execution_count": 78,
     "metadata": {},
     "output_type": "execute_result"
    }
   ],
   "source": [
    "my_1d_v_stack.shape"
   ]
  },
  {
   "cell_type": "code",
   "execution_count": 80,
   "id": "cf76f244-691e-4a94-94e9-aa80cd1aeefc",
   "metadata": {},
   "outputs": [
    {
     "data": {
      "text/plain": [
       "array([[  3,  13,  23,  33],\n",
       "       [ 43,  53,  63,  73],\n",
       "       [ 83,  93, 103, 113],\n",
       "       [123, 133, 143, 153],\n",
       "       [163, 173, 183, 193],\n",
       "       [203, 213, 223, 233],\n",
       "       [  0,   1,   2,   3],\n",
       "       [  4,   5,   6,   7],\n",
       "       [  8,   9,  10,  11],\n",
       "       [ 12,  13,  14,  15],\n",
       "       [ 16,  17,  18,  19],\n",
       "       [ 20,  21,  22,  23]])"
      ]
     },
     "execution_count": 80,
     "metadata": {},
     "output_type": "execute_result"
    }
   ],
   "source": [
    "# tey with 2D array \n",
    "my_2d_vstach=np.vstack((a_2d,c_2d))\n",
    "my_2d_vstach"
   ]
  },
  {
   "cell_type": "code",
   "execution_count": 81,
   "id": "2be56f48-b961-4005-9c8d-eb55c2633423",
   "metadata": {},
   "outputs": [
    {
     "data": {
      "text/plain": [
       "(12, 4)"
      ]
     },
     "execution_count": 81,
     "metadata": {},
     "output_type": "execute_result"
    }
   ],
   "source": [
    "my_2d_vstach.shape"
   ]
  },
  {
   "cell_type": "code",
   "execution_count": 85,
   "id": "ca3f610b-4919-493c-9d22-291d79888b9a",
   "metadata": {},
   "outputs": [
    {
     "data": {
      "text/plain": [
       "(10, 4)"
      ]
     },
     "execution_count": 85,
     "metadata": {},
     "output_type": "execute_result"
    }
   ],
   "source": [
    "#number of rows isn't the same, but no issue as it's axise \n",
    "my_2d_vstack_2 = np.vstack ((a_2d,c_2d[:4]))\n",
    "my_2d_vstack_2.shape\n",
    "\n"
   ]
  },
  {
   "cell_type": "code",
   "execution_count": 83,
   "id": "8ec5c959-cbd9-4e1b-845d-c08c1b4b8989",
   "metadata": {},
   "outputs": [
    {
     "ename": "ValueError",
     "evalue": "all the input array dimensions except for the concatenation axis must match exactly, but along dimension 1, the array at index 0 has size 3 and the array at index 1 has size 4",
     "output_type": "error",
     "traceback": [
      "\u001b[1;31m---------------------------------------------------------------------------\u001b[0m",
      "\u001b[1;31mValueError\u001b[0m                                Traceback (most recent call last)",
      "Cell \u001b[1;32mIn[83], line 2\u001b[0m\n\u001b[0;32m      1\u001b[0m \u001b[38;5;66;03m#number of columns isn't the same, but here's an issue as it's not axise\u001b[39;00m\n\u001b[1;32m----> 2\u001b[0m np\u001b[38;5;241m.\u001b[39mvstack ((a_2d[:,:\u001b[38;5;241m3\u001b[39m],c_2d))\n",
      "File \u001b[1;32mC:\\ProgramData\\anaconda3\\Lib\\site-packages\\numpy\\core\\shape_base.py:289\u001b[0m, in \u001b[0;36mvstack\u001b[1;34m(tup, dtype, casting)\u001b[0m\n\u001b[0;32m    287\u001b[0m \u001b[38;5;28;01mif\u001b[39;00m \u001b[38;5;129;01mnot\u001b[39;00m \u001b[38;5;28misinstance\u001b[39m(arrs, \u001b[38;5;28mlist\u001b[39m):\n\u001b[0;32m    288\u001b[0m     arrs \u001b[38;5;241m=\u001b[39m [arrs]\n\u001b[1;32m--> 289\u001b[0m \u001b[38;5;28;01mreturn\u001b[39;00m _nx\u001b[38;5;241m.\u001b[39mconcatenate(arrs, \u001b[38;5;241m0\u001b[39m, dtype\u001b[38;5;241m=\u001b[39mdtype, casting\u001b[38;5;241m=\u001b[39mcasting)\n",
      "\u001b[1;31mValueError\u001b[0m: all the input array dimensions except for the concatenation axis must match exactly, but along dimension 1, the array at index 0 has size 3 and the array at index 1 has size 4"
     ]
    }
   ],
   "source": [
    "#number of columns isn't the same, but here's an issue as it's not axise\n",
    "np.vstack((a_2d[:,:3],c_2d))"
   ]
  },
  {
   "cell_type": "code",
   "execution_count": 86,
   "id": "7b1c49ab-a33d-45f0-8b26-bd70679a3047",
   "metadata": {},
   "outputs": [
    {
     "data": {
      "text/plain": [
       "array([[[  3,  13,  23,  33],\n",
       "        [ 43,  53,  63,  73],\n",
       "        [ 83,  93, 103, 113]],\n",
       "\n",
       "       [[123, 133, 143, 153],\n",
       "        [163, 173, 183, 193],\n",
       "        [203, 213, 223, 233]],\n",
       "\n",
       "       [[  0,   1,   2,   3],\n",
       "        [  4,   5,   6,   7],\n",
       "        [  8,   9,  10,  11]],\n",
       "\n",
       "       [[ 12,  13,  14,  15],\n",
       "        [ 16,  17,  18,  19],\n",
       "        [ 20,  21,  22,  23]]])"
      ]
     },
     "execution_count": 86,
     "metadata": {},
     "output_type": "execute_result"
    }
   ],
   "source": [
    "#Let's try on 3-D arrays\n",
    "my_3d_v_stack=np.vstack((a,c))  #a,b-->(2,3,4)\n",
    "my_3d_v_stack                   #(4,3,4)\n"
   ]
  },
  {
   "cell_type": "code",
   "execution_count": 89,
   "id": "870b5865-7fc6-4e46-8847-aff3e49b49fc",
   "metadata": {},
   "outputs": [
    {
     "data": {
      "text/plain": [
       "(3, 3, 4)"
      ]
     },
     "execution_count": 89,
     "metadata": {},
     "output_type": "execute_result"
    }
   ],
   "source": [
    "# depth isn't the same (3D), but no issue as it's axise \n",
    "my_3d_v_stack_2 = np.vstack ((a,c[:1]))\n",
    "my_3d_v_stack_2.shape\n"
   ]
  },
  {
   "cell_type": "code",
   "execution_count": 90,
   "id": "15b566c5-126b-4d76-8b57-27ac12c4597e",
   "metadata": {},
   "outputs": [
    {
     "ename": "ValueError",
     "evalue": "all the input array dimensions except for the concatenation axis must match exactly, but along dimension 1, the array at index 0 has size 3 and the array at index 1 has size 1",
     "output_type": "error",
     "traceback": [
      "\u001b[1;31m---------------------------------------------------------------------------\u001b[0m",
      "\u001b[1;31mValueError\u001b[0m                                Traceback (most recent call last)",
      "Cell \u001b[1;32mIn[90], line 2\u001b[0m\n\u001b[0;32m      1\u001b[0m \u001b[38;5;66;03m# number of rows isn't the same (3D), but here's an issue as it's not axise\u001b[39;00m\n\u001b[1;32m----> 2\u001b[0m np\u001b[38;5;241m.\u001b[39mvstack((a,c[:,:\u001b[38;5;241m1\u001b[39m]))\n",
      "File \u001b[1;32mC:\\ProgramData\\anaconda3\\Lib\\site-packages\\numpy\\core\\shape_base.py:289\u001b[0m, in \u001b[0;36mvstack\u001b[1;34m(tup, dtype, casting)\u001b[0m\n\u001b[0;32m    287\u001b[0m \u001b[38;5;28;01mif\u001b[39;00m \u001b[38;5;129;01mnot\u001b[39;00m \u001b[38;5;28misinstance\u001b[39m(arrs, \u001b[38;5;28mlist\u001b[39m):\n\u001b[0;32m    288\u001b[0m     arrs \u001b[38;5;241m=\u001b[39m [arrs]\n\u001b[1;32m--> 289\u001b[0m \u001b[38;5;28;01mreturn\u001b[39;00m _nx\u001b[38;5;241m.\u001b[39mconcatenate(arrs, \u001b[38;5;241m0\u001b[39m, dtype\u001b[38;5;241m=\u001b[39mdtype, casting\u001b[38;5;241m=\u001b[39mcasting)\n",
      "\u001b[1;31mValueError\u001b[0m: all the input array dimensions except for the concatenation axis must match exactly, but along dimension 1, the array at index 0 has size 3 and the array at index 1 has size 1"
     ]
    }
   ],
   "source": [
    "# number of rows isn't the same (3D), but here's an issue as it's not axise\n",
    "np.vstack((a,c[:,:1]))"
   ]
  },
  {
   "cell_type": "markdown",
   "id": "aaad9da5-c18f-41d4-8824-f603db665da4",
   "metadata": {},
   "source": [
    "# Insert function"
   ]
  },
  {
   "cell_type": "raw",
   "id": "386d6bb3-ac0f-4436-9626-ea0e8b90cb87",
   "metadata": {},
   "source": [
    "c(2,3,4)  \n",
    "insert based on axise0: 3,3,4 3   \n",
    "insert based on axis1:  2,4,4 4   \n",
    "insert based on axis2:  2,3,5  "
   ]
  },
  {
   "cell_type": "code",
   "execution_count": 94,
   "id": "d78cebf3-3414-42d7-b74e-96b8b43262a6",
   "metadata": {},
   "outputs": [
    {
     "data": {
      "text/plain": [
       "array([[[  0,   1,   2,   3],\n",
       "        [  4,   5,   6,   7],\n",
       "        [  8,   9,  10,  11]],\n",
       "\n",
       "       [[444, 444, 444, 444],\n",
       "        [444, 444, 444, 444],\n",
       "        [444, 444, 444, 444]],\n",
       "\n",
       "       [[ 12,  13,  14,  15],\n",
       "        [ 16,  17,  18,  19],\n",
       "        [ 20,  21,  22,  23]]])"
      ]
     },
     "execution_count": 94,
     "metadata": {},
     "output_type": "execute_result"
    }
   ],
   "source": [
    "# ex on  scaler \n",
    "array_after_insert =np.insert(c, 1, 444, axis=0) #1 is position ,444 is vlaue \n",
    "array_after_insert"
   ]
  },
  {
   "cell_type": "code",
   "execution_count": 96,
   "id": "399be9a1-a76b-4386-a585-770405c6a1c9",
   "metadata": {},
   "outputs": [
    {
     "data": {
      "text/plain": [
       "array([[[ 0,  1,  2,  3],\n",
       "        [ 4,  5,  6,  7],\n",
       "        [ 8,  9, 10, 11]],\n",
       "\n",
       "       [[12, 13, 14, 15],\n",
       "        [16, 17, 18, 19],\n",
       "        [20, 21, 22, 23]],\n",
       "\n",
       "       [[ 0,  1,  2,  3],\n",
       "        [ 4,  5,  6,  7],\n",
       "        [ 8,  9, 10, 11]]])"
      ]
     },
     "execution_count": 96,
     "metadata": {},
     "output_type": "execute_result"
    }
   ],
   "source": [
    "# insert array instead of a scalar value\n",
    "to_be_inserted =np.arange(12).reshape(3,4)\n",
    "array_after_insert_2 = np.insert(c, 2, to_be_inserted, axis=0) \n",
    "array_after_insert_2"
   ]
  },
  {
   "cell_type": "code",
   "execution_count": 98,
   "id": "13fc80e8-314a-483c-a380-74b0ac2cc360",
   "metadata": {},
   "outputs": [
    {
     "ename": "ValueError",
     "evalue": "could not broadcast input array from shape (1,4,3) into shape (1,3,4)",
     "output_type": "error",
     "traceback": [
      "\u001b[1;31m---------------------------------------------------------------------------\u001b[0m",
      "\u001b[1;31mValueError\u001b[0m                                Traceback (most recent call last)",
      "Cell \u001b[1;32mIn[98], line 3\u001b[0m\n\u001b[0;32m      1\u001b[0m \u001b[38;5;66;03m# insert array instead of a scalar value\u001b[39;00m\n\u001b[0;32m      2\u001b[0m to_be_inserted \u001b[38;5;241m=\u001b[39mnp\u001b[38;5;241m.\u001b[39marange(\u001b[38;5;241m12\u001b[39m)\u001b[38;5;241m.\u001b[39mreshape(\u001b[38;5;241m4\u001b[39m,\u001b[38;5;241m3\u001b[39m)\n\u001b[1;32m----> 3\u001b[0m array_after_insert_2 \u001b[38;5;241m=\u001b[39m np\u001b[38;5;241m.\u001b[39minsert(c, \u001b[38;5;241m0\u001b[39m, to_be_inserted, axis\u001b[38;5;241m=\u001b[39m\u001b[38;5;241m0\u001b[39m) \n\u001b[0;32m      4\u001b[0m array_after_insert_2\n",
      "File \u001b[1;32mC:\\ProgramData\\anaconda3\\Lib\\site-packages\\numpy\\lib\\function_base.py:5525\u001b[0m, in \u001b[0;36minsert\u001b[1;34m(arr, obj, values, axis)\u001b[0m\n\u001b[0;32m   5523\u001b[0m new[\u001b[38;5;28mtuple\u001b[39m(slobj)] \u001b[38;5;241m=\u001b[39m arr[\u001b[38;5;28mtuple\u001b[39m(slobj)]\n\u001b[0;32m   5524\u001b[0m slobj[axis] \u001b[38;5;241m=\u001b[39m \u001b[38;5;28mslice\u001b[39m(index, index\u001b[38;5;241m+\u001b[39mnumnew)\n\u001b[1;32m-> 5525\u001b[0m new[\u001b[38;5;28mtuple\u001b[39m(slobj)] \u001b[38;5;241m=\u001b[39m values\n\u001b[0;32m   5526\u001b[0m slobj[axis] \u001b[38;5;241m=\u001b[39m \u001b[38;5;28mslice\u001b[39m(index\u001b[38;5;241m+\u001b[39mnumnew, \u001b[38;5;28;01mNone\u001b[39;00m)\n\u001b[0;32m   5527\u001b[0m slobj2 \u001b[38;5;241m=\u001b[39m [\u001b[38;5;28mslice\u001b[39m(\u001b[38;5;28;01mNone\u001b[39;00m)] \u001b[38;5;241m*\u001b[39m ndim\n",
      "\u001b[1;31mValueError\u001b[0m: could not broadcast input array from shape (1,4,3) into shape (1,3,4)"
     ]
    }
   ],
   "source": [
    "# insert array instead of a scalar value\n",
    "to_be_inserted =np.arange(12).reshape(4,3)\n",
    "array_after_insert_2 = np.insert(c, 0, to_be_inserted, axis=0) \n",
    "array_after_insert_2"
   ]
  },
  {
   "cell_type": "code",
   "execution_count": 101,
   "id": "2e82b081-2c86-4658-ab33-3d4c833e8ec5",
   "metadata": {},
   "outputs": [
    {
     "data": {
      "text/plain": [
       "array([[[4444, 4444, 4444, 4444],\n",
       "        [   0,    1,    2,    3],\n",
       "        [   4,    5,    6,    7],\n",
       "        [   8,    9,   10,   11]],\n",
       "\n",
       "       [[4444, 4444, 4444, 4444],\n",
       "        [  12,   13,   14,   15],\n",
       "        [  16,   17,   18,   19],\n",
       "        [  20,   21,   22,   23]]])"
      ]
     },
     "execution_count": 101,
     "metadata": {},
     "output_type": "execute_result"
    }
   ],
   "source": [
    "np.insert(c,2,4444,axis=1)"
   ]
  },
  {
   "cell_type": "code",
   "execution_count": 102,
   "id": "dcd143bc-ee78-420e-8562-37fbfb784fa1",
   "metadata": {},
   "outputs": [
    {
     "data": {
      "text/plain": [
       "array([[[   0,    1, 4444,    2,    3],\n",
       "        [   4,    5, 4444,    6,    7],\n",
       "        [   8,    9, 4444,   10,   11]],\n",
       "\n",
       "       [[  12,   13, 4444,   14,   15],\n",
       "        [  16,   17, 4444,   18,   19],\n",
       "        [  20,   21, 4444,   22,   23]]])"
      ]
     },
     "execution_count": 102,
     "metadata": {},
     "output_type": "execute_result"
    }
   ],
   "source": [
    "np.insert(c,2,4444,axis=2)"
   ]
  },
  {
   "cell_type": "code",
   "execution_count": 103,
   "id": "36a785fc-79ce-42be-a00a-7b9083f47e76",
   "metadata": {},
   "outputs": [
    {
     "data": {
      "text/plain": [
       "array([[[ 0.,  1.,  2.,  3.],\n",
       "        [ 4.,  5.,  6.,  7.],\n",
       "        [ 8.,  9., 10., 11.]],\n",
       "\n",
       "       [[12., 13., 14., 15.],\n",
       "        [16., 17., 18., 19.],\n",
       "        [20., 21., 22., 23.]]])"
      ]
     },
     "execution_count": 103,
     "metadata": {},
     "output_type": "execute_result"
    }
   ],
   "source": [
    "d=np.empty(c.shape)\n",
    "np.copyto(d,c)             # see next \n",
    "d"
   ]
  },
  {
   "cell_type": "code",
   "execution_count": 105,
   "id": "24d63c73-5bad-40af-9db0-c30aaf6d7e7c",
   "metadata": {},
   "outputs": [
    {
     "data": {
      "text/plain": [
       "array([[[12., 13., 14., 15.],\n",
       "        [16., 17., 18., 19.],\n",
       "        [20., 21., 22., 23.]]])"
      ]
     },
     "execution_count": 105,
     "metadata": {},
     "output_type": "execute_result"
    }
   ],
   "source": [
    "np.delete(d,0,axis=0)  # delete is the opposite to  insert "
   ]
  },
  {
   "cell_type": "code",
   "execution_count": 106,
   "id": "f4fcf580-a9f0-4146-b69d-4062b64a3f4e",
   "metadata": {},
   "outputs": [
    {
     "data": {
      "text/plain": [
       "array([[[ 0.,  2.,  3.],\n",
       "        [ 4.,  6.,  7.],\n",
       "        [ 8., 10., 11.]],\n",
       "\n",
       "       [[12., 14., 15.],\n",
       "        [16., 18., 19.],\n",
       "        [20., 22., 23.]]])"
      ]
     },
     "execution_count": 106,
     "metadata": {},
     "output_type": "execute_result"
    }
   ],
   "source": [
    "np.delete(d,1,axis=2)  # delete is the opposite to  insert "
   ]
  },
  {
   "cell_type": "code",
   "execution_count": null,
   "id": "704b3a9e-f3d3-4767-9db2-e29c36ecca8c",
   "metadata": {},
   "outputs": [],
   "source": []
  },
  {
   "cell_type": "code",
   "execution_count": null,
   "id": "ddaaa8d5-9344-42e9-8526-a2618a6256f8",
   "metadata": {},
   "outputs": [],
   "source": []
  },
  {
   "cell_type": "code",
   "execution_count": null,
   "id": "69c9dfed-179e-4d6e-9835-4cda6998a113",
   "metadata": {},
   "outputs": [],
   "source": []
  },
  {
   "cell_type": "code",
   "execution_count": null,
   "id": "4c4cceda-2d2d-411b-a72a-95eb7b4ac19e",
   "metadata": {},
   "outputs": [],
   "source": []
  }
 ],
 "metadata": {
  "kernelspec": {
   "display_name": "Python 3 (ipykernel)",
   "language": "python",
   "name": "python3"
  },
  "language_info": {
   "codemirror_mode": {
    "name": "ipython",
    "version": 3
   },
   "file_extension": ".py",
   "mimetype": "text/x-python",
   "name": "python",
   "nbconvert_exporter": "python",
   "pygments_lexer": "ipython3",
   "version": "3.12.4"
  }
 },
 "nbformat": 4,
 "nbformat_minor": 5
}

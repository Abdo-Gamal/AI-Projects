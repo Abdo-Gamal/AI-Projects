{
 "cells": [
  {
   "cell_type": "markdown",
   "id": "97670e4d-a0ce-4b23-b96b-b15369fbe6a1",
   "metadata": {},
   "source": [
    "You might wonder that numpy.linalg also provides us with functions that help to solve algebraic equations, so should we use numpy.linalg or scipy.linalg? The scipy.linalg contains all the functions that are in numpy.linalg, in addition it also has some other advanced functions that are not in numpy.linalg such as functions related to LU decomposition and the Schur decomposition, multiple ways of calculating the pseudoinverse, and matrix transcendentals such as the matrix logarithm. Another advantage of using scipy.linalg over numpy.linalg is that it has efficient low level implementations of standard linear algebra algorithms, so it's faster than numpy.\n"
   ]
  },
  {
   "cell_type": "markdown",
   "id": "43248dcd-4502-4f5c-bb0f-6560c8647bfb",
   "metadata": {},
   "source": [
    "# Solve Linear Equations"
   ]
  },
  {
   "cell_type": "code",
   "execution_count": 30,
   "id": "e1d2f196-192a-4e8a-90fb-f57d11cff63f",
   "metadata": {},
   "outputs": [],
   "source": [
    "import numpy as np\n",
    "from scipy import linalg\n",
    "from scipy import *"
   ]
  },
  {
   "cell_type": "code",
   "execution_count": 31,
   "id": "23daf26e-8367-4f8d-9b45-bac0d32822c8",
   "metadata": {},
   "outputs": [
    {
     "name": "stdout",
     "output_type": "stream",
     "text": [
      "[[ 2.5]\n",
      " [-2. ]\n",
      " [-0.5]]\n",
      "Checking Results, must be zero\n",
      "[[0.]\n",
      " [0.]\n",
      " [0.]]\n"
     ]
    }
   ],
   "source": [
    "\n",
    "# We are trying to solve a linear algebra system which can be given as \n",
    "#x + 2y 3z = -3\n",
    "#2x 5y+4z 13\n",
    "#5x + 4y-z = 5\n",
    "#We will find values of x,y and z for which all these equations are zero #Also finally we will check if the values are right by substituting them \n",
    "#in the equations\n",
    "# Creating input array\n",
    "a = np.array([[1, 2, 3], [2, -5, 4], [5, 4, -1]])\n",
    "# Solution Array\n",
    "b = np.array([[-3], [13], [5]])\n",
    "# Solve the Linear algebra\n",
    "X = linalg.solve(a, b)\n",
    "# Print results\n",
    "print(X)\n",
    "# Checking Results must be zero\n",
    "print(\"Checking Results, must be zero\")\n",
    "print(a.dot(X)-b)"
   ]
  },
  {
   "cell_type": "code",
   "execution_count": 32,
   "id": "b711a441-d2ba-49ef-a48e-705308504a4d",
   "metadata": {},
   "outputs": [
    {
     "data": {
      "text/plain": [
       "numpy.ndarray"
      ]
     },
     "execution_count": 32,
     "metadata": {},
     "output_type": "execute_result"
    }
   ],
   "source": [
    "type(X)"
   ]
  },
  {
   "cell_type": "markdown",
   "id": "469e0718-b01c-42fd-b69c-eacea8259f35",
   "metadata": {},
   "source": [
    "# Finding a determinant of a square matrix\n"
   ]
  },
  {
   "cell_type": "code",
   "execution_count": 33,
   "id": "3ce9b365-171d-4fc9-9149-d7af96653902",
   "metadata": {},
   "outputs": [
    {
     "name": "stdout",
     "output_type": "stream",
     "text": [
      "Determinant of \n",
      "[[1 2 9]\n",
      " [3 4 8]\n",
      " [7 8 4]] \n",
      " is 3.9999999999999902\n"
     ]
    }
   ],
   "source": [
    "#importing the scipy and numpy packages 2 from scipy import linalg\n",
    "import numpy as np\n",
    "\n",
    "#Declaring the numpy array\n",
    "A = np.array([[1,2,9], [3,4,8],[7,8,4]]) \n",
    "#Passing the values to the det function \n",
    "x = linalg.det(A)\n",
    "#printing the result\n",
    "print('Determinant of \\n{} \\n is {}'.format(A,x))\n"
   ]
  },
  {
   "cell_type": "markdown",
   "id": "b09a6de7-9fb4-49c5-90fa-87f3c45b32ab",
   "metadata": {},
   "source": [
    "# Eigenvalues and Eigenvectors"
   ]
  },
  {
   "cell_type": "code",
   "execution_count": 34,
   "id": "31a25938-1163-40f1-b77c-775606931ed6",
   "metadata": {},
   "outputs": [
    {
     "name": "stdout",
     "output_type": "stream",
     "text": [
      "[-1.+0.j  2.+0.j  1.+0.j]\n",
      "[[-0.57735027 -0.87287156  0.57735027]\n",
      " [ 0.57735027 -0.43643578  0.57735027]\n",
      " [-0.57735027 -0.21821789  0.57735027]]\n"
     ]
    }
   ],
   "source": [
    "#importing the scipy and numpy packages 2 from scipy import linalg\n",
    "import numpy as np\n",
    "#Declaring the numpy array\n",
    "\n",
    "#importing the scipy and numpy packages from scipy import linalg import numpy as np\n",
    "#Declaring the numpy array\n",
    "A = np.array([[2,1,-2], [1,0,0], [0,1,0]])\n",
    "#Passing the values to the eig function \n",
    "values, vectors = linalg.eig(A)\n",
    "#printing the result for eigenvalues \n",
    "print(values)\n",
    "#printing the result for eigenvectors \n",
    "print(vectors)"
   ]
  },
  {
   "cell_type": "markdown",
   "id": "83e71f9e-3652-48cd-85d4-48ad2f0ae588",
   "metadata": {},
   "source": [
    "# Performance of SciPy vs. NumPy\n",
    "Who will win?!\n"
   ]
  },
  {
   "cell_type": "code",
   "execution_count": 35,
   "id": "36aa76dd-0e4f-4aef-93e2-1cdfae1a7e8f",
   "metadata": {},
   "outputs": [
    {
     "data": {
      "text/plain": [
       "(3, 3)"
      ]
     },
     "execution_count": 35,
     "metadata": {},
     "output_type": "execute_result"
    }
   ],
   "source": [
    "coeff_array = np.array([[2, 5, 4], [1, -1, 4], [-4, 3, -1]])\n",
    "coeff_array.shape"
   ]
  },
  {
   "cell_type": "code",
   "execution_count": 36,
   "id": "e47e37a4-8a97-4356-bdaf-be23d78ce90e",
   "metadata": {},
   "outputs": [
    {
     "data": {
      "text/plain": [
       "(3, 1)"
      ]
     },
     "execution_count": 36,
     "metadata": {},
     "output_type": "execute_result"
    }
   ],
   "source": [
    "rh_side_array=np.array([[10], [20], [5]])\n",
    "rh_side_array.shape\n"
   ]
  },
  {
   "cell_type": "code",
   "execution_count": 37,
   "id": "c9c42f7c-899a-4f2f-9298-83897e141a53",
   "metadata": {},
   "outputs": [
    {
     "name": "stdout",
     "output_type": "stream",
     "text": [
      " Executed Time to solve by NumPy is 0.001001 seconds\n"
     ]
    }
   ],
   "source": [
    "import time\n",
    "start_time =time.time()\n",
    "np.linalg.solve(coeff_array, rh_side_array)\n",
    "print(''' Executed Time to solve by NumPy is %f seconds'''% (time.time() -start_time))"
   ]
  },
  {
   "cell_type": "code",
   "execution_count": 38,
   "id": "3410a4ab-44c1-41c7-b45e-753c52cfb9bf",
   "metadata": {},
   "outputs": [
    {
     "name": "stdout",
     "output_type": "stream",
     "text": [
      " Executed Time to solve by SciPy is 0.000989 seconds\n"
     ]
    }
   ],
   "source": [
    "import time\n",
    "from scipy import linalg\n",
    "start_time =time.time()\n",
    "linalg.solve(coeff_array, rh_side_array)\n",
    "print(''' Executed Time to solve by SciPy is %f seconds''' % (time.time() -start_time))"
   ]
  },
  {
   "cell_type": "code",
   "execution_count": null,
   "id": "d9f845a6-1215-4f7e-b835-e602c1a0865f",
   "metadata": {},
   "outputs": [],
   "source": []
  },
  {
   "cell_type": "code",
   "execution_count": null,
   "id": "c4c2d5ad-c12d-48f6-bd20-b362ff99f249",
   "metadata": {},
   "outputs": [],
   "source": []
  }
 ],
 "metadata": {
  "kernelspec": {
   "display_name": "Python 3 (ipykernel)",
   "language": "python",
   "name": "python3"
  },
  "language_info": {
   "codemirror_mode": {
    "name": "ipython",
    "version": 3
   },
   "file_extension": ".py",
   "mimetype": "text/x-python",
   "name": "python",
   "nbconvert_exporter": "python",
   "pygments_lexer": "ipython3",
   "version": "3.12.4"
  }
 },
 "nbformat": 4,
 "nbformat_minor": 5
}
